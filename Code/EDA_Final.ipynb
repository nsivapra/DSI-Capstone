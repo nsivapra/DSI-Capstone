{
 "cells": [
  {
   "cell_type": "markdown",
   "metadata": {},
   "source": [
    "# Articulate “Specific aim”"
   ]
  },
  {
   "cell_type": "markdown",
   "metadata": {},
   "source": [
    "The aim of this project will be to predict the number of refugees who find asylum in countries around the world. I will look into specific variables related to a countries profile (Ex: population, density, area rainfall (ml), GDP (US dollars), etc.)"
   ]
  },
  {
   "cell_type": "markdown",
   "metadata": {},
   "source": [
    "# Outline proposed methods and models"
   ]
  },
  {
   "cell_type": "markdown",
   "metadata": {},
   "source": [
    "Methods:\n",
    "    - Remove any outliers from the data that might skew the distribution\n",
    "    - Using the key and countries create a folium distribution mapping the refugees in 2010 and 2015\n",
    "    - After cleaning and EDA, find the variables and type of regressor model that best predicts the target variable\n",
    "    \n",
    "Models:\n",
    "    - Regression model predicting the number of Refugees in each country\n",
    "    - Decision Tree looking into different scenarios of options.\n",
    "    - Possible clustering looking into the Continent"
   ]
  },
  {
   "cell_type": "markdown",
   "metadata": {},
   "source": [
    "# Define risks & assumptions"
   ]
  },
  {
   "cell_type": "markdown",
   "metadata": {},
   "source": [
    "Risks: The risks include not cleaning the data well enough allowing for countries spelled differently to not contain Data. This will lead to multiple missing data rows, causing the model and EDA to be off. Another risk is the time range, having a small range might not show a range of difference, however this fix shouldn't be too difficult. A risk I currenly have is the rain dataset, some of the data range from 2010 to 2014 which isn't 100% accurate; however, this was one of the best data I could find for scrapping.\n",
    "\n",
    "Assumptions: One assumption I have made is to look into the years where there have been major political turmoil and wars. I have assumed these years to be 2010 to 2015. Some other assumptions include GDP in American Dollars (millions), Rainfall in ml, Area in miles, and Density in pop/mi."
   ]
  },
  {
   "cell_type": "markdown",
   "metadata": {},
   "source": [
    "# Describe data cleaning/munging techniques"
   ]
  },
  {
   "cell_type": "markdown",
   "metadata": {},
   "source": [
    "The main data cleaning will involve scrapping the data from the links and formatting them into a dataframe. However, I realized there were countries which were spelled differently amongst the dataframes. I found the difference between the dataframes and modified the cell values. After getting the individual dataframes of the attributes I did a left merge to include all the countries in the json file with the variable values. Other techniques involved changing a object numeric type to float, and removing unwanted character"
   ]
  },
  {
   "cell_type": "markdown",
   "metadata": {},
   "source": [
    "# Bonus"
   ]
  },
  {
   "cell_type": "markdown",
   "metadata": {},
   "source": [
    "Some additional datasets I found included statistics for the number of children out of school, and the cost of living based on US $. These datasets will show a relationship between a poor country and how many refugees they could allow into their country"
   ]
  },
  {
   "cell_type": "markdown",
   "metadata": {},
   "source": [
    "# Perform & summarize EDA"
   ]
  },
  {
   "cell_type": "code",
   "execution_count": 1,
   "metadata": {
    "collapsed": true
   },
   "outputs": [],
   "source": [
    "import requests\n",
    "from lxml import html\n",
    "import pandas as pd\n",
    "import numpy as np\n",
    "import seaborn as sns\n",
    "import matplotlib.pyplot as plt\n",
    "\n",
    "%matplotlib inline"
   ]
  },
  {
   "cell_type": "code",
   "execution_count": 2,
   "metadata": {
    "collapsed": true
   },
   "outputs": [],
   "source": [
    "refugees2015 = pd.read_csv('/Users/nsivapra/Desktop/DSI-SF-2-nsivapra/Capstone/Data/Refugees2015.csv', skiprows=2)\n",
    "refugees2010 = pd.read_csv('/Users/nsivapra/Desktop/DSI-SF-2-nsivapra/Capstone/Data/Refugees2010.csv', skiprows=2)\n",
    "\n",
    "#Rename and drop the columns listed below.\n",
    "refugees2010.rename(columns={'Country / territory of asylum/residence': 'Country', 'Refugees (incl. refugee-like situations)': 'Refugees_2010'}, inplace=True)\n",
    "refugees2015.rename(columns={'Country / territory of asylum/residence': 'Country', 'Refugees (incl. refugee-like situations)': 'Refugees_2015'}, inplace=True)\n",
    "refugees2010.drop(['Year', 'Origin'], axis = 1, inplace = True)\n",
    "refugees2015.drop(['Year', 'Origin'], axis = 1, inplace = True)\n",
    "\n",
    "#Change refugees value to a numeric type.\n",
    "refugees2015[\"Refugees_2015\"] = pd.to_numeric(refugees2015[\"Refugees_2015\"], errors='coerce')\n",
    "\n",
    "#Grouping the dataframe by Country and taking the Refugees sum.\n",
    "refugees2010 = refugees2010.groupby('Country')[['Refugees_2010']].sum()\n",
    "refugees2015 = refugees2015.groupby('Country')[['Refugees_2015']].sum()\n",
    "\n",
    "#Reset Index and fill nan's with 0.\n",
    "refugees2010.reset_index(inplace = True)\n",
    "refugees2015.reset_index(inplace = True)\n",
    "\n",
    "refugees2010 = refugees2010.fillna(0)\n",
    "refugees2015 = refugees2015.fillna(0)"
   ]
  },
  {
   "cell_type": "code",
   "execution_count": 3,
   "metadata": {
    "collapsed": true
   },
   "outputs": [],
   "source": [
    "#For sorting purposes I sorted the df by Country ascending.\n",
    "refugees2010.sort_values(by = 'Country', inplace = True)\n",
    "refugees2015.sort_values(by = 'Country', inplace = True)"
   ]
  },
  {
   "cell_type": "code",
   "execution_count": 4,
   "metadata": {
    "collapsed": true
   },
   "outputs": [],
   "source": [
    "#Using the json file I took the Key (Used in Folium) and the Country name\n",
    "import json\n",
    "from pprint import pprint\n",
    "\n",
    "with open('/Users/nsivapra/Desktop/DSI-SF-2-nsivapra/Capstone/Data/data.json') as data_file:    \n",
    "    data = json.load(data_file)\n",
    "    \n",
    "countryVal = []\n",
    "idVal = []\n",
    "i = 0\n",
    "while i < len(data['features']):\n",
    "    idVal.append(data['features'][i]['id'])\n",
    "    countryVal.append(data['features'][i]['properties']['name'])\n",
    "    i+=1\n",
    "    \n",
    "key = pd.DataFrame({'Country': countryVal, 'Key': idVal})"
   ]
  },
  {
   "cell_type": "code",
   "execution_count": 5,
   "metadata": {
    "collapsed": true
   },
   "outputs": [],
   "source": [
    "#Looking into the differences in Country names in refugees2010 and key\n",
    "refugee2010List = refugees2010['Country'].tolist()\n",
    "refugee2015List = refugees2015['Country'].tolist()\n",
    "keyList = key['Country'].tolist()\n",
    "s = set(keyList)\n",
    "diff_2010 = [x for x in refugee2010List if x not in s]\n",
    "diff_2015 = [x for x in refugee2015List if x not in s]"
   ]
  },
  {
   "cell_type": "code",
   "execution_count": 6,
   "metadata": {
    "collapsed": false
   },
   "outputs": [
    {
     "name": "stdout",
     "output_type": "stream",
     "text": [
      "['Aruba', 'Bahamas', 'Bahrain', 'Bolivia (Plurinational State of)', 'Bonaire', 'British Virgin Islands', 'Brunei Darussalam', 'Cayman Islands', 'Central African Rep.', 'China, Hong Kong SAR', 'China, Macao SAR', 'Congo', 'Cura\\xc3\\xa7ao', 'Czech Rep.', \"C\\xc3\\xb4te d'Ivoire\", 'Dem. Rep. of the Congo', 'Dominican Rep.', 'Grenada', 'Guinea-Bissau', 'Iran (Islamic Rep. of)', 'Liechtenstein', 'Malta', 'Monaco', 'Montserrat', 'Rep. of Korea', 'Rep. of Moldova', 'Russian Federation', 'Saint Lucia', 'Serbia and Kosovo (S/RES/1244 (1999))', 'Singapore', 'Sint Maarten (Dutch part)', 'Syrian Arab Rep.', 'The former Yugoslav Republic of Macedonia', 'Timor-Leste', 'Tonga', 'United Rep. of Tanzania', 'Venezuela (Bolivarian Republic of)', 'Viet Nam']\n"
     ]
    }
   ],
   "source": [
    "print diff_2010 #Difference located in refugee2010 but not key"
   ]
  },
  {
   "cell_type": "code",
   "execution_count": 7,
   "metadata": {
    "collapsed": false
   },
   "outputs": [
    {
     "name": "stdout",
     "output_type": "stream",
     "text": [
      "[u'Afghanistan', u'Angola', u'Albania', u'United Arab Emirates', u'Argentina', u'Armenia', u'Antarctica', u'French Southern and Antarctic Lands', u'Australia', u'Austria', u'Azerbaijan', u'Burundi', u'Belgium', u'Benin', u'Burkina Faso', u'Bangladesh', u'Bulgaria', u'The Bahamas', u'Bosnia and Herzegovina', u'Belarus', u'Belize', u'Bolivia', u'Brazil', u'Brunei', u'Bhutan', u'Botswana', u'Central African Republic', u'Canada', u'Switzerland', u'Chile', u'China', u'Ivory Coast', u'Cameroon', u'Democratic Republic of the Congo', u'Republic of the Congo', u'Colombia', u'Costa Rica', u'Cuba', u'Northern Cyprus', u'Cyprus', u'Czech Republic', u'Germany', u'Djibouti', u'Denmark', u'Dominican Republic', u'Algeria', u'Ecuador', u'Egypt', u'Eritrea', u'Spain', u'Estonia', u'Ethiopia', u'Finland', u'Fiji', u'Falkland Islands', u'France', u'Gabon', u'United Kingdom', u'Georgia', u'Ghana', u'Guinea', u'Gambia', u'Guinea Bissau', u'Equatorial Guinea', u'Greece', u'Greenland', u'Guatemala', u'Guyana', u'Honduras', u'Croatia', u'Haiti', u'Hungary', u'Indonesia', u'India', u'Ireland', u'Iran', u'Iraq', u'Iceland', u'Israel', u'Italy', u'Jamaica', u'Jordan', u'Japan', u'Kazakhstan', u'Kenya', u'Kyrgyzstan', u'Cambodia', u'South Korea', u'Kosovo', u'Kuwait', u'Laos', u'Lebanon', u'Liberia', u'Libya', u'Sri Lanka', u'Lesotho', u'Lithuania', u'Luxembourg', u'Latvia', u'Morocco', u'Moldova', u'Madagascar', u'Mexico', u'Macedonia', u'Mali', u'Myanmar', u'Montenegro', u'Mongolia', u'Mozambique', u'Mauritania', u'Malawi', u'Malaysia', u'Namibia', u'New Caledonia', u'Niger', u'Nigeria', u'Nicaragua', u'Netherlands', u'Norway', u'Nepal', u'New Zealand', u'Oman', u'Pakistan', u'Panama', u'Peru', u'Philippines', u'Papua New Guinea', u'Poland', u'Puerto Rico', u'North Korea', u'Portugal', u'Paraguay', u'Qatar', u'Romania', u'Russia', u'Rwanda', u'Western Sahara', u'Saudi Arabia', u'Sudan', u'South Sudan', u'Senegal', u'Solomon Islands', u'Sierra Leone', u'El Salvador', u'Somaliland', u'Somalia', u'Republic of Serbia', u'Suriname', u'Slovakia', u'Slovenia', u'Sweden', u'Swaziland', u'Syria', u'Chad', u'Togo', u'Thailand', u'Tajikistan', u'Turkmenistan', u'East Timor', u'Trinidad and Tobago', u'Tunisia', u'Turkey', u'Taiwan', u'United Republic of Tanzania', u'Uganda', u'Ukraine', u'Uruguay', u'United States of America', u'Uzbekistan', u'Venezuela', u'Vietnam', u'Vanuatu', u'West Bank', u'Yemen', u'South Africa', u'Zambia', u'Zimbabwe']\n"
     ]
    }
   ],
   "source": [
    "print keyList #Changed the diff_2010 to these countries."
   ]
  },
  {
   "cell_type": "code",
   "execution_count": 8,
   "metadata": {
    "collapsed": false
   },
   "outputs": [
    {
     "name": "stderr",
     "output_type": "stream",
     "text": [
      "/anaconda/envs/dsi/lib/python2.7/site-packages/ipykernel/__main__.py:2: SettingWithCopyWarning: \n",
      "A value is trying to be set on a copy of a slice from a DataFrame\n",
      "\n",
      "See the caveats in the documentation: http://pandas.pydata.org/pandas-docs/stable/indexing.html#indexing-view-versus-copy\n",
      "  from ipykernel import kernelapp as app\n",
      "/anaconda/envs/dsi/lib/python2.7/site-packages/ipykernel/__main__.py:3: SettingWithCopyWarning: \n",
      "A value is trying to be set on a copy of a slice from a DataFrame\n",
      "\n",
      "See the caveats in the documentation: http://pandas.pydata.org/pandas-docs/stable/indexing.html#indexing-view-versus-copy\n",
      "  app.launch_new_instance()\n",
      "/anaconda/envs/dsi/lib/python2.7/site-packages/ipykernel/__main__.py:4: SettingWithCopyWarning: \n",
      "A value is trying to be set on a copy of a slice from a DataFrame\n",
      "\n",
      "See the caveats in the documentation: http://pandas.pydata.org/pandas-docs/stable/indexing.html#indexing-view-versus-copy\n",
      "/anaconda/envs/dsi/lib/python2.7/site-packages/ipykernel/__main__.py:5: SettingWithCopyWarning: \n",
      "A value is trying to be set on a copy of a slice from a DataFrame\n",
      "\n",
      "See the caveats in the documentation: http://pandas.pydata.org/pandas-docs/stable/indexing.html#indexing-view-versus-copy\n",
      "/anaconda/envs/dsi/lib/python2.7/site-packages/ipykernel/__main__.py:6: SettingWithCopyWarning: \n",
      "A value is trying to be set on a copy of a slice from a DataFrame\n",
      "\n",
      "See the caveats in the documentation: http://pandas.pydata.org/pandas-docs/stable/indexing.html#indexing-view-versus-copy\n",
      "/anaconda/envs/dsi/lib/python2.7/site-packages/ipykernel/__main__.py:7: SettingWithCopyWarning: \n",
      "A value is trying to be set on a copy of a slice from a DataFrame\n",
      "\n",
      "See the caveats in the documentation: http://pandas.pydata.org/pandas-docs/stable/indexing.html#indexing-view-versus-copy\n",
      "/anaconda/envs/dsi/lib/python2.7/site-packages/ipykernel/__main__.py:8: SettingWithCopyWarning: \n",
      "A value is trying to be set on a copy of a slice from a DataFrame\n",
      "\n",
      "See the caveats in the documentation: http://pandas.pydata.org/pandas-docs/stable/indexing.html#indexing-view-versus-copy\n",
      "/anaconda/envs/dsi/lib/python2.7/site-packages/ipykernel/__main__.py:9: SettingWithCopyWarning: \n",
      "A value is trying to be set on a copy of a slice from a DataFrame\n",
      "\n",
      "See the caveats in the documentation: http://pandas.pydata.org/pandas-docs/stable/indexing.html#indexing-view-versus-copy\n",
      "/anaconda/envs/dsi/lib/python2.7/site-packages/ipykernel/__main__.py:10: SettingWithCopyWarning: \n",
      "A value is trying to be set on a copy of a slice from a DataFrame\n",
      "\n",
      "See the caveats in the documentation: http://pandas.pydata.org/pandas-docs/stable/indexing.html#indexing-view-versus-copy\n",
      "/anaconda/envs/dsi/lib/python2.7/site-packages/ipykernel/__main__.py:11: SettingWithCopyWarning: \n",
      "A value is trying to be set on a copy of a slice from a DataFrame\n",
      "\n",
      "See the caveats in the documentation: http://pandas.pydata.org/pandas-docs/stable/indexing.html#indexing-view-versus-copy\n",
      "/anaconda/envs/dsi/lib/python2.7/site-packages/ipykernel/__main__.py:12: SettingWithCopyWarning: \n",
      "A value is trying to be set on a copy of a slice from a DataFrame\n",
      "\n",
      "See the caveats in the documentation: http://pandas.pydata.org/pandas-docs/stable/indexing.html#indexing-view-versus-copy\n",
      "/anaconda/envs/dsi/lib/python2.7/site-packages/ipykernel/__main__.py:13: SettingWithCopyWarning: \n",
      "A value is trying to be set on a copy of a slice from a DataFrame\n",
      "\n",
      "See the caveats in the documentation: http://pandas.pydata.org/pandas-docs/stable/indexing.html#indexing-view-versus-copy\n",
      "/anaconda/envs/dsi/lib/python2.7/site-packages/ipykernel/__main__.py:14: SettingWithCopyWarning: \n",
      "A value is trying to be set on a copy of a slice from a DataFrame\n",
      "\n",
      "See the caveats in the documentation: http://pandas.pydata.org/pandas-docs/stable/indexing.html#indexing-view-versus-copy\n",
      "/anaconda/envs/dsi/lib/python2.7/site-packages/ipykernel/__main__.py:15: SettingWithCopyWarning: \n",
      "A value is trying to be set on a copy of a slice from a DataFrame\n",
      "\n",
      "See the caveats in the documentation: http://pandas.pydata.org/pandas-docs/stable/indexing.html#indexing-view-versus-copy\n",
      "/anaconda/envs/dsi/lib/python2.7/site-packages/ipykernel/__main__.py:16: SettingWithCopyWarning: \n",
      "A value is trying to be set on a copy of a slice from a DataFrame\n",
      "\n",
      "See the caveats in the documentation: http://pandas.pydata.org/pandas-docs/stable/indexing.html#indexing-view-versus-copy\n",
      "/anaconda/envs/dsi/lib/python2.7/site-packages/ipykernel/__main__.py:17: SettingWithCopyWarning: \n",
      "A value is trying to be set on a copy of a slice from a DataFrame\n",
      "\n",
      "See the caveats in the documentation: http://pandas.pydata.org/pandas-docs/stable/indexing.html#indexing-view-versus-copy\n",
      "/anaconda/envs/dsi/lib/python2.7/site-packages/ipykernel/__main__.py:20: SettingWithCopyWarning: \n",
      "A value is trying to be set on a copy of a slice from a DataFrame\n",
      "\n",
      "See the caveats in the documentation: http://pandas.pydata.org/pandas-docs/stable/indexing.html#indexing-view-versus-copy\n",
      "/anaconda/envs/dsi/lib/python2.7/site-packages/ipykernel/__main__.py:21: SettingWithCopyWarning: \n",
      "A value is trying to be set on a copy of a slice from a DataFrame\n",
      "\n",
      "See the caveats in the documentation: http://pandas.pydata.org/pandas-docs/stable/indexing.html#indexing-view-versus-copy\n",
      "/anaconda/envs/dsi/lib/python2.7/site-packages/ipykernel/__main__.py:22: SettingWithCopyWarning: \n",
      "A value is trying to be set on a copy of a slice from a DataFrame\n",
      "\n",
      "See the caveats in the documentation: http://pandas.pydata.org/pandas-docs/stable/indexing.html#indexing-view-versus-copy\n",
      "/anaconda/envs/dsi/lib/python2.7/site-packages/ipykernel/__main__.py:23: SettingWithCopyWarning: \n",
      "A value is trying to be set on a copy of a slice from a DataFrame\n",
      "\n",
      "See the caveats in the documentation: http://pandas.pydata.org/pandas-docs/stable/indexing.html#indexing-view-versus-copy\n",
      "/anaconda/envs/dsi/lib/python2.7/site-packages/ipykernel/__main__.py:24: SettingWithCopyWarning: \n",
      "A value is trying to be set on a copy of a slice from a DataFrame\n",
      "\n",
      "See the caveats in the documentation: http://pandas.pydata.org/pandas-docs/stable/indexing.html#indexing-view-versus-copy\n",
      "/anaconda/envs/dsi/lib/python2.7/site-packages/ipykernel/__main__.py:25: SettingWithCopyWarning: \n",
      "A value is trying to be set on a copy of a slice from a DataFrame\n",
      "\n",
      "See the caveats in the documentation: http://pandas.pydata.org/pandas-docs/stable/indexing.html#indexing-view-versus-copy\n",
      "/anaconda/envs/dsi/lib/python2.7/site-packages/ipykernel/__main__.py:26: SettingWithCopyWarning: \n",
      "A value is trying to be set on a copy of a slice from a DataFrame\n",
      "\n",
      "See the caveats in the documentation: http://pandas.pydata.org/pandas-docs/stable/indexing.html#indexing-view-versus-copy\n",
      "/anaconda/envs/dsi/lib/python2.7/site-packages/ipykernel/__main__.py:27: SettingWithCopyWarning: \n",
      "A value is trying to be set on a copy of a slice from a DataFrame\n",
      "\n",
      "See the caveats in the documentation: http://pandas.pydata.org/pandas-docs/stable/indexing.html#indexing-view-versus-copy\n",
      "/anaconda/envs/dsi/lib/python2.7/site-packages/ipykernel/__main__.py:28: SettingWithCopyWarning: \n",
      "A value is trying to be set on a copy of a slice from a DataFrame\n",
      "\n",
      "See the caveats in the documentation: http://pandas.pydata.org/pandas-docs/stable/indexing.html#indexing-view-versus-copy\n",
      "/anaconda/envs/dsi/lib/python2.7/site-packages/ipykernel/__main__.py:29: SettingWithCopyWarning: \n",
      "A value is trying to be set on a copy of a slice from a DataFrame\n",
      "\n",
      "See the caveats in the documentation: http://pandas.pydata.org/pandas-docs/stable/indexing.html#indexing-view-versus-copy\n",
      "/anaconda/envs/dsi/lib/python2.7/site-packages/ipykernel/__main__.py:30: SettingWithCopyWarning: \n",
      "A value is trying to be set on a copy of a slice from a DataFrame\n",
      "\n",
      "See the caveats in the documentation: http://pandas.pydata.org/pandas-docs/stable/indexing.html#indexing-view-versus-copy\n",
      "/anaconda/envs/dsi/lib/python2.7/site-packages/ipykernel/__main__.py:31: SettingWithCopyWarning: \n",
      "A value is trying to be set on a copy of a slice from a DataFrame\n",
      "\n",
      "See the caveats in the documentation: http://pandas.pydata.org/pandas-docs/stable/indexing.html#indexing-view-versus-copy\n",
      "/anaconda/envs/dsi/lib/python2.7/site-packages/ipykernel/__main__.py:32: SettingWithCopyWarning: \n",
      "A value is trying to be set on a copy of a slice from a DataFrame\n",
      "\n",
      "See the caveats in the documentation: http://pandas.pydata.org/pandas-docs/stable/indexing.html#indexing-view-versus-copy\n",
      "/anaconda/envs/dsi/lib/python2.7/site-packages/ipykernel/__main__.py:33: SettingWithCopyWarning: \n",
      "A value is trying to be set on a copy of a slice from a DataFrame\n",
      "\n",
      "See the caveats in the documentation: http://pandas.pydata.org/pandas-docs/stable/indexing.html#indexing-view-versus-copy\n",
      "/anaconda/envs/dsi/lib/python2.7/site-packages/ipykernel/__main__.py:34: SettingWithCopyWarning: \n",
      "A value is trying to be set on a copy of a slice from a DataFrame\n",
      "\n",
      "See the caveats in the documentation: http://pandas.pydata.org/pandas-docs/stable/indexing.html#indexing-view-versus-copy\n",
      "/anaconda/envs/dsi/lib/python2.7/site-packages/ipykernel/__main__.py:35: SettingWithCopyWarning: \n",
      "A value is trying to be set on a copy of a slice from a DataFrame\n",
      "\n",
      "See the caveats in the documentation: http://pandas.pydata.org/pandas-docs/stable/indexing.html#indexing-view-versus-copy\n",
      "/anaconda/envs/dsi/lib/python2.7/site-packages/ipykernel/__main__.py:36: SettingWithCopyWarning: \n",
      "A value is trying to be set on a copy of a slice from a DataFrame\n",
      "\n",
      "See the caveats in the documentation: http://pandas.pydata.org/pandas-docs/stable/indexing.html#indexing-view-versus-copy\n",
      "/anaconda/envs/dsi/lib/python2.7/site-packages/ipykernel/__main__.py:37: SettingWithCopyWarning: \n",
      "A value is trying to be set on a copy of a slice from a DataFrame\n",
      "\n",
      "See the caveats in the documentation: http://pandas.pydata.org/pandas-docs/stable/indexing.html#indexing-view-versus-copy\n"
     ]
    }
   ],
   "source": [
    "#Changing the Country's Name\n",
    "refugees2010['Country'][10] = 'The Bahamas'\n",
    "refugees2010['Country'][17] = 'Bolivia'\n",
    "refugees2010['Country'][23] = 'Brunei'\n",
    "refugees2010['Country'][31] = 'Central African Republic'\n",
    "refugees2010['Country'][38] = 'Republic of the Congo'\n",
    "refugees2010['Country'][44] = 'Czech Republic'\n",
    "refugees2010['Country'][46] = 'Democratic Republic of the Congo'\n",
    "refugees2010['Country'][49] = 'Dominican Republic'\n",
    "refugees2010['Country'][76] = 'Iran'\n",
    "refugees2010['Country'][127] = 'South Korea'\n",
    "refugees2010['Country'][130] = 'Russia'\n",
    "refugees2010['Country'][150] = 'Syria'\n",
    "refugees2010['Country'][153] = 'Macedonia'\n",
    "refugees2010['Country'][165] = 'United Republic of Tanzania'\n",
    "refugees2010['Country'][170] = 'Venezuela'\n",
    "refugees2010['Country'][171] = 'Vietnam'\n",
    "\n",
    "\n",
    "refugees2015['Country'][10] = 'The Bahamas'\n",
    "refugees2015['Country'][17] = 'Bolivia'\n",
    "refugees2015['Country'][21] = 'Brunei'\n",
    "refugees2015['Country'][30] = 'Central African Republic'\n",
    "refugees2015['Country'][36] = 'Republic of the Congo'\n",
    "refugees2015['Country'][41] = 'Czech Republic'\n",
    "refugees2015['Country'][43] = 'North Korea'\n",
    "refugees2015['Country'][44] = 'Democratic Republic of the Congo'\n",
    "refugees2015['Country'][47] = 'Dominican Republic'\n",
    "refugees2015['Country'][73] = 'Iran'\n",
    "refugees2015['Country'][126] = 'South Korea'\n",
    "refugees2015['Country'][127] = 'Moldova'\n",
    "refugees2015['Country'][129] = 'Russia'\n",
    "refugees2015['Country'][147] = 'Syria'\n",
    "refugees2015['Country'][150] = 'Macedonia'\n",
    "refugees2015['Country'][161] = 'United Republic of Tanzania'\n",
    "refugees2015['Country'][165] = 'Venezuela'\n",
    "refugees2015['Country'][166] = 'Vietnam'"
   ]
  },
  {
   "cell_type": "markdown",
   "metadata": {},
   "source": [
    "# Government"
   ]
  },
  {
   "cell_type": "code",
   "execution_count": 9,
   "metadata": {
    "collapsed": true
   },
   "outputs": [],
   "source": [
    "#Request the html for the country's government.\n",
    "page = requests.get('https://en.wikipedia.org/wiki/List_of_countries_by_system_of_government')\n",
    "tree = html.fromstring(page.text) \n",
    "\n",
    "#Xpath\n",
    "gov = tree.xpath(\"//div/div/table/tr/td[2]/text()\")\n",
    "country = tree.xpath(\"//div/div/table/tr/td/a/text()\")"
   ]
  },
  {
   "cell_type": "code",
   "execution_count": 10,
   "metadata": {
    "collapsed": false
   },
   "outputs": [],
   "source": [
    "country_sub = country[2:197]\n",
    "gov_sub = gov[0:195]\n",
    "gov = pd.DataFrame({'country' : country_sub, 'government' : gov_sub})\n",
    "gov.rename(columns = {'country':'Country'}, inplace = True)\n",
    "gov.sort_values(by = 'Country', inplace = True)"
   ]
  },
  {
   "cell_type": "code",
   "execution_count": 11,
   "metadata": {
    "collapsed": false
   },
   "outputs": [
    {
     "data": {
      "text/html": [
       "<div>\n",
       "<table border=\"1\" class=\"dataframe\">\n",
       "  <thead>\n",
       "    <tr style=\"text-align: right;\">\n",
       "      <th></th>\n",
       "      <th>Country</th>\n",
       "      <th>government</th>\n",
       "    </tr>\n",
       "  </thead>\n",
       "  <tbody>\n",
       "    <tr>\n",
       "      <th>0</th>\n",
       "      <td>Afghanistan</td>\n",
       "      <td>Republic</td>\n",
       "    </tr>\n",
       "    <tr>\n",
       "      <th>1</th>\n",
       "      <td>Albania</td>\n",
       "      <td>Republic</td>\n",
       "    </tr>\n",
       "    <tr>\n",
       "      <th>2</th>\n",
       "      <td>Algeria</td>\n",
       "      <td>Republic</td>\n",
       "    </tr>\n",
       "    <tr>\n",
       "      <th>3</th>\n",
       "      <td>Andorra</td>\n",
       "      <td>Constitutional monarchy</td>\n",
       "    </tr>\n",
       "    <tr>\n",
       "      <th>4</th>\n",
       "      <td>Angola</td>\n",
       "      <td>Republic</td>\n",
       "    </tr>\n",
       "    <tr>\n",
       "      <th>5</th>\n",
       "      <td>Antigua and Barbuda</td>\n",
       "      <td>Constitutional monarchy</td>\n",
       "    </tr>\n",
       "    <tr>\n",
       "      <th>6</th>\n",
       "      <td>Argentina</td>\n",
       "      <td>Republic</td>\n",
       "    </tr>\n",
       "    <tr>\n",
       "      <th>7</th>\n",
       "      <td>Armenia</td>\n",
       "      <td>Republic</td>\n",
       "    </tr>\n",
       "    <tr>\n",
       "      <th>8</th>\n",
       "      <td>Australia</td>\n",
       "      <td>Constitutional monarchy</td>\n",
       "    </tr>\n",
       "    <tr>\n",
       "      <th>9</th>\n",
       "      <td>Austria</td>\n",
       "      <td>Republic</td>\n",
       "    </tr>\n",
       "    <tr>\n",
       "      <th>10</th>\n",
       "      <td>Azerbaijan</td>\n",
       "      <td>Republic</td>\n",
       "    </tr>\n",
       "    <tr>\n",
       "      <th>11</th>\n",
       "      <td>Bahamas, The</td>\n",
       "      <td>Constitutional monarchy</td>\n",
       "    </tr>\n",
       "    <tr>\n",
       "      <th>12</th>\n",
       "      <td>Bahrain</td>\n",
       "      <td>Constitutional monarchy</td>\n",
       "    </tr>\n",
       "    <tr>\n",
       "      <th>13</th>\n",
       "      <td>Bangladesh</td>\n",
       "      <td>Republic</td>\n",
       "    </tr>\n",
       "    <tr>\n",
       "      <th>14</th>\n",
       "      <td>Barbados</td>\n",
       "      <td>Constitutional monarchy</td>\n",
       "    </tr>\n",
       "    <tr>\n",
       "      <th>15</th>\n",
       "      <td>Belarus</td>\n",
       "      <td>Republic</td>\n",
       "    </tr>\n",
       "    <tr>\n",
       "      <th>16</th>\n",
       "      <td>Belgium</td>\n",
       "      <td>Constitutional monarchy</td>\n",
       "    </tr>\n",
       "    <tr>\n",
       "      <th>17</th>\n",
       "      <td>Belize</td>\n",
       "      <td>Constitutional monarchy</td>\n",
       "    </tr>\n",
       "    <tr>\n",
       "      <th>18</th>\n",
       "      <td>Benin</td>\n",
       "      <td>Republic</td>\n",
       "    </tr>\n",
       "    <tr>\n",
       "      <th>19</th>\n",
       "      <td>Bhutan</td>\n",
       "      <td>Constitutional monarchy</td>\n",
       "    </tr>\n",
       "    <tr>\n",
       "      <th>20</th>\n",
       "      <td>Bolivia</td>\n",
       "      <td>Republic</td>\n",
       "    </tr>\n",
       "    <tr>\n",
       "      <th>21</th>\n",
       "      <td>Bosnia and Herzegovina</td>\n",
       "      <td>Republic</td>\n",
       "    </tr>\n",
       "    <tr>\n",
       "      <th>22</th>\n",
       "      <td>Botswana</td>\n",
       "      <td>Republic</td>\n",
       "    </tr>\n",
       "    <tr>\n",
       "      <th>23</th>\n",
       "      <td>Brazil</td>\n",
       "      <td>Republic</td>\n",
       "    </tr>\n",
       "    <tr>\n",
       "      <th>24</th>\n",
       "      <td>Brunei</td>\n",
       "      <td>Absolute monarchy</td>\n",
       "    </tr>\n",
       "    <tr>\n",
       "      <th>25</th>\n",
       "      <td>Bulgaria</td>\n",
       "      <td>Republic</td>\n",
       "    </tr>\n",
       "    <tr>\n",
       "      <th>26</th>\n",
       "      <td>Burkina Faso</td>\n",
       "      <td>Republic</td>\n",
       "    </tr>\n",
       "    <tr>\n",
       "      <th>27</th>\n",
       "      <td>Burundi</td>\n",
       "      <td>Republic</td>\n",
       "    </tr>\n",
       "    <tr>\n",
       "      <th>28</th>\n",
       "      <td>Cambodia</td>\n",
       "      <td>Constitutional monarchy</td>\n",
       "    </tr>\n",
       "    <tr>\n",
       "      <th>29</th>\n",
       "      <td>Cameroon</td>\n",
       "      <td>Republic</td>\n",
       "    </tr>\n",
       "    <tr>\n",
       "      <th>...</th>\n",
       "      <td>...</td>\n",
       "      <td>...</td>\n",
       "    </tr>\n",
       "    <tr>\n",
       "      <th>166</th>\n",
       "      <td>Sudan</td>\n",
       "      <td>Republic</td>\n",
       "    </tr>\n",
       "    <tr>\n",
       "      <th>167</th>\n",
       "      <td>Suriname</td>\n",
       "      <td>Republic</td>\n",
       "    </tr>\n",
       "    <tr>\n",
       "      <th>168</th>\n",
       "      <td>Swaziland</td>\n",
       "      <td>Absolute monarchy</td>\n",
       "    </tr>\n",
       "    <tr>\n",
       "      <th>169</th>\n",
       "      <td>Sweden</td>\n",
       "      <td>Constitutional monarchy</td>\n",
       "    </tr>\n",
       "    <tr>\n",
       "      <th>170</th>\n",
       "      <td>Switzerland</td>\n",
       "      <td>Republic</td>\n",
       "    </tr>\n",
       "    <tr>\n",
       "      <th>171</th>\n",
       "      <td>Syria</td>\n",
       "      <td>Republic</td>\n",
       "    </tr>\n",
       "    <tr>\n",
       "      <th>151</th>\n",
       "      <td>São Tomé and Príncipe</td>\n",
       "      <td>Republic</td>\n",
       "    </tr>\n",
       "    <tr>\n",
       "      <th>172</th>\n",
       "      <td>Tajikistan</td>\n",
       "      <td>Republic</td>\n",
       "    </tr>\n",
       "    <tr>\n",
       "      <th>173</th>\n",
       "      <td>Tanzania</td>\n",
       "      <td>Republic</td>\n",
       "    </tr>\n",
       "    <tr>\n",
       "      <th>174</th>\n",
       "      <td>Thailand</td>\n",
       "      <td>n/a</td>\n",
       "    </tr>\n",
       "    <tr>\n",
       "      <th>175</th>\n",
       "      <td>Togo</td>\n",
       "      <td>Republic</td>\n",
       "    </tr>\n",
       "    <tr>\n",
       "      <th>176</th>\n",
       "      <td>Tonga</td>\n",
       "      <td>Constitutional monarchy</td>\n",
       "    </tr>\n",
       "    <tr>\n",
       "      <th>177</th>\n",
       "      <td>Trinidad and Tobago</td>\n",
       "      <td>Republic</td>\n",
       "    </tr>\n",
       "    <tr>\n",
       "      <th>178</th>\n",
       "      <td>Tunisia</td>\n",
       "      <td>Republic</td>\n",
       "    </tr>\n",
       "    <tr>\n",
       "      <th>179</th>\n",
       "      <td>Turkey</td>\n",
       "      <td>Republic</td>\n",
       "    </tr>\n",
       "    <tr>\n",
       "      <th>180</th>\n",
       "      <td>Turkmenistan</td>\n",
       "      <td>Republic</td>\n",
       "    </tr>\n",
       "    <tr>\n",
       "      <th>181</th>\n",
       "      <td>Tuvalu</td>\n",
       "      <td>Constitutional monarchy</td>\n",
       "    </tr>\n",
       "    <tr>\n",
       "      <th>182</th>\n",
       "      <td>Uganda</td>\n",
       "      <td>Republic</td>\n",
       "    </tr>\n",
       "    <tr>\n",
       "      <th>183</th>\n",
       "      <td>Ukraine</td>\n",
       "      <td>Republic</td>\n",
       "    </tr>\n",
       "    <tr>\n",
       "      <th>184</th>\n",
       "      <td>United Arab Emirates</td>\n",
       "      <td>Absolute monarchy</td>\n",
       "    </tr>\n",
       "    <tr>\n",
       "      <th>185</th>\n",
       "      <td>United Kingdom</td>\n",
       "      <td>Constitutional monarchy</td>\n",
       "    </tr>\n",
       "    <tr>\n",
       "      <th>186</th>\n",
       "      <td>United States</td>\n",
       "      <td>Republic</td>\n",
       "    </tr>\n",
       "    <tr>\n",
       "      <th>187</th>\n",
       "      <td>Uruguay</td>\n",
       "      <td>Republic</td>\n",
       "    </tr>\n",
       "    <tr>\n",
       "      <th>188</th>\n",
       "      <td>Uzbekistan</td>\n",
       "      <td>Republic</td>\n",
       "    </tr>\n",
       "    <tr>\n",
       "      <th>189</th>\n",
       "      <td>Vanuatu</td>\n",
       "      <td>Republic</td>\n",
       "    </tr>\n",
       "    <tr>\n",
       "      <th>190</th>\n",
       "      <td>Venezuela</td>\n",
       "      <td>Republic</td>\n",
       "    </tr>\n",
       "    <tr>\n",
       "      <th>191</th>\n",
       "      <td>Vietnam</td>\n",
       "      <td>Republic</td>\n",
       "    </tr>\n",
       "    <tr>\n",
       "      <th>192</th>\n",
       "      <td>Yemen</td>\n",
       "      <td>Republic</td>\n",
       "    </tr>\n",
       "    <tr>\n",
       "      <th>193</th>\n",
       "      <td>Zambia</td>\n",
       "      <td>Republic</td>\n",
       "    </tr>\n",
       "    <tr>\n",
       "      <th>194</th>\n",
       "      <td>Zimbabwe</td>\n",
       "      <td>Republic</td>\n",
       "    </tr>\n",
       "  </tbody>\n",
       "</table>\n",
       "<p>195 rows × 2 columns</p>\n",
       "</div>"
      ],
      "text/plain": [
       "                    Country               government\n",
       "0               Afghanistan                 Republic\n",
       "1                   Albania                 Republic\n",
       "2                   Algeria                 Republic\n",
       "3                   Andorra  Constitutional monarchy\n",
       "4                    Angola                 Republic\n",
       "5       Antigua and Barbuda  Constitutional monarchy\n",
       "6                 Argentina                 Republic\n",
       "7                   Armenia                 Republic\n",
       "8                 Australia  Constitutional monarchy\n",
       "9                   Austria                 Republic\n",
       "10               Azerbaijan                 Republic\n",
       "11             Bahamas, The  Constitutional monarchy\n",
       "12                  Bahrain  Constitutional monarchy\n",
       "13               Bangladesh                 Republic\n",
       "14                 Barbados  Constitutional monarchy\n",
       "15                  Belarus                 Republic\n",
       "16                  Belgium  Constitutional monarchy\n",
       "17                   Belize  Constitutional monarchy\n",
       "18                    Benin                 Republic\n",
       "19                   Bhutan  Constitutional monarchy\n",
       "20                  Bolivia                 Republic\n",
       "21   Bosnia and Herzegovina                 Republic\n",
       "22                 Botswana                 Republic\n",
       "23                   Brazil                 Republic\n",
       "24                   Brunei        Absolute monarchy\n",
       "25                 Bulgaria                 Republic\n",
       "26             Burkina Faso                 Republic\n",
       "27                  Burundi                 Republic\n",
       "28                 Cambodia  Constitutional monarchy\n",
       "29                 Cameroon                 Republic\n",
       "..                      ...                      ...\n",
       "166                   Sudan                 Republic\n",
       "167                Suriname                 Republic\n",
       "168               Swaziland        Absolute monarchy\n",
       "169                  Sweden  Constitutional monarchy\n",
       "170             Switzerland                 Republic\n",
       "171                   Syria                 Republic\n",
       "151   São Tomé and Príncipe                 Republic\n",
       "172              Tajikistan                 Republic\n",
       "173                Tanzania                 Republic\n",
       "174                Thailand                      n/a\n",
       "175                    Togo                 Republic\n",
       "176                   Tonga  Constitutional monarchy\n",
       "177     Trinidad and Tobago                 Republic\n",
       "178                 Tunisia                 Republic\n",
       "179                  Turkey                 Republic\n",
       "180            Turkmenistan                 Republic\n",
       "181                  Tuvalu  Constitutional monarchy\n",
       "182                  Uganda                 Republic\n",
       "183                 Ukraine                 Republic\n",
       "184    United Arab Emirates        Absolute monarchy\n",
       "185          United Kingdom  Constitutional monarchy\n",
       "186           United States                 Republic\n",
       "187                 Uruguay                 Republic\n",
       "188              Uzbekistan                 Republic\n",
       "189                 Vanuatu                 Republic\n",
       "190               Venezuela                 Republic\n",
       "191                 Vietnam                 Republic\n",
       "192                   Yemen                 Republic\n",
       "193                  Zambia                 Republic\n",
       "194                Zimbabwe                 Republic\n",
       "\n",
       "[195 rows x 2 columns]"
      ]
     },
     "execution_count": 11,
     "metadata": {},
     "output_type": "execute_result"
    }
   ],
   "source": [
    "gov"
   ]
  },
  {
   "cell_type": "code",
   "execution_count": 12,
   "metadata": {
    "collapsed": true
   },
   "outputs": [],
   "source": [
    "#Seeing the difference between government Country and refugee Country\n",
    "\n",
    "refugee2010List = refugees2010['Country'].tolist()\n",
    "refugee2015List = refugees2015['Country'].tolist()\n",
    "govList = gov['Country'].tolist()\n",
    "s = set(refugee2010List)\n",
    "s2 = set(refugee2015List)\n",
    "diff_2010 = [x for x in govList if x not in s]\n",
    "diff_2015 = [x for x in govList if x not in s2]"
   ]
  },
  {
   "cell_type": "code",
   "execution_count": 13,
   "metadata": {
    "collapsed": false
   },
   "outputs": [
    {
     "name": "stdout",
     "output_type": "stream",
     "text": [
      "['Andorra', 'Antigua and Barbuda', 'Bahamas, The', 'Barbados', 'Bhutan', 'Cape Verde', \"China, People's Republic of\", 'Comoros', 'Congo', u\"C\\xf4te d'Ivoire\", 'Dominica', 'East Timor', 'Equatorial Guinea', 'Federated States of Micronesia', 'Gambia, The', 'Holy See', 'Kiribati', 'Korea, North', 'Korea, South', 'Laos', 'Lesotho', 'Maldives', 'Marshall Islands', 'Mauritius', 'Moldova', 'Nauru', 'Palau', 'Palestine', 'Saint Kitts and Nevis', 'Saint Vincent and the Grenadines', 'Samoa', 'San Marino', 'Serbia', 'Seychelles', 'Solomon Islands', 'South Sudan', u'S\\xe3o Tom\\xe9 and Pr\\xedncipe', 'Tanzania', 'Tuvalu', 'United States']\n"
     ]
    }
   ],
   "source": [
    "print diff_2010 #In Refugee2010 but not in govList"
   ]
  },
  {
   "cell_type": "code",
   "execution_count": 14,
   "metadata": {
    "collapsed": false
   },
   "outputs": [
    {
     "name": "stdout",
     "output_type": "stream",
     "text": [
      "['Afghanistan', 'Albania', 'Algeria', 'Andorra', 'Angola', 'Antigua and Barbuda', 'Argentina', 'Armenia', 'Australia', 'Austria', 'Azerbaijan', 'Bahamas, The', 'Bahrain', 'Bangladesh', 'Barbados', 'Belarus', 'Belgium', 'Belize', 'Benin', 'Bhutan', 'Bolivia', 'Bosnia and Herzegovina', 'Botswana', 'Brazil', 'Brunei', 'Bulgaria', 'Burkina Faso', 'Burundi', 'Cambodia', 'Cameroon', 'Canada', 'Cape Verde', 'Central African Republic', 'Chad', 'Chile', \"China, People's Republic of\", 'Colombia', 'Comoros', 'Congo', 'Costa Rica', 'Croatia', 'Cuba', 'Cyprus', 'Czech Republic', u\"C\\xf4te d'Ivoire\", 'Democratic Republic of the Congo', 'Denmark', 'Djibouti', 'Dominica', 'Dominican Republic', 'East Timor', 'Ecuador', 'Egypt', 'El Salvador', 'Equatorial Guinea', 'Eritrea', 'Estonia', 'Ethiopia', 'Federated States of Micronesia', 'Fiji', 'Finland', 'France', 'Gabon', 'Gambia, The', 'Georgia', 'Germany', 'Ghana', 'Greece', 'Grenada', 'Guatemala', 'Guinea', 'Guinea-Bissau', 'Guyana', 'Haiti', 'Holy See', 'Honduras', 'Hungary', 'Iceland', 'India', 'Indonesia', 'Iran', 'Iraq', 'Ireland', 'Israel', 'Italy', 'Jamaica', 'Japan', 'Jordan', 'Kazakhstan', 'Kenya', 'Kiribati', 'Korea, North', 'Korea, South', 'Kuwait', 'Kyrgyzstan', 'Laos', 'Latvia', 'Lebanon', 'Lesotho', 'Liberia', 'Libya', 'Liechtenstein', 'Lithuania', 'Luxembourg', 'Macedonia', 'Madagascar', 'Malawi', 'Malaysia', 'Maldives', 'Mali', 'Malta', 'Marshall Islands', 'Mauritania', 'Mauritius', 'Mexico', 'Moldova', 'Monaco', 'Mongolia', 'Montenegro', 'Morocco', 'Mozambique', 'Myanmar', 'Namibia', 'Nauru', 'Nepal', 'Netherlands', 'New Zealand', 'Nicaragua', 'Niger', 'Nigeria', 'Norway', 'Oman', 'Pakistan', 'Palau', 'Palestine', 'Panama', 'Papua New Guinea', 'Paraguay', 'Peru', 'Philippines', 'Poland', 'Portugal', 'Qatar', 'Romania', 'Russia', 'Rwanda', 'Saint Kitts and Nevis', 'Saint Lucia', 'Saint Vincent and the Grenadines', 'Samoa', 'San Marino', 'Saudi Arabia', 'Senegal', 'Serbia', 'Seychelles', 'Sierra Leone', 'Singapore', 'Slovakia', 'Slovenia', 'Solomon Islands', 'Somalia', 'South Africa', 'South Sudan', 'Spain', 'Sri Lanka', 'Sudan', 'Suriname', 'Swaziland', 'Sweden', 'Switzerland', 'Syria', u'S\\xe3o Tom\\xe9 and Pr\\xedncipe', 'Tajikistan', 'Tanzania', 'Thailand', 'Togo', 'Tonga', 'Trinidad and Tobago', 'Tunisia', 'Turkey', 'Turkmenistan', 'Tuvalu', 'Uganda', 'Ukraine', 'United Arab Emirates', 'United Kingdom', 'United States', 'Uruguay', 'Uzbekistan', 'Vanuatu', 'Venezuela', 'Vietnam', 'Yemen', 'Zambia', 'Zimbabwe']\n"
     ]
    }
   ],
   "source": [
    "print govList"
   ]
  },
  {
   "cell_type": "code",
   "execution_count": 15,
   "metadata": {
    "collapsed": true
   },
   "outputs": [],
   "source": [
    "#Rename the countrys\n",
    "gov['Country'][11] = 'The Bahamas'\n",
    "gov['Country'][35] = 'China'\n",
    "gov['Country'][38] = 'Republic of the Congo'\n",
    "gov['Country'][62] = 'Gambia'\n",
    "gov['Country'][90] = 'North Korea'\n",
    "gov['Country'][91] = 'South Korea'\n",
    "gov['Country'][173] = 'United Republic of Tanzania'\n",
    "gov['Country'][186] = 'United States of America'"
   ]
  },
  {
   "cell_type": "markdown",
   "metadata": {},
   "source": [
    "# GDP"
   ]
  },
  {
   "cell_type": "code",
   "execution_count": 16,
   "metadata": {
    "collapsed": true
   },
   "outputs": [],
   "source": [
    "#Read an excel file by sheet\n",
    "GDP_1 = pd.read_excel('/Users/nsivapra/Desktop/DSI-SF-2-nsivapra/Capstone/Data/GDP.xlsx', sheetname='page 1')\n",
    "GDP_2 = pd.read_excel('/Users/nsivapra/Desktop/DSI-SF-2-nsivapra/Capstone/Data/GDP.xlsx', sheetname='page 2')\n",
    "GDP_3 = pd.read_excel('/Users/nsivapra/Desktop/DSI-SF-2-nsivapra/Capstone/Data/GDP.xlsx', sheetname='page 3')\n",
    "GDP_4 = pd.read_excel('/Users/nsivapra/Desktop/DSI-SF-2-nsivapra/Capstone/Data/GDP.xlsx', sheetname='page 4')\n",
    "\n",
    "#Concat the sheets into a dataframe\n",
    "frames = [GDP_1, GDP_2, GDP_3, GDP_4]\n",
    "GDP = pd.concat(frames)\n",
    "\n",
    "GDP.drop(['Ranking', 'Unnamed: 1', 'Unnamed: 4'], axis=1, inplace=True)\n",
    "\n",
    "GDP = GDP[0:195]\n",
    "\n",
    "#Convert the dataframe column to a numeric type\n",
    "GDP[\"(millions of\\nUS dollars)\"] = GDP[\"(millions of\\nUS dollars)\"].str.replace(\",\",\"\")\n",
    "GDP[\"(millions of\\nUS dollars)\"] = pd.to_numeric(GDP[\"(millions of\\nUS dollars)\"], errors = 'coerce')\n",
    "\n",
    "#Fill the GDP with 0, rename column, and sort for reference use.\n",
    "GDP = GDP.fillna(0)\n",
    "GDP.rename(columns = {'Economy': 'Country'}, inplace=True)\n",
    "GDP.sort_values(by = 'Country', inplace = True)"
   ]
  },
  {
   "cell_type": "code",
   "execution_count": 17,
   "metadata": {
    "collapsed": true
   },
   "outputs": [],
   "source": [
    "refugee2010List = refugees2010['Country'].tolist()\n",
    "refugee2015List = refugees2015['Country'].tolist()\n",
    "GDPList = GDP['Country'].tolist()\n",
    "s = set(refugee2010List)\n",
    "s2 = set(refugee2015List)\n",
    "diff_2010 = [x for x in GDPList if x not in s]\n",
    "diff_2015 = [x for x in GDPList if x not in s2]"
   ]
  },
  {
   "cell_type": "code",
   "execution_count": 18,
   "metadata": {
    "collapsed": false
   },
   "outputs": [
    {
     "name": "stdout",
     "output_type": "stream",
     "text": [
      "[u'Andorra', u'Antigua and Barbuda', u'Bahamas, The', u'Barbados', u'Bermuda', u'Bhutan', u'Brunei Darussalam', u'Cabo Verde', u'Comoros', u'Congo, Dem. Rep.', u'Congo, Rep.', u\"C\\xf4te d'Ivoire\", u'Dominica', u'Egypt, Arab Rep.', u'Equatorial Guinea', u'Faroe Islands', u'Gambia, The', u'Greenland', u'Hong Kong SAR, China', u'Iran, Islamic Rep.', u'Isle of Man', u'Kiribati', u'Korea, Rep.', u'Kosovo', u'Kyrgyz Republic', u'Lao PDR', u'Lesotho', u'Macao SAR, China', u'Macedonia, FYR', u'Maldives', u'Marshall Islands', u'Mauritius', u'Micronesia, Fed. Sts.', u'Moldova', u'Palau', u'Puerto Rico', u'Russian Federation', u'Samoa', u'Serbia', u'Seychelles', u'Slovak Republic', u'Solomon Islands', u'South Sudan', u'St. Kitts and Nevis', u'St. Lucia', u'St. Vincent and the Grenadines', u'S\\xe3o Tom\\xe9 and Principe', u'Tanzania', u'Tuvalu', u'United States', u'Venezuela, RB', u'West Bank and Gaza', u'Yemen, Rep.']\n"
     ]
    }
   ],
   "source": [
    "print diff_2010 #Countrys contained in refugee2010"
   ]
  },
  {
   "cell_type": "code",
   "execution_count": 19,
   "metadata": {
    "collapsed": false
   },
   "outputs": [
    {
     "name": "stdout",
     "output_type": "stream",
     "text": [
      "[u'Afghanistan', u'Albania', u'Algeria', u'Andorra', u'Angola', u'Antigua and Barbuda', u'Argentina', u'Armenia', u'Australia', u'Austria', u'Azerbaijan', u'Bahamas, The', u'Bahrain', u'Bangladesh', u'Barbados', u'Belarus', u'Belgium', u'Belize', u'Benin', u'Bermuda', u'Bhutan', u'Bolivia', u'Bosnia and Herzegovina', u'Botswana', u'Brazil', u'Brunei Darussalam', u'Bulgaria', u'Burkina Faso', u'Burundi', u'Cabo Verde', u'Cambodia', u'Cameroon', u'Canada', u'Central African Republic', u'Chad', u'Chile', u'China', u'Colombia', u'Comoros', u'Congo, Dem. Rep.', u'Congo, Rep.', u'Costa Rica', u'Croatia', u'Cuba', u'Cyprus', u'Czech Republic', u\"C\\xf4te d'Ivoire\", u'Denmark', u'Djibouti', u'Dominica', u'Dominican Republic', u'Ecuador', u'Egypt, Arab Rep.', u'El Salvador', u'Equatorial Guinea', u'Estonia', u'Ethiopia', u'Faroe Islands', u'Fiji', u'Finland', u'France', u'Gabon', u'Gambia, The', u'Georgia', u'Germany', u'Ghana', u'Greece', u'Greenland', u'Grenada', u'Guatemala', u'Guinea', u'Guinea-Bissau', u'Guyana', u'Haiti', u'Honduras', u'Hong Kong SAR, China', u'Hungary', u'Iceland', u'India', u'Indonesia', u'Iran, Islamic Rep.', u'Iraq', u'Ireland', u'Isle of Man', u'Israel', u'Italy', u'Jamaica', u'Japan', u'Jordan', u'Kazakhstan', u'Kenya', u'Kiribati', u'Korea, Rep.', u'Kosovo', u'Kuwait', u'Kyrgyz Republic', u'Lao PDR', u'Latvia', u'Lebanon', u'Lesotho', u'Liberia', u'Libya', u'Lithuania', u'Luxembourg', u'Macao SAR, China', u'Macedonia, FYR', u'Madagascar', u'Malawi', u'Malaysia', u'Maldives', u'Mali', u'Malta', u'Marshall Islands', u'Mauritania', u'Mauritius', u'Mexico', u'Micronesia, Fed. Sts.', u'Moldova', u'Mongolia', u'Montenegro', u'Morocco', u'Mozambique', u'Myanmar', u'Namibia', u'Nepal', u'Netherlands', u'New Zealand', u'Nicaragua', u'Niger', u'Nigeria', u'Norway', u'Oman', u'Pakistan', u'Palau', u'Panama', u'Papua New Guinea', u'Paraguay', u'Peru', u'Philippines', u'Poland', u'Portugal', u'Puerto Rico', u'Qatar', u'Romania', u'Russian Federation', u'Rwanda', u'Samoa', u'Saudi Arabia', u'Senegal', u'Serbia', u'Seychelles', u'Sierra Leone', u'Singapore', u'Slovak Republic', u'Slovenia', u'Solomon Islands', u'Somalia', u'South Africa', u'South Sudan', u'Spain', u'Sri Lanka', u'St. Kitts and Nevis', u'St. Lucia', u'St. Vincent and the Grenadines', u'Sudan', u'Suriname', u'Swaziland', u'Sweden', u'Switzerland', u'S\\xe3o Tom\\xe9 and Principe', u'Tajikistan', u'Tanzania', u'Thailand', u'Timor-Leste', u'Togo', u'Tonga', u'Trinidad and Tobago', u'Tunisia', u'Turkey', u'Turkmenistan', u'Tuvalu', u'Uganda', u'Ukraine', u'United Arab Emirates', u'United Kingdom', u'United States', u'Uruguay', u'Uzbekistan', u'Vanuatu', u'Venezuela, RB', u'Vietnam', u'West Bank and Gaza', u'Yemen, Rep.', u'Zambia', u'Zimbabwe']\n"
     ]
    }
   ],
   "source": [
    "print GDPList #Refernce for renaming the countries."
   ]
  },
  {
   "cell_type": "code",
   "execution_count": 20,
   "metadata": {
    "collapsed": false
   },
   "outputs": [
    {
     "name": "stderr",
     "output_type": "stream",
     "text": [
      "/anaconda/envs/dsi/lib/python2.7/site-packages/ipykernel/__main__.py:4: SettingWithCopyWarning: \n",
      "A value is trying to be set on a copy of a slice from a DataFrame\n",
      "\n",
      "See the caveats in the documentation: http://pandas.pydata.org/pandas-docs/stable/indexing.html#indexing-view-versus-copy\n",
      "/anaconda/envs/dsi/lib/python2.7/site-packages/ipykernel/__main__.py:5: SettingWithCopyWarning: \n",
      "A value is trying to be set on a copy of a slice from a DataFrame\n",
      "\n",
      "See the caveats in the documentation: http://pandas.pydata.org/pandas-docs/stable/indexing.html#indexing-view-versus-copy\n",
      "/anaconda/envs/dsi/lib/python2.7/site-packages/ipykernel/__main__.py:6: SettingWithCopyWarning: \n",
      "A value is trying to be set on a copy of a slice from a DataFrame\n",
      "\n",
      "See the caveats in the documentation: http://pandas.pydata.org/pandas-docs/stable/indexing.html#indexing-view-versus-copy\n",
      "/anaconda/envs/dsi/lib/python2.7/site-packages/ipykernel/__main__.py:7: SettingWithCopyWarning: \n",
      "A value is trying to be set on a copy of a slice from a DataFrame\n",
      "\n",
      "See the caveats in the documentation: http://pandas.pydata.org/pandas-docs/stable/indexing.html#indexing-view-versus-copy\n",
      "/anaconda/envs/dsi/lib/python2.7/site-packages/ipykernel/__main__.py:8: SettingWithCopyWarning: \n",
      "A value is trying to be set on a copy of a slice from a DataFrame\n",
      "\n",
      "See the caveats in the documentation: http://pandas.pydata.org/pandas-docs/stable/indexing.html#indexing-view-versus-copy\n",
      "/anaconda/envs/dsi/lib/python2.7/site-packages/ipykernel/__main__.py:9: SettingWithCopyWarning: \n",
      "A value is trying to be set on a copy of a slice from a DataFrame\n",
      "\n",
      "See the caveats in the documentation: http://pandas.pydata.org/pandas-docs/stable/indexing.html#indexing-view-versus-copy\n",
      "/anaconda/envs/dsi/lib/python2.7/site-packages/ipykernel/__main__.py:10: SettingWithCopyWarning: \n",
      "A value is trying to be set on a copy of a slice from a DataFrame\n",
      "\n",
      "See the caveats in the documentation: http://pandas.pydata.org/pandas-docs/stable/indexing.html#indexing-view-versus-copy\n",
      "/anaconda/envs/dsi/lib/python2.7/site-packages/ipykernel/__main__.py:11: SettingWithCopyWarning: \n",
      "A value is trying to be set on a copy of a slice from a DataFrame\n",
      "\n",
      "See the caveats in the documentation: http://pandas.pydata.org/pandas-docs/stable/indexing.html#indexing-view-versus-copy\n",
      "/anaconda/envs/dsi/lib/python2.7/site-packages/ipykernel/__main__.py:12: SettingWithCopyWarning: \n",
      "A value is trying to be set on a copy of a slice from a DataFrame\n",
      "\n",
      "See the caveats in the documentation: http://pandas.pydata.org/pandas-docs/stable/indexing.html#indexing-view-versus-copy\n",
      "/anaconda/envs/dsi/lib/python2.7/site-packages/ipykernel/__main__.py:13: SettingWithCopyWarning: \n",
      "A value is trying to be set on a copy of a slice from a DataFrame\n",
      "\n",
      "See the caveats in the documentation: http://pandas.pydata.org/pandas-docs/stable/indexing.html#indexing-view-versus-copy\n",
      "/anaconda/envs/dsi/lib/python2.7/site-packages/ipykernel/__main__.py:14: SettingWithCopyWarning: \n",
      "A value is trying to be set on a copy of a slice from a DataFrame\n",
      "\n",
      "See the caveats in the documentation: http://pandas.pydata.org/pandas-docs/stable/indexing.html#indexing-view-versus-copy\n",
      "/anaconda/envs/dsi/lib/python2.7/site-packages/ipykernel/__main__.py:15: SettingWithCopyWarning: \n",
      "A value is trying to be set on a copy of a slice from a DataFrame\n",
      "\n",
      "See the caveats in the documentation: http://pandas.pydata.org/pandas-docs/stable/indexing.html#indexing-view-versus-copy\n",
      "/anaconda/envs/dsi/lib/python2.7/site-packages/ipykernel/__main__.py:16: SettingWithCopyWarning: \n",
      "A value is trying to be set on a copy of a slice from a DataFrame\n",
      "\n",
      "See the caveats in the documentation: http://pandas.pydata.org/pandas-docs/stable/indexing.html#indexing-view-versus-copy\n"
     ]
    }
   ],
   "source": [
    "GDP.reset_index(inplace = True)\n",
    "\n",
    "#Rename the country values\n",
    "GDP['Country'][11] = 'The Bahamas'\n",
    "GDP['Country'][25] = 'Brunei'\n",
    "GDP['Country'][39] = 'Democratic Republic of the Congo'\n",
    "GDP['Country'][40] = 'Republic of the Congo'\n",
    "GDP['Country'][52] = 'Egypt'\n",
    "GDP['Country'][62] = 'Gambia'\n",
    "GDP['Country'][80] = 'Iran'\n",
    "GDP['Country'][92] = 'South Korea'\n",
    "GDP['Country'][144] = 'Russia'\n",
    "GDP['Country'][171] = 'Tanzania'\n",
    "GDP['Country'][185] = 'United States of America'\n",
    "GDP['Country'][189] = 'Venezuela'\n",
    "GDP['Country'][192] = 'Yemen'"
   ]
  },
  {
   "cell_type": "markdown",
   "metadata": {},
   "source": [
    "# Immigrant Population"
   ]
  },
  {
   "cell_type": "code",
   "execution_count": 21,
   "metadata": {
    "collapsed": true
   },
   "outputs": [],
   "source": [
    "#Read the html link and return the population, country\n",
    "page = requests.get('https://en.wikipedia.org/wiki/List_of_countries_by_immigrant_population')\n",
    "tree = html.fromstring(page.text)\n",
    "\n",
    "population = tree.xpath('//div/div/table[1]/tr/td[2]/text()')\n",
    "popfirst = tree.xpath('//div/div/table[1]/tr/td[2]/span/text()')\n",
    "country = tree.xpath('//div/div/table[1]/tr/td[1]/a/text()')"
   ]
  },
  {
   "cell_type": "code",
   "execution_count": 22,
   "metadata": {
    "collapsed": true
   },
   "outputs": [],
   "source": [
    "popfirst = popfirst[0]\n",
    "population = [popfirst] + population \n",
    "#The xpath didn't return the first value so I appended it to the list at the front."
   ]
  },
  {
   "cell_type": "code",
   "execution_count": 23,
   "metadata": {
    "collapsed": true
   },
   "outputs": [],
   "source": [
    "#Subsetting the population and later on adding them.\n",
    "p1 = population[0:20]\n",
    "p2 = population[21:76]\n",
    "p3 = population[77:116]\n",
    "p4 = population[117:125]\n",
    "p5 = population[126:129]\n",
    "p6 = population[130:135]\n",
    "p7 = population[137:139]\n",
    "p8 = population[140:142]\n",
    "p9 = population[144]\n",
    "p10 = population[146:155]\n",
    "p11 = population[156:159]\n",
    "p12 = population[160]\n",
    "p13 = population[162]\n",
    "p14 = population[164]\n",
    "p15 = population[166:178]\n",
    "p16 = population[179:189]\n",
    "p17 = population[190:196]\n",
    "p18 = population[197:199]\n",
    "p19 = population[201]\n",
    "p20 = population[203:205]\n",
    "p21 = population[206:210]\n",
    "p22 = population[211]\n",
    "p23 = population[214:216]\n",
    "p24 = population[217:220]\n",
    "p25 = population[221]\n",
    "p26 = population[224]\n",
    "p27 = population[227:229]"
   ]
  },
  {
   "cell_type": "code",
   "execution_count": 24,
   "metadata": {
    "collapsed": true
   },
   "outputs": [],
   "source": [
    "pfirst = p1 + p2 + p3 + p4 + p5 + p6 + p7 + p8\n",
    "pfirst.append(p9)\n",
    "psecond = pfirst + p10 + p11\n",
    "psecond.append(p12)\n",
    "psecond.append(p13)\n",
    "psecond.append(p14)\n",
    "pthird = psecond + p15 + p16 + p17 + p18\n",
    "pthird.append(p19)\n",
    "pfour = pthird + p20 + p21\n",
    "pfour.append(p22)\n",
    "pfive = pfour + p23 + p24\n",
    "pfive.append(p25)\n",
    "pfive.append(p26)\n",
    "population = pfive + p27"
   ]
  },
  {
   "cell_type": "code",
   "execution_count": 25,
   "metadata": {
    "collapsed": false
   },
   "outputs": [],
   "source": [
    "immigrant = pd.DataFrame({'Country' : country, 'Immigrants' : population})"
   ]
  },
  {
   "cell_type": "code",
   "execution_count": 26,
   "metadata": {
    "collapsed": false
   },
   "outputs": [
    {
     "data": {
      "text/html": [
       "<div>\n",
       "<table border=\"1\" class=\"dataframe\">\n",
       "  <thead>\n",
       "    <tr style=\"text-align: right;\">\n",
       "      <th></th>\n",
       "      <th>Country</th>\n",
       "      <th>Immigrants</th>\n",
       "    </tr>\n",
       "  </thead>\n",
       "  <tbody>\n",
       "    <tr>\n",
       "      <th>0</th>\n",
       "      <td>United States</td>\n",
       "      <td>46,627,102</td>\n",
       "    </tr>\n",
       "    <tr>\n",
       "      <th>1</th>\n",
       "      <td>Germany</td>\n",
       "      <td>12,005,690</td>\n",
       "    </tr>\n",
       "    <tr>\n",
       "      <th>2</th>\n",
       "      <td>Russia</td>\n",
       "      <td>11,643,276</td>\n",
       "    </tr>\n",
       "    <tr>\n",
       "      <th>3</th>\n",
       "      <td>Saudi Arabia</td>\n",
       "      <td>9,060,433</td>\n",
       "    </tr>\n",
       "    <tr>\n",
       "      <th>4</th>\n",
       "      <td>United Kingdom</td>\n",
       "      <td>8,543,120</td>\n",
       "    </tr>\n",
       "    <tr>\n",
       "      <th>5</th>\n",
       "      <td>United Arab Emirates</td>\n",
       "      <td>7,826,981</td>\n",
       "    </tr>\n",
       "    <tr>\n",
       "      <th>6</th>\n",
       "      <td>France</td>\n",
       "      <td>7,784,418</td>\n",
       "    </tr>\n",
       "    <tr>\n",
       "      <th>7</th>\n",
       "      <td>Canada</td>\n",
       "      <td>7,284,069</td>\n",
       "    </tr>\n",
       "    <tr>\n",
       "      <th>8</th>\n",
       "      <td>Australia</td>\n",
       "      <td>6,763,663</td>\n",
       "    </tr>\n",
       "    <tr>\n",
       "      <th>9</th>\n",
       "      <td>Spain</td>\n",
       "      <td>5,852,953</td>\n",
       "    </tr>\n",
       "    <tr>\n",
       "      <th>10</th>\n",
       "      <td>Italy</td>\n",
       "      <td>5,788,875</td>\n",
       "    </tr>\n",
       "    <tr>\n",
       "      <th>11</th>\n",
       "      <td>India</td>\n",
       "      <td>5,338,486</td>\n",
       "    </tr>\n",
       "    <tr>\n",
       "      <th>12</th>\n",
       "      <td>Ukraine</td>\n",
       "      <td>4,834,898</td>\n",
       "    </tr>\n",
       "    <tr>\n",
       "      <th>13</th>\n",
       "      <td>Turkey</td>\n",
       "      <td>4,580,678</td>\n",
       "    </tr>\n",
       "    <tr>\n",
       "      <th>14</th>\n",
       "      <td>Pakistan</td>\n",
       "      <td>4,080,766</td>\n",
       "    </tr>\n",
       "    <tr>\n",
       "      <th>15</th>\n",
       "      <td>Thailand</td>\n",
       "      <td>3,721,735</td>\n",
       "    </tr>\n",
       "    <tr>\n",
       "      <th>16</th>\n",
       "      <td>Kazakhstan</td>\n",
       "      <td>3,476,233</td>\n",
       "    </tr>\n",
       "    <tr>\n",
       "      <th>17</th>\n",
       "      <td>Malaysia</td>\n",
       "      <td>3,276,880</td>\n",
       "    </tr>\n",
       "    <tr>\n",
       "      <th>18</th>\n",
       "      <td>Jordan</td>\n",
       "      <td>2,925,780</td>\n",
       "    </tr>\n",
       "    <tr>\n",
       "      <th>19</th>\n",
       "      <td>Kuwait</td>\n",
       "      <td>2,920,000</td>\n",
       "    </tr>\n",
       "    <tr>\n",
       "      <th>20</th>\n",
       "      <td>Iran</td>\n",
       "      <td>2,649,516</td>\n",
       "    </tr>\n",
       "    <tr>\n",
       "      <th>21</th>\n",
       "      <td>Ivory Coast</td>\n",
       "      <td>2,446,171</td>\n",
       "    </tr>\n",
       "    <tr>\n",
       "      <th>22</th>\n",
       "      <td>Switzerland</td>\n",
       "      <td>2,438,702</td>\n",
       "    </tr>\n",
       "    <tr>\n",
       "      <th>23</th>\n",
       "      <td>Japan</td>\n",
       "      <td>2,437,169</td>\n",
       "    </tr>\n",
       "    <tr>\n",
       "      <th>24</th>\n",
       "      <td>South Africa</td>\n",
       "      <td>2,399,238</td>\n",
       "    </tr>\n",
       "    <tr>\n",
       "      <th>25</th>\n",
       "      <td>Singapore</td>\n",
       "      <td>2,323,252</td>\n",
       "    </tr>\n",
       "    <tr>\n",
       "      <th>26</th>\n",
       "      <td>Israel</td>\n",
       "      <td>2,046,873</td>\n",
       "    </tr>\n",
       "    <tr>\n",
       "      <th>27</th>\n",
       "      <td>Netherlands</td>\n",
       "      <td>1,979,486</td>\n",
       "    </tr>\n",
       "    <tr>\n",
       "      <th>28</th>\n",
       "      <td>Argentina</td>\n",
       "      <td>1,885,678</td>\n",
       "    </tr>\n",
       "    <tr>\n",
       "      <th>29</th>\n",
       "      <td>Brazil</td>\n",
       "      <td>1,847,274</td>\n",
       "    </tr>\n",
       "    <tr>\n",
       "      <th>...</th>\n",
       "      <td>...</td>\n",
       "      <td>...</td>\n",
       "    </tr>\n",
       "    <tr>\n",
       "      <th>167</th>\n",
       "      <td>Mongolia</td>\n",
       "      <td>17,225</td>\n",
       "    </tr>\n",
       "    <tr>\n",
       "      <th>168</th>\n",
       "      <td>Cuba</td>\n",
       "      <td>13,336</td>\n",
       "    </tr>\n",
       "    <tr>\n",
       "      <th>169</th>\n",
       "      <td>Eritrea</td>\n",
       "      <td>15,798</td>\n",
       "    </tr>\n",
       "    <tr>\n",
       "      <th>170</th>\n",
       "      <td>Cape Verde</td>\n",
       "      <td>14,874</td>\n",
       "    </tr>\n",
       "    <tr>\n",
       "      <th>171</th>\n",
       "      <td>Guyana</td>\n",
       "      <td>14,770</td>\n",
       "    </tr>\n",
       "    <tr>\n",
       "      <th>172</th>\n",
       "      <td>Comoros</td>\n",
       "      <td>12,511</td>\n",
       "    </tr>\n",
       "    <tr>\n",
       "      <th>173</th>\n",
       "      <td>Liechtenstein</td>\n",
       "      <td>23,493</td>\n",
       "    </tr>\n",
       "    <tr>\n",
       "      <th>174</th>\n",
       "      <td>Saint Lucia</td>\n",
       "      <td>12,180</td>\n",
       "    </tr>\n",
       "    <tr>\n",
       "      <th>175</th>\n",
       "      <td>Seychelles</td>\n",
       "      <td>12,079</td>\n",
       "    </tr>\n",
       "    <tr>\n",
       "      <th>176</th>\n",
       "      <td>Timor-Leste</td>\n",
       "      <td>11,565</td>\n",
       "    </tr>\n",
       "    <tr>\n",
       "      <th>177</th>\n",
       "      <td>Grenada</td>\n",
       "      <td>7,057</td>\n",
       "    </tr>\n",
       "    <tr>\n",
       "      <th>178</th>\n",
       "      <td>Saint Vincent and the Grenadines</td>\n",
       "      <td>10,260</td>\n",
       "    </tr>\n",
       "    <tr>\n",
       "      <th>179</th>\n",
       "      <td>Equatorial Guinea</td>\n",
       "      <td>10,141</td>\n",
       "    </tr>\n",
       "    <tr>\n",
       "      <th>180</th>\n",
       "      <td>Solomon Islands</td>\n",
       "      <td>2,585</td>\n",
       "    </tr>\n",
       "    <tr>\n",
       "      <th>181</th>\n",
       "      <td>Dominica</td>\n",
       "      <td>6,720</td>\n",
       "    </tr>\n",
       "    <tr>\n",
       "      <th>182</th>\n",
       "      <td>Sao Tome and Principe</td>\n",
       "      <td>6,345</td>\n",
       "    </tr>\n",
       "    <tr>\n",
       "      <th>183</th>\n",
       "      <td>Saint Kitts and Nevis</td>\n",
       "      <td>5,673</td>\n",
       "    </tr>\n",
       "    <tr>\n",
       "      <th>184</th>\n",
       "      <td>Samoa</td>\n",
       "      <td>4,929</td>\n",
       "    </tr>\n",
       "    <tr>\n",
       "      <th>185</th>\n",
       "      <td>Palau</td>\n",
       "      <td>5,664</td>\n",
       "    </tr>\n",
       "    <tr>\n",
       "      <th>186</th>\n",
       "      <td>Tonga</td>\n",
       "      <td>5,731</td>\n",
       "    </tr>\n",
       "    <tr>\n",
       "      <th>187</th>\n",
       "      <td>San Marino</td>\n",
       "      <td>4,717</td>\n",
       "    </tr>\n",
       "    <tr>\n",
       "      <th>188</th>\n",
       "      <td>Vanuatu</td>\n",
       "      <td>3,187</td>\n",
       "    </tr>\n",
       "    <tr>\n",
       "      <th>189</th>\n",
       "      <td>Lesotho</td>\n",
       "      <td>3,095</td>\n",
       "    </tr>\n",
       "    <tr>\n",
       "      <th>190</th>\n",
       "      <td>Kiribati</td>\n",
       "      <td>3,153</td>\n",
       "    </tr>\n",
       "    <tr>\n",
       "      <th>191</th>\n",
       "      <td>Micronesia</td>\n",
       "      <td>2,756</td>\n",
       "    </tr>\n",
       "    <tr>\n",
       "      <th>192</th>\n",
       "      <td>Nauru</td>\n",
       "      <td>3,178</td>\n",
       "    </tr>\n",
       "    <tr>\n",
       "      <th>193</th>\n",
       "      <td>Marshall Islands</td>\n",
       "      <td>3,284</td>\n",
       "    </tr>\n",
       "    <tr>\n",
       "      <th>194</th>\n",
       "      <td>Vatican City</td>\n",
       "      <td>800</td>\n",
       "    </tr>\n",
       "    <tr>\n",
       "      <th>195</th>\n",
       "      <td>Tokelau</td>\n",
       "      <td>487</td>\n",
       "    </tr>\n",
       "    <tr>\n",
       "      <th>196</th>\n",
       "      <td>Tuvalu</td>\n",
       "      <td>141</td>\n",
       "    </tr>\n",
       "  </tbody>\n",
       "</table>\n",
       "<p>197 rows × 2 columns</p>\n",
       "</div>"
      ],
      "text/plain": [
       "                              Country   Immigrants\n",
       "0                       United States   46,627,102\n",
       "1                             Germany   12,005,690\n",
       "2                              Russia   11,643,276\n",
       "3                        Saudi Arabia    9,060,433\n",
       "4                      United Kingdom    8,543,120\n",
       "5                United Arab Emirates    7,826,981\n",
       "6                              France    7,784,418\n",
       "7                              Canada    7,284,069\n",
       "8                           Australia    6,763,663\n",
       "9                               Spain    5,852,953\n",
       "10                              Italy    5,788,875\n",
       "11                              India    5,338,486\n",
       "12                            Ukraine    4,834,898\n",
       "13                             Turkey    4,580,678\n",
       "14                           Pakistan    4,080,766\n",
       "15                           Thailand    3,721,735\n",
       "16                         Kazakhstan    3,476,233\n",
       "17                           Malaysia    3,276,880\n",
       "18                             Jordan    2,925,780\n",
       "19                             Kuwait    2,920,000\n",
       "20                               Iran    2,649,516\n",
       "21                        Ivory Coast    2,446,171\n",
       "22                        Switzerland    2,438,702\n",
       "23                              Japan    2,437,169\n",
       "24                       South Africa    2,399,238\n",
       "25                          Singapore    2,323,252\n",
       "26                             Israel    2,046,873\n",
       "27                        Netherlands    1,979,486\n",
       "28                          Argentina    1,885,678\n",
       "29                             Brazil    1,847,274\n",
       "..                                ...          ...\n",
       "167                          Mongolia       17,225\n",
       "168                              Cuba       13,336\n",
       "169                           Eritrea       15,798\n",
       "170                        Cape Verde       14,874\n",
       "171                            Guyana       14,770\n",
       "172                           Comoros       12,511\n",
       "173                     Liechtenstein       23,493\n",
       "174                       Saint Lucia       12,180\n",
       "175                        Seychelles       12,079\n",
       "176                       Timor-Leste       11,565\n",
       "177                           Grenada        7,057\n",
       "178  Saint Vincent and the Grenadines       10,260\n",
       "179                 Equatorial Guinea       10,141\n",
       "180                   Solomon Islands        2,585\n",
       "181                          Dominica        6,720\n",
       "182             Sao Tome and Principe        6,345\n",
       "183             Saint Kitts and Nevis        5,673\n",
       "184                             Samoa        4,929\n",
       "185                             Palau        5,664\n",
       "186                             Tonga        5,731\n",
       "187                        San Marino        4,717\n",
       "188                           Vanuatu        3,187\n",
       "189                           Lesotho        3,095\n",
       "190                          Kiribati        3,153\n",
       "191                        Micronesia        2,756\n",
       "192                             Nauru        3,178\n",
       "193                  Marshall Islands        3,284\n",
       "194                      Vatican City          800\n",
       "195                           Tokelau          487\n",
       "196                            Tuvalu          141\n",
       "\n",
       "[197 rows x 2 columns]"
      ]
     },
     "execution_count": 26,
     "metadata": {},
     "output_type": "execute_result"
    }
   ],
   "source": [
    "immigrant"
   ]
  },
  {
   "cell_type": "code",
   "execution_count": 27,
   "metadata": {
    "collapsed": true
   },
   "outputs": [],
   "source": [
    "#Taking the refugee list and getting the difference from immigrants\n",
    "refugee2010List = refugees2010['Country'].tolist()\n",
    "refugee2015List = refugees2015['Country'].tolist()\n",
    "immList = immigrant['Country'].tolist()\n",
    "s = set(refugee2010List)\n",
    "s2 = set(refugee2015List)\n",
    "diff_2010 = [x for x in immList if x not in s]\n",
    "diff_2015 = [x for x in immList if x not in s2]"
   ]
  },
  {
   "cell_type": "code",
   "execution_count": 28,
   "metadata": {
    "collapsed": false
   },
   "outputs": [
    {
     "name": "stdout",
     "output_type": "stream",
     "text": [
      "['United States', 'Ivory Coast', 'Serbia', 'South Sudan', 'Democratic Republic of Congo', 'Republic of Congo', 'Tanzania', 'Palestine', 'The Gambia', 'Moldova', 'Republic of Macedonia', 'Maldives', 'Bahamas', 'Bhutan', 'North Korea', 'Andorra', 'Mauritius', 'Barbados', 'Antigua and Barbuda', 'Sint Maarten', 'Laos', 'Bermuda', 'Cape Verde', 'Comoros', 'Seychelles', 'Saint Vincent and the Grenadines', 'Equatorial Guinea', 'Solomon Islands', 'Dominica', 'Sao Tome and Principe', 'Saint Kitts and Nevis', 'Samoa', 'Palau', 'San Marino', 'Lesotho', 'Kiribati', 'Micronesia', 'Nauru', 'Marshall Islands', 'Vatican City', 'Tokelau', 'Tuvalu']\n"
     ]
    }
   ],
   "source": [
    "print diff_2010 #Contain in immigrants but not refugees2010"
   ]
  },
  {
   "cell_type": "code",
   "execution_count": 29,
   "metadata": {
    "collapsed": false
   },
   "outputs": [
    {
     "name": "stdout",
     "output_type": "stream",
     "text": [
      "['Afghanistan', 'Albania', 'Algeria', 'Angola', 'Argentina', 'Armenia', 'Aruba', 'Australia', 'Austria', 'Azerbaijan', 'The Bahamas', 'Bahrain', 'Bangladesh', 'Belarus', 'Belgium', 'Belize', 'Benin', 'Bolivia', 'Bonaire', 'Bosnia and Herzegovina', 'Botswana', 'Brazil', 'British Virgin Islands', 'Brunei', 'Bulgaria', 'Burkina Faso', 'Burundi', 'Cambodia', 'Cameroon', 'Canada', 'Cayman Islands', 'Central African Republic', 'Chad', 'Chile', 'China', 'China, Hong Kong SAR', 'China, Macao SAR', 'Colombia', 'Republic of the Congo', 'Costa Rica', 'Croatia', 'Cuba', 'Cura\\xc3\\xa7ao', 'Cyprus', 'Czech Republic', \"C\\xc3\\xb4te d'Ivoire\", 'Democratic Republic of the Congo', 'Denmark', 'Djibouti', 'Dominican Republic', 'Ecuador', 'Egypt', 'El Salvador', 'Eritrea', 'Estonia', 'Ethiopia', 'Fiji', 'Finland', 'France', 'Gabon', 'Gambia', 'Georgia', 'Germany', 'Ghana', 'Greece', 'Grenada', 'Guatemala', 'Guinea', 'Guinea-Bissau', 'Guyana', 'Haiti', 'Honduras', 'Hungary', 'Iceland', 'India', 'Indonesia', 'Iran', 'Iraq', 'Ireland', 'Israel', 'Italy', 'Jamaica', 'Japan', 'Jordan', 'Kazakhstan', 'Kenya', 'Kuwait', 'Kyrgyzstan', 'Latvia', 'Lebanon', 'Liberia', 'Libya', 'Liechtenstein', 'Lithuania', 'Luxembourg', 'Madagascar', 'Malawi', 'Malaysia', 'Mali', 'Malta', 'Mauritania', 'Mexico', 'Monaco', 'Mongolia', 'Montenegro', 'Montserrat', 'Morocco', 'Mozambique', 'Myanmar', 'Namibia', 'Nepal', 'Netherlands', 'New Zealand', 'Nicaragua', 'Niger', 'Nigeria', 'Norway', 'Oman', 'Pakistan', 'Panama', 'Papua New Guinea', 'Paraguay', 'Peru', 'Philippines', 'Poland', 'Portugal', 'Qatar', 'South Korea', 'Rep. of Moldova', 'Romania', 'Russia', 'Rwanda', 'Saint Lucia', 'Saudi Arabia', 'Senegal', 'Serbia and Kosovo (S/RES/1244 (1999))', 'Sierra Leone', 'Singapore', 'Sint Maarten (Dutch part)', 'Slovakia', 'Slovenia', 'Somalia', 'South Africa', 'Spain', 'Sri Lanka', 'Sudan', 'Suriname', 'Swaziland', 'Sweden', 'Switzerland', 'Syria', 'Tajikistan', 'Thailand', 'Macedonia', 'Timor-Leste', 'Togo', 'Tonga', 'Trinidad and Tobago', 'Tunisia', 'Turkey', 'Turkmenistan', 'Uganda', 'Ukraine', 'United Arab Emirates', 'United Kingdom', 'United Republic of Tanzania', 'United States of America', 'Uruguay', 'Uzbekistan', 'Vanuatu', 'Venezuela', 'Vietnam', 'Yemen', 'Zambia', 'Zimbabwe']\n"
     ]
    }
   ],
   "source": [
    "print refugee2010List #Reference for the immigrant list"
   ]
  },
  {
   "cell_type": "code",
   "execution_count": 30,
   "metadata": {
    "collapsed": true
   },
   "outputs": [],
   "source": [
    "#Change the Country Names\n",
    "immigrant['Country'][0] = 'United States of America'\n",
    "immigrant['Country'][64] = 'Democratic Republic of the Congo'\n",
    "immigrant['Country'][66] = 'Republic of the Congo'\n",
    "immigrant['Country'][81] = 'United Republic of Tanzania'\n",
    "immigrant['Country'][109] = 'Gambia'\n",
    "immigrant['Country'][117] = 'Macedonia'\n",
    "immigrant['Country'][134] = 'The Bahamas'\n",
    "immigrant['Country'][166] = 'Guinea'"
   ]
  },
  {
   "cell_type": "markdown",
   "metadata": {},
   "source": [
    "# Population Density"
   ]
  },
  {
   "cell_type": "code",
   "execution_count": 31,
   "metadata": {
    "collapsed": false
   },
   "outputs": [],
   "source": [
    "page = requests.get('http://www.worldatlas.com/aatlas/populations/ctypopls.htm')\n",
    "tree = html.fromstring(page.text)\n",
    "\n",
    "country = tree.xpath('//html/body/div/main/div/article/div/h2/text()')\n",
    "pop = tree.xpath('/html/body/div/main/div/article/div/ul/li[1]/text()')\n",
    "area = tree.xpath('/html/body/div/main/div/article/div/ul/li[4]/text()')\n",
    "density = tree.xpath('/html/body/div/main/div/article/div/ul/li[5]/text()')\n",
    "\n",
    "population = pd.DataFrame({'Country' : country, 'Area(mi)' : area, 'Population' : pop, 'Density(pop/mi)' : density})"
   ]
  },
  {
   "cell_type": "code",
   "execution_count": 32,
   "metadata": {
    "collapsed": false
   },
   "outputs": [
    {
     "name": "stdout",
     "output_type": "stream",
     "text": [
      "<class 'pandas.core.frame.DataFrame'>\n",
      "RangeIndex: 193 entries, 0 to 192\n",
      "Data columns (total 4 columns):\n",
      "Area(mi)           193 non-null float64\n",
      "Country            193 non-null object\n",
      "Density(pop/mi)    193 non-null float64\n",
      "Population         193 non-null int64\n",
      "dtypes: float64(2), int64(1), object(1)\n",
      "memory usage: 6.1+ KB\n"
     ]
    }
   ],
   "source": [
    "population[\"Area(mi)\"] = pd.to_numeric(population[\"Area(mi)\"], errors='coerce')\n",
    "population[\"Density(pop/mi)\"] = pd.to_numeric(population[\"Density(pop/mi)\"], errors='coerce')\n",
    "population[\"Population\"] = pd.to_numeric(population[\"Population\"], errors='coerce')\n",
    "population.info()"
   ]
  },
  {
   "cell_type": "code",
   "execution_count": 33,
   "metadata": {
    "collapsed": true
   },
   "outputs": [],
   "source": [
    "#Find values contained in population but not refugees\n",
    "refugee2010List = refugees2010['Country'].tolist()\n",
    "refugee2015List = refugees2015['Country'].tolist()\n",
    "popList = population['Country'].tolist()\n",
    "s = set(refugee2010List)\n",
    "s2 = set(refugee2015List)\n",
    "diff_2010 = [x for x in popList if x not in s]\n",
    "diff_2015 = [x for x in popList if x not in s2]"
   ]
  },
  {
   "cell_type": "code",
   "execution_count": 34,
   "metadata": {
    "collapsed": false
   },
   "outputs": [
    {
     "name": "stdout",
     "output_type": "stream",
     "text": [
      "['Andorra', 'Antigua & Barbuda', 'Bahamas', 'Barbados', 'Bhutan', 'Bosnia & Herzegovina', 'Cape Verde', 'Comoros', 'Congo (Dem. Rep. of )', 'Congo (Rep.)', \"Cote d'Ivoire\", 'Dominica', 'East Timor', 'Equatorial Guinea', 'Kiribati', 'Korea (North)', 'Korea (South)', 'Laos', 'Lesotho', 'Maldives', 'Marshall Islands', 'Mauritius', 'Micronesia', 'Moldova', 'Nauru', 'Palau', 'Phillipines', 'Saint Kitts & Nevis', 'Samoa', 'San Marino', 'Sao Tome & Principe', 'Serbia & Montenegro', 'Seychelles', 'Solomon Islands', 'South Sudan', 'St. Vincent & the Grenadines', 'Tajikstan', 'Tanzania', 'Trinidad & Tobago', 'Tuvalu', 'United Kingdom (UK)', 'Vatican City']\n"
     ]
    }
   ],
   "source": [
    "print diff_2010 #Countries in population"
   ]
  },
  {
   "cell_type": "code",
   "execution_count": 35,
   "metadata": {
    "collapsed": false
   },
   "outputs": [
    {
     "name": "stdout",
     "output_type": "stream",
     "text": [
      "['Afghanistan', 'Albania', 'Algeria', 'Angola', 'Argentina', 'Armenia', 'Aruba', 'Australia', 'Austria', 'Azerbaijan', 'The Bahamas', 'Bahrain', 'Bangladesh', 'Belarus', 'Belgium', 'Belize', 'Benin', 'Bolivia', 'Bonaire', 'Bosnia and Herzegovina', 'Botswana', 'Brazil', 'British Virgin Islands', 'Brunei', 'Bulgaria', 'Burkina Faso', 'Burundi', 'Cambodia', 'Cameroon', 'Canada', 'Cayman Islands', 'Central African Republic', 'Chad', 'Chile', 'China', 'China, Hong Kong SAR', 'China, Macao SAR', 'Colombia', 'Republic of the Congo', 'Costa Rica', 'Croatia', 'Cuba', 'Cura\\xc3\\xa7ao', 'Cyprus', 'Czech Republic', \"C\\xc3\\xb4te d'Ivoire\", 'Democratic Republic of the Congo', 'Denmark', 'Djibouti', 'Dominican Republic', 'Ecuador', 'Egypt', 'El Salvador', 'Eritrea', 'Estonia', 'Ethiopia', 'Fiji', 'Finland', 'France', 'Gabon', 'Gambia', 'Georgia', 'Germany', 'Ghana', 'Greece', 'Grenada', 'Guatemala', 'Guinea', 'Guinea-Bissau', 'Guyana', 'Haiti', 'Honduras', 'Hungary', 'Iceland', 'India', 'Indonesia', 'Iran', 'Iraq', 'Ireland', 'Israel', 'Italy', 'Jamaica', 'Japan', 'Jordan', 'Kazakhstan', 'Kenya', 'Kuwait', 'Kyrgyzstan', 'Latvia', 'Lebanon', 'Liberia', 'Libya', 'Liechtenstein', 'Lithuania', 'Luxembourg', 'Madagascar', 'Malawi', 'Malaysia', 'Mali', 'Malta', 'Mauritania', 'Mexico', 'Monaco', 'Mongolia', 'Montenegro', 'Montserrat', 'Morocco', 'Mozambique', 'Myanmar', 'Namibia', 'Nepal', 'Netherlands', 'New Zealand', 'Nicaragua', 'Niger', 'Nigeria', 'Norway', 'Oman', 'Pakistan', 'Panama', 'Papua New Guinea', 'Paraguay', 'Peru', 'Philippines', 'Poland', 'Portugal', 'Qatar', 'South Korea', 'Rep. of Moldova', 'Romania', 'Russia', 'Rwanda', 'Saint Lucia', 'Saudi Arabia', 'Senegal', 'Serbia and Kosovo (S/RES/1244 (1999))', 'Sierra Leone', 'Singapore', 'Sint Maarten (Dutch part)', 'Slovakia', 'Slovenia', 'Somalia', 'South Africa', 'Spain', 'Sri Lanka', 'Sudan', 'Suriname', 'Swaziland', 'Sweden', 'Switzerland', 'Syria', 'Tajikistan', 'Thailand', 'Macedonia', 'Timor-Leste', 'Togo', 'Tonga', 'Trinidad and Tobago', 'Tunisia', 'Turkey', 'Turkmenistan', 'Uganda', 'Ukraine', 'United Arab Emirates', 'United Kingdom', 'United Republic of Tanzania', 'United States of America', 'Uruguay', 'Uzbekistan', 'Vanuatu', 'Venezuela', 'Vietnam', 'Yemen', 'Zambia', 'Zimbabwe']\n"
     ]
    }
   ],
   "source": [
    "print refugee2010List #In reference to the population"
   ]
  },
  {
   "cell_type": "code",
   "execution_count": 36,
   "metadata": {
    "collapsed": false
   },
   "outputs": [
    {
     "name": "stdout",
     "output_type": "stream",
     "text": [
      "0 Afghanistan\n",
      "1 Albania\n",
      "2 Algeria\n",
      "3 Andorra\n",
      "4 Angola\n",
      "5 Antigua & Barbuda\n",
      "6 Argentina\n",
      "7 Armenia\n",
      "8 Australia\n",
      "9 Austria\n",
      "10 Azerbaijan\n",
      "11 Bahamas\n",
      "12 Bahrain\n",
      "13 Bangladesh\n",
      "14 Barbados\n",
      "15 Belarus\n",
      "16 Belgium\n",
      "17 Belize\n",
      "18 Benin\n",
      "19 Bhutan\n",
      "20 Bolivia\n",
      "21 Bosnia & Herzegovina\n",
      "22 Botswana\n",
      "23 Brazil\n",
      "24 Brunei\n",
      "25 Bulgaria\n",
      "26 Burkina Faso\n",
      "27 Burundi\n",
      "28 Cambodia\n",
      "29 Cameroon\n",
      "30 Canada\n",
      "31 Cape Verde\n",
      "32 Central African Republic\n",
      "33 Chad\n",
      "34 Chile\n",
      "35 China\n",
      "36 Colombia\n",
      "37 Comoros\n",
      "38 Congo (Dem. Rep. of )\n",
      "39 Congo (Rep.)\n",
      "40 Costa Rica\n",
      "41 Cote d'Ivoire\n",
      "42 Croatia\n",
      "43 Cuba\n",
      "44 Cyprus\n",
      "45 Czech Republic\n",
      "46 Denmark\n",
      "47 Djibouti\n",
      "48 Dominica\n",
      "49 Dominican Republic\n",
      "50 East Timor\n",
      "51 Ecuador\n",
      "52 Egypt\n",
      "53 El Salvador\n",
      "54 Equatorial Guinea\n",
      "55 Eritrea\n",
      "56 Estonia\n",
      "57 Ethiopia\n",
      "58 Fiji\n",
      "59 Finland\n",
      "60 France\n",
      "61 Gabon\n",
      "62 Gambia\n",
      "63 Georgia\n",
      "64 Germany\n",
      "65 Ghana\n",
      "66 Greece\n",
      "67 Grenada\n",
      "68 Guatemala\n",
      "69 Guinea\n",
      "70 Guinea-Bissau\n",
      "71 Guyana\n",
      "72 Haiti\n",
      "73 Honduras\n",
      "74 Hungary\n",
      "75 Iceland\n",
      "76 India\n",
      "77 Indonesia\n",
      "78 Iran\n",
      "79 Iraq\n",
      "80 Ireland\n",
      "81 Israel\n",
      "82 Italy\n",
      "83 Jamaica\n",
      "84 Japan\n",
      "85 Jordan\n",
      "86 Kazakhstan\n",
      "87 Kenya\n",
      "88 Kiribati\n",
      "89 Korea (North)\n",
      "90 Korea (South)\n",
      "91 Kuwait\n",
      "92 Kyrgyzstan\n",
      "93 Laos\n",
      "94 Latvia\n",
      "95 Lebanon\n",
      "96 Lesotho\n",
      "97 Liberia\n",
      "98 Libya\n",
      "99 Liechtenstein\n",
      "100 Lithuania\n",
      "101 Luxembourg\n",
      "102 Macedonia\n",
      "103 Madagascar\n",
      "104 Malawi\n",
      "105 Malaysia\n",
      "106 Maldives\n",
      "107 Mali\n",
      "108 Malta\n",
      "109 Marshall Islands\n",
      "110 Mauritania\n",
      "111 Mauritius\n",
      "112 Mexico\n",
      "113 Micronesia\n",
      "114 Moldova\n",
      "115 Monaco\n",
      "116 Mongolia\n",
      "117 Morocco\n",
      "118 Mozambique\n",
      "119 Myanmar\n",
      "120 Namibia\n",
      "121 Nauru\n",
      "122 Nepal\n",
      "123 Netherlands\n",
      "124 New Zealand\n",
      "125 Nicaragua\n",
      "126 Niger\n",
      "127 Nigeria\n",
      "128 Norway\n",
      "129 Oman\n",
      "130 Pakistan\n",
      "131 Palau\n",
      "132 Panama\n",
      "133 Papua New Guinea\n",
      "134 Paraguay\n",
      "135 Peru\n",
      "136 Phillipines\n",
      "137 Poland\n",
      "138 Portugal\n",
      "139 Qatar\n",
      "140 Romania\n",
      "141 Russia\n",
      "142 Rwanda\n",
      "143 Saint Kitts & Nevis\n",
      "144 Saint Lucia\n",
      "145 Samoa\n",
      "146 San Marino\n",
      "147 Sao Tome & Principe\n",
      "148 Saudi Arabia\n",
      "149 Senegal\n",
      "150 Serbia & Montenegro\n",
      "151 Seychelles\n",
      "152 Sierra Leone\n",
      "153 Singapore\n",
      "154 Slovakia\n",
      "155 Slovenia\n",
      "156 Solomon Islands\n",
      "157 Somalia\n",
      "158 South Africa\n",
      "159 South Sudan\n",
      "160 Spain\n",
      "161 Sri Lanka\n",
      "162 St. Vincent & the Grenadines\n",
      "163 Sudan\n",
      "164 Suriname\n",
      "165 Swaziland\n",
      "166 Sweden\n",
      "167 Switzerland\n",
      "168 Syria\n",
      "169 Tajikstan\n",
      "170 Tanzania\n",
      "171 Thailand\n",
      "172 Togo\n",
      "173 Tonga\n",
      "174 Trinidad & Tobago\n",
      "175 Tunisia\n",
      "176 Turkey\n",
      "177 Turkmenistan\n",
      "178 Tuvalu\n",
      "179 Uganda\n",
      "180 Ukraine\n",
      "181 United Arab Emirates\n",
      "182 United Kingdom (UK)\n",
      "183 United States of America\n",
      "184 Uruguay\n",
      "185 Uzbekistan\n",
      "186 Vanuatu\n",
      "187 Vatican City\n",
      "188 Venezuela\n",
      "189 Vietnam\n",
      "190 Yemen\n",
      "191 Zambia\n",
      "192 Zimbabwe\n"
     ]
    }
   ],
   "source": [
    "i = 0\n",
    "while i < len(population):\n",
    "    print i, population['Country'][i]\n",
    "    i+=1"
   ]
  },
  {
   "cell_type": "code",
   "execution_count": 37,
   "metadata": {
    "collapsed": false
   },
   "outputs": [
    {
     "name": "stderr",
     "output_type": "stream",
     "text": [
      "/anaconda/envs/dsi/lib/python2.7/site-packages/ipykernel/__main__.py:15: SettingWithCopyWarning: \n",
      "A value is trying to be set on a copy of a slice from a DataFrame\n",
      "\n",
      "See the caveats in the documentation: http://pandas.pydata.org/pandas-docs/stable/indexing.html#indexing-view-versus-copy\n",
      "/anaconda/envs/dsi/lib/python2.7/site-packages/ipykernel/__main__.py:16: SettingWithCopyWarning: \n",
      "A value is trying to be set on a copy of a slice from a DataFrame\n",
      "\n",
      "See the caveats in the documentation: http://pandas.pydata.org/pandas-docs/stable/indexing.html#indexing-view-versus-copy\n",
      "/anaconda/envs/dsi/lib/python2.7/site-packages/ipykernel/__main__.py:17: SettingWithCopyWarning: \n",
      "A value is trying to be set on a copy of a slice from a DataFrame\n",
      "\n",
      "See the caveats in the documentation: http://pandas.pydata.org/pandas-docs/stable/indexing.html#indexing-view-versus-copy\n",
      "/anaconda/envs/dsi/lib/python2.7/site-packages/ipykernel/__main__.py:18: SettingWithCopyWarning: \n",
      "A value is trying to be set on a copy of a slice from a DataFrame\n",
      "\n",
      "See the caveats in the documentation: http://pandas.pydata.org/pandas-docs/stable/indexing.html#indexing-view-versus-copy\n",
      "/anaconda/envs/dsi/lib/python2.7/site-packages/ipykernel/__main__.py:19: SettingWithCopyWarning: \n",
      "A value is trying to be set on a copy of a slice from a DataFrame\n",
      "\n",
      "See the caveats in the documentation: http://pandas.pydata.org/pandas-docs/stable/indexing.html#indexing-view-versus-copy\n",
      "/anaconda/envs/dsi/lib/python2.7/site-packages/ipykernel/__main__.py:20: SettingWithCopyWarning: \n",
      "A value is trying to be set on a copy of a slice from a DataFrame\n",
      "\n",
      "See the caveats in the documentation: http://pandas.pydata.org/pandas-docs/stable/indexing.html#indexing-view-versus-copy\n",
      "/anaconda/envs/dsi/lib/python2.7/site-packages/ipykernel/__main__.py:21: SettingWithCopyWarning: \n",
      "A value is trying to be set on a copy of a slice from a DataFrame\n",
      "\n",
      "See the caveats in the documentation: http://pandas.pydata.org/pandas-docs/stable/indexing.html#indexing-view-versus-copy\n",
      "/anaconda/envs/dsi/lib/python2.7/site-packages/ipykernel/__main__.py:22: SettingWithCopyWarning: \n",
      "A value is trying to be set on a copy of a slice from a DataFrame\n",
      "\n",
      "See the caveats in the documentation: http://pandas.pydata.org/pandas-docs/stable/indexing.html#indexing-view-versus-copy\n",
      "/anaconda/envs/dsi/lib/python2.7/site-packages/ipykernel/__main__.py:23: SettingWithCopyWarning: \n",
      "A value is trying to be set on a copy of a slice from a DataFrame\n",
      "\n",
      "See the caveats in the documentation: http://pandas.pydata.org/pandas-docs/stable/indexing.html#indexing-view-versus-copy\n",
      "/anaconda/envs/dsi/lib/python2.7/site-packages/ipykernel/__main__.py:24: SettingWithCopyWarning: \n",
      "A value is trying to be set on a copy of a slice from a DataFrame\n",
      "\n",
      "See the caveats in the documentation: http://pandas.pydata.org/pandas-docs/stable/indexing.html#indexing-view-versus-copy\n",
      "/anaconda/envs/dsi/lib/python2.7/site-packages/ipykernel/__main__.py:25: SettingWithCopyWarning: \n",
      "A value is trying to be set on a copy of a slice from a DataFrame\n",
      "\n",
      "See the caveats in the documentation: http://pandas.pydata.org/pandas-docs/stable/indexing.html#indexing-view-versus-copy\n",
      "/anaconda/envs/dsi/lib/python2.7/site-packages/ipykernel/__main__.py:26: SettingWithCopyWarning: \n",
      "A value is trying to be set on a copy of a slice from a DataFrame\n",
      "\n",
      "See the caveats in the documentation: http://pandas.pydata.org/pandas-docs/stable/indexing.html#indexing-view-versus-copy\n"
     ]
    }
   ],
   "source": [
    "#Bahamas to The Bahamas 11\n",
    "#Bosnia & Herzegovina to Bosnia and Herzegovina 21\n",
    "#Congo (Dem. Rep. of ) to Democratic Republic of the Congo 38\n",
    "#Congo (Rep.) to Republic of the Congo 39\n",
    "#Cote d'Ivoire to Côte d'Ivoire 41\n",
    "#Korea (North) to North Korea 89\n",
    "#Korea (South) to South Korea 90\n",
    "#Phillipines to Philipines 136\n",
    "#Tajikstan to Tajikistan 169\n",
    "#Tanzania to United Republic of Tanzania 170\n",
    "#Trinidad & Tobago to Trinidad and Tobago 174\n",
    "#United Kingdom (UK) to United Kingdom 182\n",
    "\n",
    "\n",
    "population['Country'][11] = 'The Bahamas'\n",
    "population['Country'][21] = 'Bosnia and Herzegovina'\n",
    "population['Country'][38] = 'Democratic Republic of the Congo'\n",
    "population['Country'][39] = 'Republic of the Congo'\n",
    "population['Country'][41] = \"Côte d'Ivoire\"\n",
    "population['Country'][89] = 'North Korea'\n",
    "population['Country'][90] = 'South Korea'\n",
    "population['Country'][136] = 'Philipines'\n",
    "population['Country'][169] = 'Tajikistan'\n",
    "population['Country'][170] = 'United Republic of Tanzania'\n",
    "population['Country'][174] = 'Trinidad and Tobago'\n",
    "population['Country'][182] = 'United Kingdom'"
   ]
  },
  {
   "cell_type": "code",
   "execution_count": 38,
   "metadata": {
    "collapsed": false
   },
   "outputs": [
    {
     "data": {
      "text/html": [
       "<div>\n",
       "<table border=\"1\" class=\"dataframe\">\n",
       "  <thead>\n",
       "    <tr style=\"text-align: right;\">\n",
       "      <th></th>\n",
       "      <th>Country</th>\n",
       "      <th>Density(pop/mi)</th>\n",
       "      <th>Population</th>\n",
       "      <th>Area(mi)</th>\n",
       "    </tr>\n",
       "  </thead>\n",
       "  <tbody>\n",
       "    <tr>\n",
       "      <th>34</th>\n",
       "      <td>China</td>\n",
       "      <td>361.42</td>\n",
       "      <td>1339190000</td>\n",
       "      <td>3705405.45</td>\n",
       "    </tr>\n",
       "    <tr>\n",
       "      <th>74</th>\n",
       "      <td>India</td>\n",
       "      <td>933.27</td>\n",
       "      <td>1184639000</td>\n",
       "      <td>1269345.07</td>\n",
       "    </tr>\n",
       "    <tr>\n",
       "      <th>183</th>\n",
       "      <td>United States of America</td>\n",
       "      <td>83.38</td>\n",
       "      <td>309975000</td>\n",
       "      <td>3717811.29</td>\n",
       "    </tr>\n",
       "    <tr>\n",
       "      <th>75</th>\n",
       "      <td>Indonesia</td>\n",
       "      <td>315.99</td>\n",
       "      <td>234181400</td>\n",
       "      <td>741099.62</td>\n",
       "    </tr>\n",
       "    <tr>\n",
       "      <th>22</th>\n",
       "      <td>Brazil</td>\n",
       "      <td>58.84</td>\n",
       "      <td>193364000</td>\n",
       "      <td>3286486.71</td>\n",
       "    </tr>\n",
       "    <tr>\n",
       "      <th>127</th>\n",
       "      <td>Pakistan</td>\n",
       "      <td>548.51</td>\n",
       "      <td>170260000</td>\n",
       "      <td>310402.84</td>\n",
       "    </tr>\n",
       "    <tr>\n",
       "      <th>123</th>\n",
       "      <td>Nigeria</td>\n",
       "      <td>443.71</td>\n",
       "      <td>170123000</td>\n",
       "      <td>356668.67</td>\n",
       "    </tr>\n",
       "    <tr>\n",
       "      <th>12</th>\n",
       "      <td>Bangladesh</td>\n",
       "      <td>2957.35</td>\n",
       "      <td>164425000</td>\n",
       "      <td>55598.69</td>\n",
       "    </tr>\n",
       "    <tr>\n",
       "      <th>139</th>\n",
       "      <td>Russia</td>\n",
       "      <td>21.53</td>\n",
       "      <td>141927297</td>\n",
       "      <td>6592768.87</td>\n",
       "    </tr>\n",
       "    <tr>\n",
       "      <th>82</th>\n",
       "      <td>Japan</td>\n",
       "      <td>873.17</td>\n",
       "      <td>127380000</td>\n",
       "      <td>145882.85</td>\n",
       "    </tr>\n",
       "    <tr>\n",
       "      <th>108</th>\n",
       "      <td>Mexico</td>\n",
       "      <td>142.33</td>\n",
       "      <td>108396211</td>\n",
       "      <td>761605.50</td>\n",
       "    </tr>\n",
       "    <tr>\n",
       "      <th>133</th>\n",
       "      <td>Philipines</td>\n",
       "      <td>811.64</td>\n",
       "      <td>94013200</td>\n",
       "      <td>115830.60</td>\n",
       "    </tr>\n",
       "    <tr>\n",
       "      <th>189</th>\n",
       "      <td>Vietnam</td>\n",
       "      <td>674.21</td>\n",
       "      <td>85789573</td>\n",
       "      <td>127243.78</td>\n",
       "    </tr>\n",
       "    <tr>\n",
       "      <th>62</th>\n",
       "      <td>Germany</td>\n",
       "      <td>593.11</td>\n",
       "      <td>81757600</td>\n",
       "      <td>137846.52</td>\n",
       "    </tr>\n",
       "    <tr>\n",
       "      <th>55</th>\n",
       "      <td>Ethiopia</td>\n",
       "      <td>182.04</td>\n",
       "      <td>79221000</td>\n",
       "      <td>435185.99</td>\n",
       "    </tr>\n",
       "    <tr>\n",
       "      <th>50</th>\n",
       "      <td>Egypt</td>\n",
       "      <td>203.92</td>\n",
       "      <td>78848000</td>\n",
       "      <td>386661.85</td>\n",
       "    </tr>\n",
       "    <tr>\n",
       "      <th>76</th>\n",
       "      <td>Iran</td>\n",
       "      <td>117.99</td>\n",
       "      <td>75078000</td>\n",
       "      <td>636296.10</td>\n",
       "    </tr>\n",
       "    <tr>\n",
       "      <th>175</th>\n",
       "      <td>Turkey</td>\n",
       "      <td>240.76</td>\n",
       "      <td>72561312</td>\n",
       "      <td>301383.50</td>\n",
       "    </tr>\n",
       "    <tr>\n",
       "      <th>43</th>\n",
       "      <td>Democratic Republic of the Congo</td>\n",
       "      <td>74.90</td>\n",
       "      <td>67827000</td>\n",
       "      <td>905567.49</td>\n",
       "    </tr>\n",
       "    <tr>\n",
       "      <th>58</th>\n",
       "      <td>France</td>\n",
       "      <td>309.87</td>\n",
       "      <td>65447374</td>\n",
       "      <td>211209.38</td>\n",
       "    </tr>\n",
       "    <tr>\n",
       "      <th>169</th>\n",
       "      <td>Thailand</td>\n",
       "      <td>320.10</td>\n",
       "      <td>63525062</td>\n",
       "      <td>198456.43</td>\n",
       "    </tr>\n",
       "    <tr>\n",
       "      <th>181</th>\n",
       "      <td>United Kingdom</td>\n",
       "      <td>656.35</td>\n",
       "      <td>62041708</td>\n",
       "      <td>94525.49</td>\n",
       "    </tr>\n",
       "    <tr>\n",
       "      <th>80</th>\n",
       "      <td>Italy</td>\n",
       "      <td>518.81</td>\n",
       "      <td>60340328</td>\n",
       "      <td>116305.51</td>\n",
       "    </tr>\n",
       "    <tr>\n",
       "      <th>115</th>\n",
       "      <td>Myanmar</td>\n",
       "      <td>192.75</td>\n",
       "      <td>50496000</td>\n",
       "      <td>261970.21</td>\n",
       "    </tr>\n",
       "    <tr>\n",
       "      <th>156</th>\n",
       "      <td>South Africa</td>\n",
       "      <td>106.14</td>\n",
       "      <td>49991300</td>\n",
       "      <td>471010.46</td>\n",
       "    </tr>\n",
       "    <tr>\n",
       "      <th>157</th>\n",
       "      <td>South Korea</td>\n",
       "      <td>1309.02</td>\n",
       "      <td>49773145</td>\n",
       "      <td>38023.32</td>\n",
       "    </tr>\n",
       "    <tr>\n",
       "      <th>159</th>\n",
       "      <td>Spain</td>\n",
       "      <td>240.90</td>\n",
       "      <td>46951532</td>\n",
       "      <td>194897.34</td>\n",
       "    </tr>\n",
       "    <tr>\n",
       "      <th>179</th>\n",
       "      <td>Ukraine</td>\n",
       "      <td>196.80</td>\n",
       "      <td>45871738</td>\n",
       "      <td>233089.78</td>\n",
       "    </tr>\n",
       "    <tr>\n",
       "      <th>35</th>\n",
       "      <td>Colombia</td>\n",
       "      <td>103.63</td>\n",
       "      <td>45569000</td>\n",
       "      <td>439735.43</td>\n",
       "    </tr>\n",
       "    <tr>\n",
       "      <th>182</th>\n",
       "      <td>United Republic of Tanzania</td>\n",
       "      <td>123.43</td>\n",
       "      <td>45040000</td>\n",
       "      <td>364899.98</td>\n",
       "    </tr>\n",
       "    <tr>\n",
       "      <th>...</th>\n",
       "      <td>...</td>\n",
       "      <td>...</td>\n",
       "      <td>...</td>\n",
       "      <td>...</td>\n",
       "    </tr>\n",
       "    <tr>\n",
       "      <th>97</th>\n",
       "      <td>Luxembourg</td>\n",
       "      <td>502.98</td>\n",
       "      <td>502207</td>\n",
       "      <td>998.46</td>\n",
       "    </tr>\n",
       "    <tr>\n",
       "      <th>104</th>\n",
       "      <td>Malta</td>\n",
       "      <td>3412.34</td>\n",
       "      <td>416333</td>\n",
       "      <td>122.01</td>\n",
       "    </tr>\n",
       "    <tr>\n",
       "      <th>23</th>\n",
       "      <td>Brunei</td>\n",
       "      <td>182.69</td>\n",
       "      <td>407000</td>\n",
       "      <td>2227.81</td>\n",
       "    </tr>\n",
       "    <tr>\n",
       "      <th>170</th>\n",
       "      <td>The Bahamas</td>\n",
       "      <td>64.29</td>\n",
       "      <td>346000</td>\n",
       "      <td>5382.26</td>\n",
       "    </tr>\n",
       "    <tr>\n",
       "      <th>16</th>\n",
       "      <td>Belize</td>\n",
       "      <td>36.32</td>\n",
       "      <td>322100</td>\n",
       "      <td>8867.22</td>\n",
       "    </tr>\n",
       "    <tr>\n",
       "      <th>73</th>\n",
       "      <td>Iceland</td>\n",
       "      <td>7.99</td>\n",
       "      <td>317900</td>\n",
       "      <td>39768.51</td>\n",
       "    </tr>\n",
       "    <tr>\n",
       "      <th>102</th>\n",
       "      <td>Maldives</td>\n",
       "      <td>2710.86</td>\n",
       "      <td>314000</td>\n",
       "      <td>115.83</td>\n",
       "    </tr>\n",
       "    <tr>\n",
       "      <th>13</th>\n",
       "      <td>Barbados</td>\n",
       "      <td>1544.38</td>\n",
       "      <td>257000</td>\n",
       "      <td>166.41</td>\n",
       "    </tr>\n",
       "    <tr>\n",
       "      <th>186</th>\n",
       "      <td>Vanuatu</td>\n",
       "      <td>52.22</td>\n",
       "      <td>246000</td>\n",
       "      <td>4710.44</td>\n",
       "    </tr>\n",
       "    <tr>\n",
       "      <th>143</th>\n",
       "      <td>Samoa</td>\n",
       "      <td>157.48</td>\n",
       "      <td>179000</td>\n",
       "      <td>1136.68</td>\n",
       "    </tr>\n",
       "    <tr>\n",
       "      <th>142</th>\n",
       "      <td>Saint Lucia</td>\n",
       "      <td>731.59</td>\n",
       "      <td>174000</td>\n",
       "      <td>237.84</td>\n",
       "    </tr>\n",
       "    <tr>\n",
       "      <th>145</th>\n",
       "      <td>Sao Tome &amp; Principe</td>\n",
       "      <td>426.92</td>\n",
       "      <td>165000</td>\n",
       "      <td>386.49</td>\n",
       "    </tr>\n",
       "    <tr>\n",
       "      <th>109</th>\n",
       "      <td>Micronesia</td>\n",
       "      <td>409.53</td>\n",
       "      <td>111000</td>\n",
       "      <td>271.04</td>\n",
       "    </tr>\n",
       "    <tr>\n",
       "      <th>161</th>\n",
       "      <td>St. Vincent &amp; the Grenadines</td>\n",
       "      <td>725.73</td>\n",
       "      <td>109000</td>\n",
       "      <td>150.19</td>\n",
       "    </tr>\n",
       "    <tr>\n",
       "      <th>65</th>\n",
       "      <td>Grenada</td>\n",
       "      <td>783.02</td>\n",
       "      <td>104000</td>\n",
       "      <td>132.82</td>\n",
       "    </tr>\n",
       "    <tr>\n",
       "      <th>172</th>\n",
       "      <td>Tonga</td>\n",
       "      <td>360.11</td>\n",
       "      <td>104000</td>\n",
       "      <td>288.80</td>\n",
       "    </tr>\n",
       "    <tr>\n",
       "      <th>86</th>\n",
       "      <td>Kiribati</td>\n",
       "      <td>319.36</td>\n",
       "      <td>100000</td>\n",
       "      <td>313.13</td>\n",
       "    </tr>\n",
       "    <tr>\n",
       "      <th>5</th>\n",
       "      <td>Antigua &amp; Barbuda</td>\n",
       "      <td>520.34</td>\n",
       "      <td>89000</td>\n",
       "      <td>171.04</td>\n",
       "    </tr>\n",
       "    <tr>\n",
       "      <th>149</th>\n",
       "      <td>Seychelles</td>\n",
       "      <td>483.84</td>\n",
       "      <td>85000</td>\n",
       "      <td>175.68</td>\n",
       "    </tr>\n",
       "    <tr>\n",
       "      <th>3</th>\n",
       "      <td>Andorra</td>\n",
       "      <td>465.32</td>\n",
       "      <td>84082</td>\n",
       "      <td>180.70</td>\n",
       "    </tr>\n",
       "    <tr>\n",
       "      <th>46</th>\n",
       "      <td>Dominica</td>\n",
       "      <td>230.14</td>\n",
       "      <td>67000</td>\n",
       "      <td>291.12</td>\n",
       "    </tr>\n",
       "    <tr>\n",
       "      <th>105</th>\n",
       "      <td>Marshall Islands</td>\n",
       "      <td>901.49</td>\n",
       "      <td>63000</td>\n",
       "      <td>69.88</td>\n",
       "    </tr>\n",
       "    <tr>\n",
       "      <th>141</th>\n",
       "      <td>Saint Kitts &amp; Nevis</td>\n",
       "      <td>386.61</td>\n",
       "      <td>38960</td>\n",
       "      <td>100.77</td>\n",
       "    </tr>\n",
       "    <tr>\n",
       "      <th>95</th>\n",
       "      <td>Liechtenstein</td>\n",
       "      <td>581.19</td>\n",
       "      <td>35904</td>\n",
       "      <td>61.78</td>\n",
       "    </tr>\n",
       "    <tr>\n",
       "      <th>111</th>\n",
       "      <td>Monaco</td>\n",
       "      <td>42734.82</td>\n",
       "      <td>33000</td>\n",
       "      <td>0.77</td>\n",
       "    </tr>\n",
       "    <tr>\n",
       "      <th>144</th>\n",
       "      <td>San Marino</td>\n",
       "      <td>1375.07</td>\n",
       "      <td>32386</td>\n",
       "      <td>23.55</td>\n",
       "    </tr>\n",
       "    <tr>\n",
       "      <th>128</th>\n",
       "      <td>Palau</td>\n",
       "      <td>113.10</td>\n",
       "      <td>20000</td>\n",
       "      <td>176.83</td>\n",
       "    </tr>\n",
       "    <tr>\n",
       "      <th>177</th>\n",
       "      <td>Tuvalu</td>\n",
       "      <td>996.15</td>\n",
       "      <td>10000</td>\n",
       "      <td>10.04</td>\n",
       "    </tr>\n",
       "    <tr>\n",
       "      <th>117</th>\n",
       "      <td>Nauru</td>\n",
       "      <td>1233.33</td>\n",
       "      <td>10000</td>\n",
       "      <td>8.11</td>\n",
       "    </tr>\n",
       "    <tr>\n",
       "      <th>187</th>\n",
       "      <td>Vatican City</td>\n",
       "      <td>2071.99</td>\n",
       "      <td>800</td>\n",
       "      <td>0.39</td>\n",
       "    </tr>\n",
       "  </tbody>\n",
       "</table>\n",
       "<p>193 rows × 4 columns</p>\n",
       "</div>"
      ],
      "text/plain": [
       "                              Country  Density(pop/mi)  Population    Area(mi)\n",
       "34                              China           361.42  1339190000  3705405.45\n",
       "74                              India           933.27  1184639000  1269345.07\n",
       "183          United States of America            83.38   309975000  3717811.29\n",
       "75                          Indonesia           315.99   234181400   741099.62\n",
       "22                             Brazil            58.84   193364000  3286486.71\n",
       "127                          Pakistan           548.51   170260000   310402.84\n",
       "123                           Nigeria           443.71   170123000   356668.67\n",
       "12                         Bangladesh          2957.35   164425000    55598.69\n",
       "139                            Russia            21.53   141927297  6592768.87\n",
       "82                              Japan           873.17   127380000   145882.85\n",
       "108                            Mexico           142.33   108396211   761605.50\n",
       "133                        Philipines           811.64    94013200   115830.60\n",
       "189                           Vietnam           674.21    85789573   127243.78\n",
       "62                            Germany           593.11    81757600   137846.52\n",
       "55                           Ethiopia           182.04    79221000   435185.99\n",
       "50                              Egypt           203.92    78848000   386661.85\n",
       "76                               Iran           117.99    75078000   636296.10\n",
       "175                            Turkey           240.76    72561312   301383.50\n",
       "43   Democratic Republic of the Congo            74.90    67827000   905567.49\n",
       "58                             France           309.87    65447374   211209.38\n",
       "169                          Thailand           320.10    63525062   198456.43\n",
       "181                    United Kingdom           656.35    62041708    94525.49\n",
       "80                              Italy           518.81    60340328   116305.51\n",
       "115                           Myanmar           192.75    50496000   261970.21\n",
       "156                      South Africa           106.14    49991300   471010.46\n",
       "157                       South Korea          1309.02    49773145    38023.32\n",
       "159                             Spain           240.90    46951532   194897.34\n",
       "179                           Ukraine           196.80    45871738   233089.78\n",
       "35                           Colombia           103.63    45569000   439735.43\n",
       "182       United Republic of Tanzania           123.43    45040000   364899.98\n",
       "..                                ...              ...         ...         ...\n",
       "97                         Luxembourg           502.98      502207      998.46\n",
       "104                             Malta          3412.34      416333      122.01\n",
       "23                             Brunei           182.69      407000     2227.81\n",
       "170                       The Bahamas            64.29      346000     5382.26\n",
       "16                             Belize            36.32      322100     8867.22\n",
       "73                            Iceland             7.99      317900    39768.51\n",
       "102                          Maldives          2710.86      314000      115.83\n",
       "13                           Barbados          1544.38      257000      166.41\n",
       "186                           Vanuatu            52.22      246000     4710.44\n",
       "143                             Samoa           157.48      179000     1136.68\n",
       "142                       Saint Lucia           731.59      174000      237.84\n",
       "145               Sao Tome & Principe           426.92      165000      386.49\n",
       "109                        Micronesia           409.53      111000      271.04\n",
       "161      St. Vincent & the Grenadines           725.73      109000      150.19\n",
       "65                            Grenada           783.02      104000      132.82\n",
       "172                             Tonga           360.11      104000      288.80\n",
       "86                           Kiribati           319.36      100000      313.13\n",
       "5                   Antigua & Barbuda           520.34       89000      171.04\n",
       "149                        Seychelles           483.84       85000      175.68\n",
       "3                             Andorra           465.32       84082      180.70\n",
       "46                           Dominica           230.14       67000      291.12\n",
       "105                  Marshall Islands           901.49       63000       69.88\n",
       "141               Saint Kitts & Nevis           386.61       38960      100.77\n",
       "95                      Liechtenstein           581.19       35904       61.78\n",
       "111                            Monaco         42734.82       33000        0.77\n",
       "144                        San Marino          1375.07       32386       23.55\n",
       "128                             Palau           113.10       20000      176.83\n",
       "177                            Tuvalu           996.15       10000       10.04\n",
       "117                             Nauru          1233.33       10000        8.11\n",
       "187                      Vatican City          2071.99         800        0.39\n",
       "\n",
       "[193 rows x 4 columns]"
      ]
     },
     "execution_count": 38,
     "metadata": {},
     "output_type": "execute_result"
    }
   ],
   "source": [
    "#I will take the total population and the average Density, Population, Area while grouping\n",
    "p_df = population.groupby('Country')[['Population']].sum()\n",
    "p_df = p_df.reset_index()\n",
    "population.drop(['Population'], axis = 1, inplace = True)\n",
    "population_final = pd.merge(population, p_df, on = 'Country', how = 'inner')\n",
    "population = population_final.groupby('Country')[['Density(pop/mi)', 'Population', 'Area(mi)']].mean()\n",
    "population = population.reset_index()\n",
    "population.sort_values(by = 'Population', ascending = False)"
   ]
  },
  {
   "cell_type": "markdown",
   "metadata": {},
   "source": [
    "# Population"
   ]
  },
  {
   "cell_type": "code",
   "execution_count": 39,
   "metadata": {
    "collapsed": true
   },
   "outputs": [],
   "source": [
    "#Continent data frame\n",
    "continent = pd.read_csv('/Users/nsivapra/Desktop/DSI-SF-2-nsivapra/Capstone/Data/Countries-Continents-csv.csv')\n",
    "continent.drop(['Column', 'Column2', 'Column3', 'Column4', 'Column5', 'Column6', 'Column7', 'Column8', 'Column9'], axis = 1, inplace = True)"
   ]
  },
  {
   "cell_type": "code",
   "execution_count": 40,
   "metadata": {
    "collapsed": true
   },
   "outputs": [],
   "source": [
    "#Finding the countrys in continent but not in refugees\n",
    "refugee2010List = refugees2010['Country'].tolist()\n",
    "refugee2015List = refugees2015['Country'].tolist()\n",
    "contList = continent['Country'].tolist()\n",
    "s = set(refugee2010List)\n",
    "s2 = set(refugee2015List)\n",
    "diff_2010 = [x for x in contList if x not in s]\n",
    "diff_2015 = [x for x in contList if x not in s2]"
   ]
  },
  {
   "cell_type": "code",
   "execution_count": 41,
   "metadata": {
    "collapsed": false
   },
   "outputs": [
    {
     "name": "stdout",
     "output_type": "stream",
     "text": [
      "['Burkina', 'Cape Verde', 'Comoros', 'Congo', 'Congo, Democratic Republic of', 'Equatorial Guinea', 'Ivory Coast', 'Lesotho', 'Mauritius', 'Sao Tome and Principe', 'Seychelles', 'South Sudan', 'Tanzania', 'Bhutan', 'Burma (Myanmar)', 'East Timor', 'Korea, North', 'Korea, South', 'Laos', 'Maldives', 'Russian Federation', 'Andorra', 'Moldova', 'San Marino', 'Serbia', 'Vatican City', 'Antigua and Barbuda', 'Bahamas', 'Barbados', 'Dominica', 'Saint Kitts and Nevis', 'Saint Vincent and the Grenadines', 'United States', 'Kiribati', 'Marshall Islands', 'Micronesia', 'Nauru', 'Palau', 'Samoa', 'Solomon Islands', 'Tuvalu']\n"
     ]
    }
   ],
   "source": [
    "print diff_2010"
   ]
  },
  {
   "cell_type": "code",
   "execution_count": 42,
   "metadata": {
    "collapsed": false
   },
   "outputs": [
    {
     "name": "stdout",
     "output_type": "stream",
     "text": [
      "['Afghanistan', 'Albania', 'Algeria', 'Angola', 'Argentina', 'Armenia', 'Aruba', 'Australia', 'Austria', 'Azerbaijan', 'The Bahamas', 'Bahrain', 'Bangladesh', 'Belarus', 'Belgium', 'Belize', 'Benin', 'Bolivia', 'Bonaire', 'Bosnia and Herzegovina', 'Botswana', 'Brazil', 'British Virgin Islands', 'Brunei', 'Bulgaria', 'Burkina Faso', 'Burundi', 'Cambodia', 'Cameroon', 'Canada', 'Cayman Islands', 'Central African Republic', 'Chad', 'Chile', 'China', 'China, Hong Kong SAR', 'China, Macao SAR', 'Colombia', 'Republic of the Congo', 'Costa Rica', 'Croatia', 'Cuba', 'Cura\\xc3\\xa7ao', 'Cyprus', 'Czech Republic', \"C\\xc3\\xb4te d'Ivoire\", 'Democratic Republic of the Congo', 'Denmark', 'Djibouti', 'Dominican Republic', 'Ecuador', 'Egypt', 'El Salvador', 'Eritrea', 'Estonia', 'Ethiopia', 'Fiji', 'Finland', 'France', 'Gabon', 'Gambia', 'Georgia', 'Germany', 'Ghana', 'Greece', 'Grenada', 'Guatemala', 'Guinea', 'Guinea-Bissau', 'Guyana', 'Haiti', 'Honduras', 'Hungary', 'Iceland', 'India', 'Indonesia', 'Iran', 'Iraq', 'Ireland', 'Israel', 'Italy', 'Jamaica', 'Japan', 'Jordan', 'Kazakhstan', 'Kenya', 'Kuwait', 'Kyrgyzstan', 'Latvia', 'Lebanon', 'Liberia', 'Libya', 'Liechtenstein', 'Lithuania', 'Luxembourg', 'Madagascar', 'Malawi', 'Malaysia', 'Mali', 'Malta', 'Mauritania', 'Mexico', 'Monaco', 'Mongolia', 'Montenegro', 'Montserrat', 'Morocco', 'Mozambique', 'Myanmar', 'Namibia', 'Nepal', 'Netherlands', 'New Zealand', 'Nicaragua', 'Niger', 'Nigeria', 'Norway', 'Oman', 'Pakistan', 'Panama', 'Papua New Guinea', 'Paraguay', 'Peru', 'Philippines', 'Poland', 'Portugal', 'Qatar', 'South Korea', 'Rep. of Moldova', 'Romania', 'Russia', 'Rwanda', 'Saint Lucia', 'Saudi Arabia', 'Senegal', 'Serbia and Kosovo (S/RES/1244 (1999))', 'Sierra Leone', 'Singapore', 'Sint Maarten (Dutch part)', 'Slovakia', 'Slovenia', 'Somalia', 'South Africa', 'Spain', 'Sri Lanka', 'Sudan', 'Suriname', 'Swaziland', 'Sweden', 'Switzerland', 'Syria', 'Tajikistan', 'Thailand', 'Macedonia', 'Timor-Leste', 'Togo', 'Tonga', 'Trinidad and Tobago', 'Tunisia', 'Turkey', 'Turkmenistan', 'Uganda', 'Ukraine', 'United Arab Emirates', 'United Kingdom', 'United Republic of Tanzania', 'United States of America', 'Uruguay', 'Uzbekistan', 'Vanuatu', 'Venezuela', 'Vietnam', 'Yemen', 'Zambia', 'Zimbabwe']\n"
     ]
    }
   ],
   "source": [
    "#In reference\n",
    "print refugee2010List"
   ]
  },
  {
   "cell_type": "code",
   "execution_count": 43,
   "metadata": {
    "collapsed": true
   },
   "outputs": [],
   "source": [
    "#Rename the cell value\n",
    "continent['Country'][11] = 'Republic of the Congo'\n",
    "continent['Country'][12] = 'Democratic Republic of the Congo'\n",
    "continent['Country'][48] = 'United Republic of Tanzania'\n",
    "continent['Country'][59] = 'Myanmar'\n",
    "continent['Country'][71] = 'North Korea'\n",
    "continent['Country'][72] = 'South Korea'\n",
    "continent['Country'][85] = 'Russia'\n",
    "continent['Country'][147] = 'The Bahamas'\n",
    "continent['Country'][167] = 'United States of America'"
   ]
  },
  {
   "cell_type": "markdown",
   "metadata": {},
   "source": [
    "# Rain fall"
   ]
  },
  {
   "cell_type": "code",
   "execution_count": 44,
   "metadata": {
    "collapsed": true
   },
   "outputs": [],
   "source": [
    "#Reading the data for rain and scraping the Country and rain fall in ml\n",
    "page = requests.get('http://www.nationmaster.com/country-info/stats/Geography/Average-precipitation-in-depth/Mm-per-year')\n",
    "tree = html.fromstring(page.text)\n",
    "\n",
    "country = tree.xpath(\"//div/div/table/tbody/tr/td[2]/a/span/text()\")\n",
    "rain = tree.xpath(\"//div/div/table/tbody/tr/td[@class = 'amount']/text()\")\n",
    "\n",
    "rain = pd.DataFrame({'Country' : country, 'Rain(ml)' : rain})"
   ]
  },
  {
   "cell_type": "code",
   "execution_count": 45,
   "metadata": {
    "collapsed": true
   },
   "outputs": [],
   "source": [
    "rain['Rain(ml)'] = rain['Rain(ml)'].map(lambda x: x.lstrip('\\r\\n                  ').rstrip('\\r\\n            '))"
   ]
  },
  {
   "cell_type": "code",
   "execution_count": 46,
   "metadata": {
    "collapsed": true
   },
   "outputs": [],
   "source": [
    "#Take the numeric value.\n",
    "rain[\"Rain(ml)\"] = rain[\"Rain(ml)\"].str.replace(\",\",\"\")\n",
    "rain[\"Rain(ml)\"] = pd.to_numeric(rain[\"Rain(ml)\"], errors = 'coerce')"
   ]
  },
  {
   "cell_type": "code",
   "execution_count": 47,
   "metadata": {
    "collapsed": true
   },
   "outputs": [],
   "source": [
    "#Take the difference in rain list and refugees\n",
    "refugee2010List = refugees2010['Country'].tolist()\n",
    "refugee2015List = refugees2015['Country'].tolist()\n",
    "rainList = rain['Country'].tolist()\n",
    "s = set(refugee2010List)\n",
    "s2 = set(refugee2015List)\n",
    "diff_2010 = [x for x in rainList if x not in s]\n",
    "diff_2015 = [x for x in rainList if x not in s2]"
   ]
  },
  {
   "cell_type": "code",
   "execution_count": 48,
   "metadata": {
    "collapsed": false
   },
   "outputs": [
    {
     "name": "stdout",
     "output_type": "stream",
     "text": [
      "['Sao Tome and Principe', 'Solomon Islands', 'Seychelles', 'Bhutan', 'Equatorial Guinea', 'Burma', 'Dominica', 'Puerto Rico', 'Mauritius', 'Maldives', 'Laos', 'Former Spanish colonies', 'Latin America and Caribbean', 'Saint Vincent and the Grenadines', 'East Timor', 'Saint Kitts and Nevis', 'Barbados', 'Hot countries', 'Catholic countries', 'South Asia', \"Cote d'Ivoire\", 'Christian countries', 'Former British colonies', 'Emerging markets', 'Heavily indebted countries', 'Sub-Saharan Africa', 'Tanzania', 'South and Central Asia', 'North Korea', 'Antigua and Barbuda', 'Religious countries', 'Sparsely populated countries', 'Former French colonies', 'High income OECD countries', 'Group of 7 countries (G7)', 'Cold countries', 'Comoros', 'failed states', 'Non-religious countries', 'NATO countries', 'Europe', 'The Gambia', 'Eastern Europe', 'Lesotho', 'Eurozone', 'European Union', 'United States', 'Muslim countries', 'Republic of Macedonia', 'Former Soviet republics', 'OPEC countries', 'Moldova', 'Cape Verde', 'Middle Eastern and North Africa']\n"
     ]
    }
   ],
   "source": [
    "print diff_2010"
   ]
  },
  {
   "cell_type": "code",
   "execution_count": 49,
   "metadata": {
    "collapsed": false
   },
   "outputs": [
    {
     "name": "stdout",
     "output_type": "stream",
     "text": [
      "['Afghanistan', 'Albania', 'Algeria', 'Angola', 'Argentina', 'Armenia', 'Aruba', 'Australia', 'Austria', 'Azerbaijan', 'The Bahamas', 'Bahrain', 'Bangladesh', 'Belarus', 'Belgium', 'Belize', 'Benin', 'Bolivia', 'Bonaire', 'Bosnia and Herzegovina', 'Botswana', 'Brazil', 'British Virgin Islands', 'Brunei', 'Bulgaria', 'Burkina Faso', 'Burundi', 'Cambodia', 'Cameroon', 'Canada', 'Cayman Islands', 'Central African Republic', 'Chad', 'Chile', 'China', 'China, Hong Kong SAR', 'China, Macao SAR', 'Colombia', 'Republic of the Congo', 'Costa Rica', 'Croatia', 'Cuba', 'Cura\\xc3\\xa7ao', 'Cyprus', 'Czech Republic', \"C\\xc3\\xb4te d'Ivoire\", 'Democratic Republic of the Congo', 'Denmark', 'Djibouti', 'Dominican Republic', 'Ecuador', 'Egypt', 'El Salvador', 'Eritrea', 'Estonia', 'Ethiopia', 'Fiji', 'Finland', 'France', 'Gabon', 'Gambia', 'Georgia', 'Germany', 'Ghana', 'Greece', 'Grenada', 'Guatemala', 'Guinea', 'Guinea-Bissau', 'Guyana', 'Haiti', 'Honduras', 'Hungary', 'Iceland', 'India', 'Indonesia', 'Iran', 'Iraq', 'Ireland', 'Israel', 'Italy', 'Jamaica', 'Japan', 'Jordan', 'Kazakhstan', 'Kenya', 'Kuwait', 'Kyrgyzstan', 'Latvia', 'Lebanon', 'Liberia', 'Libya', 'Liechtenstein', 'Lithuania', 'Luxembourg', 'Madagascar', 'Malawi', 'Malaysia', 'Mali', 'Malta', 'Mauritania', 'Mexico', 'Monaco', 'Mongolia', 'Montenegro', 'Montserrat', 'Morocco', 'Mozambique', 'Myanmar', 'Namibia', 'Nepal', 'Netherlands', 'New Zealand', 'Nicaragua', 'Niger', 'Nigeria', 'Norway', 'Oman', 'Pakistan', 'Panama', 'Papua New Guinea', 'Paraguay', 'Peru', 'Philippines', 'Poland', 'Portugal', 'Qatar', 'South Korea', 'Rep. of Moldova', 'Romania', 'Russia', 'Rwanda', 'Saint Lucia', 'Saudi Arabia', 'Senegal', 'Serbia and Kosovo (S/RES/1244 (1999))', 'Sierra Leone', 'Singapore', 'Sint Maarten (Dutch part)', 'Slovakia', 'Slovenia', 'Somalia', 'South Africa', 'Spain', 'Sri Lanka', 'Sudan', 'Suriname', 'Swaziland', 'Sweden', 'Switzerland', 'Syria', 'Tajikistan', 'Thailand', 'Macedonia', 'Timor-Leste', 'Togo', 'Tonga', 'Trinidad and Tobago', 'Tunisia', 'Turkey', 'Turkmenistan', 'Uganda', 'Ukraine', 'United Arab Emirates', 'United Kingdom', 'United Republic of Tanzania', 'United States of America', 'Uruguay', 'Uzbekistan', 'Vanuatu', 'Venezuela', 'Vietnam', 'Yemen', 'Zambia', 'Zimbabwe']\n"
     ]
    }
   ],
   "source": [
    "print refugee2010List"
   ]
  },
  {
   "cell_type": "code",
   "execution_count": 50,
   "metadata": {
    "collapsed": false
   },
   "outputs": [
    {
     "name": "stderr",
     "output_type": "stream",
     "text": [
      "/anaconda/envs/dsi/lib/python2.7/site-packages/ipykernel/__main__.py:1: SettingWithCopyWarning: \n",
      "A value is trying to be set on a copy of a slice from a DataFrame\n",
      "\n",
      "See the caveats in the documentation: http://pandas.pydata.org/pandas-docs/stable/indexing.html#indexing-view-versus-copy\n",
      "  if __name__ == '__main__':\n",
      "/anaconda/envs/dsi/lib/python2.7/site-packages/ipykernel/__main__.py:2: SettingWithCopyWarning: \n",
      "A value is trying to be set on a copy of a slice from a DataFrame\n",
      "\n",
      "See the caveats in the documentation: http://pandas.pydata.org/pandas-docs/stable/indexing.html#indexing-view-versus-copy\n",
      "  from ipykernel import kernelapp as app\n",
      "/anaconda/envs/dsi/lib/python2.7/site-packages/ipykernel/__main__.py:3: SettingWithCopyWarning: \n",
      "A value is trying to be set on a copy of a slice from a DataFrame\n",
      "\n",
      "See the caveats in the documentation: http://pandas.pydata.org/pandas-docs/stable/indexing.html#indexing-view-versus-copy\n",
      "  app.launch_new_instance()\n",
      "/anaconda/envs/dsi/lib/python2.7/site-packages/ipykernel/__main__.py:4: SettingWithCopyWarning: \n",
      "A value is trying to be set on a copy of a slice from a DataFrame\n",
      "\n",
      "See the caveats in the documentation: http://pandas.pydata.org/pandas-docs/stable/indexing.html#indexing-view-versus-copy\n",
      "/anaconda/envs/dsi/lib/python2.7/site-packages/ipykernel/__main__.py:5: SettingWithCopyWarning: \n",
      "A value is trying to be set on a copy of a slice from a DataFrame\n",
      "\n",
      "See the caveats in the documentation: http://pandas.pydata.org/pandas-docs/stable/indexing.html#indexing-view-versus-copy\n"
     ]
    }
   ],
   "source": [
    "rain['Country'][54] = 'Guinea Bissau'\n",
    "rain['Country'][96] = 'United Republic of Tanzania'\n",
    "rain['Country'][122] = 'Gambia'\n",
    "rain['Country'][133] = 'United States of America'\n",
    "rain['Country'][151] = 'Macedonia'"
   ]
  },
  {
   "cell_type": "markdown",
   "metadata": {},
   "source": [
    "# Murder Rate"
   ]
  },
  {
   "cell_type": "code",
   "execution_count": 51,
   "metadata": {
    "collapsed": false
   },
   "outputs": [],
   "source": [
    "#Murder Rate by Country\n",
    "page = requests.get('http://www.nationmaster.com/country-info/stats/Crime/Murder-rate')\n",
    "tree = html.fromstring(page.text)\n",
    "\n",
    "murder = tree.xpath('//div/div/table/tbody/tr/td[2]/text()')\n",
    "country = tree.xpath('//div/div/table/tbody/tr/td/a/span/text()')\n",
    "\n",
    "murder = murder[0:151]\n",
    "murder = pd.DataFrame({'Country' : country, 'Murder Rate' : murder})"
   ]
  },
  {
   "cell_type": "code",
   "execution_count": 52,
   "metadata": {
    "collapsed": false
   },
   "outputs": [],
   "source": [
    "refugee2010List = refugees2010['Country'].tolist()\n",
    "refugee2015List = refugees2015['Country'].tolist()\n",
    "murList = murder['Country'].tolist()\n",
    "s = set(refugee2010List)\n",
    "s2 = set(refugee2015List)\n",
    "diff_2010 = [x for x in murList if x not in s]\n",
    "diff_2015 = [x for x in murList if x not in s2]"
   ]
  },
  {
   "cell_type": "code",
   "execution_count": 53,
   "metadata": {
    "collapsed": false
   },
   "outputs": [
    {
     "name": "stdout",
     "output_type": "stream",
     "text": [
      "['Andorra', 'Antigua and Barbuda', 'Barbados', 'Bhutan', 'Cape Verde', 'Comoros', 'Dominica', 'East Timor', 'Equatorial Guinea', 'Lesotho', 'Maldives', 'Mauritius', 'Moldova', 'Northern Ireland', 'Saint Kitts and Nevis', 'Saint Vincent and the Grenadines', 'Scotland', 'Seychelles', 'Soviet Union', 'Tanzania', 'United States']\n"
     ]
    }
   ],
   "source": [
    "print diff_2010\n",
    "#Tanzania to United Republic of Tanzania [137]\n",
    "#United States to United States of America [145]"
   ]
  },
  {
   "cell_type": "code",
   "execution_count": 54,
   "metadata": {
    "collapsed": false
   },
   "outputs": [],
   "source": [
    "murder['Country'][137] = 'United Republic of Tanzania'\n",
    "murder['Country'][145] = 'United States of America'"
   ]
  },
  {
   "cell_type": "markdown",
   "metadata": {},
   "source": [
    "# Murder"
   ]
  },
  {
   "cell_type": "code",
   "execution_count": 55,
   "metadata": {
    "collapsed": true
   },
   "outputs": [],
   "source": [
    "page = requests.get('http://www.nationmaster.com/country-info/stats/Education/Children-out-of-school%2C-primary-per-1000')\n",
    "tree = html.fromstring(page.text)\n",
    "\n",
    "education = tree.xpath('//div/div/table/tbody/tr/td[@class=\"amount\"]/text()')\n",
    "country = tree.xpath('//div/div/table/tbody/tr/td[2]/a/span/text()')"
   ]
  },
  {
   "cell_type": "code",
   "execution_count": 56,
   "metadata": {
    "collapsed": false
   },
   "outputs": [],
   "source": [
    "education = pd.DataFrame({'Country' : country, 'Children_out_of_school' : education})"
   ]
  },
  {
   "cell_type": "code",
   "execution_count": 57,
   "metadata": {
    "collapsed": false
   },
   "outputs": [],
   "source": [
    "education['Children_out_of_school'] = education['Children_out_of_school'].map(lambda x: x.lstrip('\\r\\n').rstrip('\\r\\n        '))"
   ]
  },
  {
   "cell_type": "code",
   "execution_count": 58,
   "metadata": {
    "collapsed": false
   },
   "outputs": [],
   "source": [
    "education[\"Children_out_of_school\"] = pd.to_numeric(education[\"Children_out_of_school\"], errors = 'coerce')"
   ]
  },
  {
   "cell_type": "code",
   "execution_count": 59,
   "metadata": {
    "collapsed": false
   },
   "outputs": [
    {
     "name": "stdout",
     "output_type": "stream",
     "text": [
      "<class 'pandas.core.frame.DataFrame'>\n",
      "RangeIndex: 198 entries, 0 to 197\n",
      "Data columns (total 2 columns):\n",
      "Children_out_of_school    198 non-null float64\n",
      "Country                   198 non-null object\n",
      "dtypes: float64(1), object(1)\n",
      "memory usage: 3.2+ KB\n"
     ]
    }
   ],
   "source": [
    "education.info()"
   ]
  },
  {
   "cell_type": "code",
   "execution_count": 60,
   "metadata": {
    "collapsed": false
   },
   "outputs": [
    {
     "name": "stdout",
     "output_type": "stream",
     "text": [
      "0 Somalia\n",
      "1 Afghanistan\n",
      "2 Democratic Republic of the Congo\n",
      "3 Sierra Leone\n",
      "4 Liberia\n",
      "5 Eritrea\n",
      "6 Nigeria\n",
      "7 Haiti\n",
      "8 Chad\n",
      "9 Cote d'Ivoire\n",
      "10 Niger\n",
      "11 Papua New Guinea\n",
      "12 Burkina Faso\n",
      "13 Equatorial Guinea\n",
      "14 Burma\n",
      "15 Mauritania\n",
      "16 Guinea-Bissau\n",
      "17 Mali\n",
      "18 Central African Republic\n",
      "19 The Gambia\n",
      "20 Djibouti\n",
      "21 Guinea\n",
      "22 Brazil\n",
      "23 Ethiopia\n",
      "24 Senegal\n",
      "25 Madagascar\n",
      "26 Zimbabwe\n",
      "27 Guyana\n",
      "28 Pakistan\n",
      "29 Lesotho\n",
      "30 Swaziland\n",
      "31 Mozambique\n",
      "32 Kenya\n",
      "33 Ghana\n",
      "34 Botswana\n",
      "35 Angola\n",
      "36 Comoros\n",
      "37 Bolivia\n",
      "38 Paraguay\n",
      "39 Yemen\n",
      "40 Saint Kitts and Nevis\n",
      "41 Saint Lucia\n",
      "42 Namibia\n",
      "43 Uganda\n",
      "44 Turks and Caicos Islands\n",
      "45 Philippines\n",
      "46 Antigua and Barbuda\n",
      "47 China\n",
      "48 East Timor\n",
      "49 Cameroon\n",
      "50 Iraq\n",
      "51 Republic of the Congo\n",
      "52 Puerto Rico\n",
      "53 South Africa\n",
      "54 Colombia\n",
      "55 South Asia\n",
      "56 Gabon\n",
      "57 Malta\n",
      "58 Togo\n",
      "59 Dominican Republic\n",
      "60 Jamaica\n",
      "61 Bhutan\n",
      "62 Solomon Islands\n",
      "63 Former Spanish colonies\n",
      "64 Middle Eastern and North Africa\n",
      "65 Nicaragua\n",
      "66 Panama\n",
      "67 Suriname\n",
      "68 Bermuda\n",
      "69 Zambia\n",
      "70 Burundi\n",
      "71 Honduras\n",
      "72 Benin\n",
      "73 Macau\n",
      "74 Saudi Arabia\n",
      "75 Guatemala\n",
      "76 Maldives\n",
      "77 Azerbaijan\n",
      "78 Albania\n",
      "79 Venezuela\n",
      "80 El Salvador\n",
      "81 Heavily indebted countries\n",
      "82 Uzbekistan\n",
      "83 Chile\n",
      "84 Samoa\n",
      "85 Seychelles\n",
      "86 United States\n",
      "87 French Polynesia\n",
      "88 Emerging markets\n",
      "89 Libya\n",
      "90 Costa Rica\n",
      "91 Sri Lanka\n",
      "92 Romania\n",
      "93 Brunei\n",
      "94 Laos\n",
      "95 Peru\n",
      "96 Malawi\n",
      "97 Bangladesh\n",
      "98 Lebanon\n",
      "99 Tanzania\n",
      "100 Dominica\n",
      "101 Moldova\n",
      "102 Ecuador\n",
      "103 Luxembourg\n",
      "104 Indonesia\n",
      "105 Thailand\n",
      "106 Malaysia\n",
      "107 Kiribati\n",
      "108 Mexico\n",
      "109 Qatar\n",
      "110 Turkey\n",
      "111 Grenada\n",
      "112 Cape Verde\n",
      "113 Jordan\n",
      "114 San Marino\n",
      "115 Australia\n",
      "116 Serbia\n",
      "117 Austria\n",
      "118 Former Soviet republics\n",
      "119 Nepal\n",
      "120 Armenia\n",
      "121 Denmark\n",
      "122 Morocco\n",
      "123 Egypt\n",
      "124 Israel\n",
      "125 Cuba\n",
      "126 Tonga\n",
      "127 Barbados\n",
      "128 Belarus\n",
      "129 Oman\n",
      "130 Poland\n",
      "131 Rwanda\n",
      "132 The Bahamas\n",
      "133 Cambodia\n",
      "134 Cayman Islands\n",
      "135 Sao Tome and Principe\n",
      "136 Mongolia\n",
      "137 Mauritius\n",
      "138 Estonia\n",
      "139 Russia\n",
      "140 Slovenia\n",
      "141 Iceland\n",
      "142 Vietnam\n",
      "143 Kuwait\n",
      "144 High income OECD countries\n",
      "145 Vanuatu\n",
      "146 Fiji\n",
      "147 European Union\n",
      "148 Ireland\n",
      "149 Trinidad and Tobago\n",
      "150 Belize\n",
      "151 Eurozone\n",
      "152 NATO countries\n",
      "153 Group of 7 countries (G7)\n",
      "154 India\n",
      "155 Finland\n",
      "156 Kyrgyzstan\n",
      "157 Saint Vincent and the Grenadines\n",
      "158 Republic of Macedonia\n",
      "159 Bahrain\n",
      "160 Montenegro\n",
      "161 Latvia\n",
      "162 Argentina\n",
      "163 Aruba\n",
      "164 Tajikistan\n",
      "165 Croatia\n",
      "166 Syria\n",
      "167 Hungary\n",
      "168 Georgia\n",
      "169 Liechtenstein\n",
      "170 Bulgaria\n",
      "171 Algeria\n",
      "172 Hong Kong\n",
      "173 Norway\n",
      "174 United Arab Emirates\n",
      "175 Belgium\n",
      "176 France\n",
      "177 South Korea\n",
      "178 Kazakhstan\n",
      "179 New Zealand\n",
      "180 Ukraine\n",
      "181 Marshall Islands\n",
      "182 Lithuania\n",
      "183 Switzerland\n",
      "184 Portugal\n",
      "185 Italy\n",
      "186 Cyprus\n",
      "187 Sweden\n",
      "188 Greece\n",
      "189 United Kingdom\n",
      "190 Spain\n",
      "191 Uruguay\n",
      "192 Germany\n",
      "193 Canada\n",
      "194 Tunisia\n",
      "195 Netherlands\n",
      "196 Iran\n",
      "197 Japan\n"
     ]
    }
   ],
   "source": [
    "i = 0\n",
    "while i < len(education):\n",
    "    print i, education['Country'][i]\n",
    "    i+=1"
   ]
  },
  {
   "cell_type": "code",
   "execution_count": 61,
   "metadata": {
    "collapsed": false
   },
   "outputs": [
    {
     "name": "stderr",
     "output_type": "stream",
     "text": [
      "/anaconda/envs/dsi/lib/python2.7/site-packages/ipykernel/__main__.py:1: SettingWithCopyWarning: \n",
      "A value is trying to be set on a copy of a slice from a DataFrame\n",
      "\n",
      "See the caveats in the documentation: http://pandas.pydata.org/pandas-docs/stable/indexing.html#indexing-view-versus-copy\n",
      "  if __name__ == '__main__':\n",
      "/anaconda/envs/dsi/lib/python2.7/site-packages/ipykernel/__main__.py:2: SettingWithCopyWarning: \n",
      "A value is trying to be set on a copy of a slice from a DataFrame\n",
      "\n",
      "See the caveats in the documentation: http://pandas.pydata.org/pandas-docs/stable/indexing.html#indexing-view-versus-copy\n",
      "  from ipykernel import kernelapp as app\n",
      "/anaconda/envs/dsi/lib/python2.7/site-packages/ipykernel/__main__.py:3: SettingWithCopyWarning: \n",
      "A value is trying to be set on a copy of a slice from a DataFrame\n",
      "\n",
      "See the caveats in the documentation: http://pandas.pydata.org/pandas-docs/stable/indexing.html#indexing-view-versus-copy\n",
      "  app.launch_new_instance()\n",
      "/anaconda/envs/dsi/lib/python2.7/site-packages/ipykernel/__main__.py:4: SettingWithCopyWarning: \n",
      "A value is trying to be set on a copy of a slice from a DataFrame\n",
      "\n",
      "See the caveats in the documentation: http://pandas.pydata.org/pandas-docs/stable/indexing.html#indexing-view-versus-copy\n",
      "/anaconda/envs/dsi/lib/python2.7/site-packages/ipykernel/__main__.py:5: SettingWithCopyWarning: \n",
      "A value is trying to be set on a copy of a slice from a DataFrame\n",
      "\n",
      "See the caveats in the documentation: http://pandas.pydata.org/pandas-docs/stable/indexing.html#indexing-view-versus-copy\n"
     ]
    }
   ],
   "source": [
    "education['Country'][16] = 'Guinea Bissau'\n",
    "education['Country'][19] = 'Gambia'\n",
    "education['Country'][86] = 'United States of America'\n",
    "education['Country'][99] = 'United Republic of Tanzania'\n",
    "education['Country'][158] = 'Macedonia'"
   ]
  },
  {
   "cell_type": "code",
   "execution_count": 62,
   "metadata": {
    "collapsed": true
   },
   "outputs": [],
   "source": [
    "refugee2010List = refugees2010['Country'].tolist()\n",
    "refugee2015List = refugees2015['Country'].tolist()\n",
    "eduList = education['Country'].tolist()\n",
    "s = set(refugee2010List)\n",
    "s2 = set(refugee2015List)\n",
    "diff_2010 = [x for x in eduList if x not in s]\n",
    "diff_2015 = [x for x in eduList if x not in s2]"
   ]
  },
  {
   "cell_type": "code",
   "execution_count": 63,
   "metadata": {
    "collapsed": false
   },
   "outputs": [
    {
     "name": "stdout",
     "output_type": "stream",
     "text": [
      "[\"Cote d'Ivoire\", 'Equatorial Guinea', 'Burma', 'Guinea Bissau', 'Lesotho', 'Comoros', 'Saint Kitts and Nevis', 'Turks and Caicos Islands', 'Antigua and Barbuda', 'East Timor', 'Puerto Rico', 'South Asia', 'Bhutan', 'Solomon Islands', 'Former Spanish colonies', 'Middle Eastern and North Africa', 'Bermuda', 'Macau', 'Maldives', 'Heavily indebted countries', 'Samoa', 'Seychelles', 'French Polynesia', 'Emerging markets', 'Laos', 'Dominica', 'Moldova', 'Kiribati', 'Cape Verde', 'San Marino', 'Serbia', 'Former Soviet republics', 'Barbados', 'Sao Tome and Principe', 'Mauritius', 'High income OECD countries', 'European Union', 'Eurozone', 'NATO countries', 'Group of 7 countries (G7)', 'Saint Vincent and the Grenadines', 'Hong Kong', 'Marshall Islands']\n"
     ]
    }
   ],
   "source": [
    "print diff_2010\n",
    "#Change Guinea-Bissau to Guinea Bissau [16]\n",
    "#The Gambia to Gambia [19]\n",
    "#United States to United States of America [86]\n",
    "#Tanzania to United Republic of Tanzania [99]\n",
    "#Republic of Macedonia to Macedonia [158]"
   ]
  },
  {
   "cell_type": "markdown",
   "metadata": {},
   "source": [
    "# Poverty"
   ]
  },
  {
   "cell_type": "code",
   "execution_count": 64,
   "metadata": {
    "collapsed": false
   },
   "outputs": [],
   "source": [
    "#Poverty Rate\n",
    "import urllib2\n",
    "from lxml import etree\n",
    "\n",
    "parser = etree.HTMLParser()\n",
    "tree = etree.parse(urllib2.urlopen('http://www.indexmundi.com/g/r.aspx?v=69'), parser)\n",
    "\n",
    "country = tree.xpath('//div[@id=\"main\"]/div[@id = \"content\"]/table/tr/td[2]/a/text()')\n",
    "poverty = tree.xpath('//div[@id=\"main\"]/div[@id = \"content\"]/table/tr/td[3]/text()')\n",
    "poverty = pd.DataFrame({'Country' : country, 'Poverty' : poverty})"
   ]
  },
  {
   "cell_type": "code",
   "execution_count": 65,
   "metadata": {
    "collapsed": true
   },
   "outputs": [],
   "source": [
    "refugee2010List = refugees2010['Country'].tolist()\n",
    "refugee2015List = refugees2015['Country'].tolist()\n",
    "povList = poverty['Country'].tolist()\n",
    "s = set(refugee2010List)\n",
    "s2 = set(refugee2015List)\n",
    "diff_2010 = [x for x in povList if x not in s]\n",
    "diff_2015 = [x for x in povList if x not in s2]"
   ]
  },
  {
   "cell_type": "code",
   "execution_count": 66,
   "metadata": {
    "collapsed": true
   },
   "outputs": [],
   "source": [
    "poverty['Country'][3] = 'Democratic Republic of the Congo'\n",
    "poverty['Country'][24] = 'Gambia'\n",
    "poverty['Country'][28] = 'Republic of Congo'\n",
    "poverty['Country'][48] = 'United Republic of Tanzania'\n",
    "poverty['Country'][119] = 'South Korea'\n",
    "poverty['Country'][126] = 'United States of America'\n",
    "poverty['Country'][143] = 'The Bahamas'"
   ]
  },
  {
   "cell_type": "code",
   "execution_count": 67,
   "metadata": {
    "collapsed": false
   },
   "outputs": [
    {
     "name": "stdout",
     "output_type": "stream",
     "text": [
      "['Congo, Democratic Republic of the', 'Sao Tome and Principe', 'Comoros', 'South Sudan', 'Lesotho', 'Gambia, The', 'Congo, Republic of the', \"Cote d'Ivoire\", 'East Timor', 'Gaza Strip', 'Tanzania', 'Burma', 'Cape Verde', 'Kosovo', 'Dominica', 'Virgin Islands', 'Micronesia, Federated States of', 'Anguilla', 'Guam', 'Laos', 'Moldova', 'French Polynesia', 'Hong Kong', 'West Bank', 'Korea, South', 'Maldives', 'United States', 'Bhutan', 'Bermuda', 'Bahamas, The', 'Greenland', 'Serbia', 'Mauritius', 'Taiwan']\n"
     ]
    }
   ],
   "source": [
    "print diff_2010\n",
    "#Congo to Democratic Republic of the Congo [3]\n",
    "#Gambia, The to Gambia [24]\n",
    "#Congo, Republic of the to Republic of Congo [28]\n",
    "#Tanzania to United Republic of Tanzania [48]\n",
    "#Korea, South to South Korea [119]\n",
    "#United States to United States of America [126]\n",
    "#Bahamas, The to The Bahamas [143]"
   ]
  },
  {
   "cell_type": "markdown",
   "metadata": {},
   "source": [
    "# Famine"
   ]
  },
  {
   "cell_type": "code",
   "execution_count": 68,
   "metadata": {
    "collapsed": true
   },
   "outputs": [],
   "source": [
    "#Famine\n",
    "\n",
    "# Zimbabwe\n",
    "# 2003- famine in Sudan/Darfur (Darfur conflict)\n",
    "# 2005 Malawi food crisis\n",
    "# 2005-06 Niger food crisis\n",
    "# 2006 Horn of Africa food crisis (Djibouti, Eritrea, Ethiopia, and Somalia)\n",
    "# 2008- North Korean food crisis\n",
    "# 2008- Afghanistan food crisis\n",
    "# 2008- Bangladesh food crisis\n",
    "# 2008- East Africa food crisis (United Republic of Tanzania, Kenya and Uganda, Burundi and Rwanda)"
   ]
  },
  {
   "cell_type": "code",
   "execution_count": 69,
   "metadata": {
    "collapsed": false
   },
   "outputs": [],
   "source": [
    "famList = []\n",
    "i = 0\n",
    "while i < len(refugees2010['Country']):\n",
    "    if refugees2010['Country'][i] == 'Sudan':\n",
    "        famList.append(1)\n",
    "    elif refugees2010['Country'][i] == 'Darfur':\n",
    "        famList.append(1)\n",
    "    elif refugees2010['Country'][i] == 'Malawi':\n",
    "        famList.append(1)\n",
    "    elif refugees2010['Country'][i] == 'Niger':\n",
    "        famList.append(1)\n",
    "    elif refugees2010['Country'][i] == 'Djibouti':\n",
    "        famList.append(1)\n",
    "    elif refugees2010['Country'][i] == 'Eritrea':\n",
    "        famList.append(1)\n",
    "    elif refugees2010['Country'][i] == 'Ethiopia':\n",
    "        famList.append(1)\n",
    "    elif refugees2010['Country'][i] == 'Somalia':\n",
    "        famList.append(1)\n",
    "    elif refugees2010['Country'][i] == 'North Korea':\n",
    "        famList.append(1)\n",
    "    elif refugees2010['Country'][i] == 'Afghanistan':\n",
    "        famList.append(1)\n",
    "    elif refugees2010['Country'][i] == 'Bangladesh':\n",
    "        famList.append(1)\n",
    "    elif refugees2010['Country'][i] == 'United Republic of Tanzania':\n",
    "        famList.append(1)\n",
    "    elif refugees2010['Country'][i] == 'Kenya':\n",
    "        famList.append(1)\n",
    "    elif refugees2010['Country'][i] == 'Uganda':\n",
    "        famList.append(1)\n",
    "    elif refugees2010['Country'][i] == 'Burundi':\n",
    "        famList.append(1)\n",
    "    elif refugees2010['Country'][i] == 'Rwanda':\n",
    "        famList.append(1)\n",
    "    else:\n",
    "        famList.append(0)\n",
    "    i+=1\n",
    "refugees2010['Famine'] = famList"
   ]
  },
  {
   "cell_type": "markdown",
   "metadata": {},
   "source": [
    "# Civil War"
   ]
  },
  {
   "cell_type": "code",
   "execution_count": 70,
   "metadata": {
    "collapsed": true
   },
   "outputs": [],
   "source": [
    "#Civil War\n",
    "\n",
    "# Albanian rebellion in Macedonia, 2001 (Macedonia)\n",
    "# First Ivorian Civil War, 2002–2007 (Côte d'Ivoire)\n",
    "# Iraq War (20 March 2003 – 18 December 2011) (Iraq)\n",
    "# Houthi insurgency in Yemen, 18 June 2004 – 6 February 2015 (Yemen)\n",
    "# Fourth Chadian Civil War, 18 December 2005 – 15 January 2010 (Chad)\n",
    "# Civil War in Iraq, 2006–2007, a sub-conflict within the Iraq War February 2006 – February 2007 (Iraq)\n",
    "# Fatah-Hamas conflict (Palestine), 2006–2007, tensions ongoing (Palestine)\n",
    "# Second Ivorian Civil War, 2010–2011 (Cote d Ivoire)\n",
    "# 2010–12 Burma border clashes 7 November 2010 – 12 January 2012 (Burma)\n",
    "# Libyan Civil War, 15 February 2011 – 23 October 2011 (Libya)\n",
    "# Post-civil war violence in Libya, 1 November 2011 – 16 May 2014 (Libya)\n",
    "# Iraqi insurgency, 18 December 2011 – 31 December 2013 (Syria)\n",
    "# Tuareg Rebellion in Mali, 16 January 2012 – 6 April 2012 (Mali)\n",
    "# Northern Mali conflict, 16 January 2012 – 20 February 2015 (Mali)\n",
    "# M23 rebellion, 4 April 2012 - 7 November 2013 (Democratic of Congo)"
   ]
  },
  {
   "cell_type": "code",
   "execution_count": 71,
   "metadata": {
    "collapsed": false
   },
   "outputs": [],
   "source": [
    "i = 0\n",
    "civList = []\n",
    "while i < len(refugees2010):\n",
    "    if refugees2010['Country'][i] == 'Macedonia':\n",
    "        civList.append(1)\n",
    "    elif refugees2010['Country'][i] == 'Iraq':\n",
    "        civList.append(1)\n",
    "    elif refugees2010['Country'][i] == 'Yemen':\n",
    "        civList.append(1)\n",
    "    elif refugees2010['Country'][i] == 'Chad':\n",
    "        civList.append(1)\n",
    "    elif refugees2010['Country'][i] == 'Palestine':\n",
    "        civList.append(1)\n",
    "    elif refugees2010['Country'][i] == 'Burma':\n",
    "        civList.append(1)\n",
    "    elif refugees2010['Country'][i] == 'Libya':\n",
    "        civList.append(1)\n",
    "    elif refugees2010['Country'][i] == 'Syria':\n",
    "        civList.append(1)\n",
    "    elif refugees2010['Country'][i] == 'Mali':\n",
    "        civList.append(1)\n",
    "    elif refugees2010['Country'][i] == 'Democratic Republic of the Congo':\n",
    "        civList.append(1)\n",
    "    else:\n",
    "        civList.append(0)\n",
    "    i+=1\n",
    "refugees2010['Civil'] = civList"
   ]
  },
  {
   "cell_type": "markdown",
   "metadata": {},
   "source": [
    "# Gender Distribution"
   ]
  },
  {
   "cell_type": "code",
   "execution_count": 72,
   "metadata": {
    "collapsed": false
   },
   "outputs": [],
   "source": [
    "from selenium import webdriver\n",
    "\n",
    "browser = webdriver.Chrome('/Users/nsivapra/Downloads/chromedriver')\n",
    "browser.get('http://www.worldometers.info/world-population/world-population-gender-age.php') # Load page (redacted here, but any works)\n",
    "country = browser.find_elements_by_xpath(\"//div/div/table/tbody/tr/td[@class='google-visualization-table-td'][1]\")\n",
    "male = browser.find_elements_by_xpath(\"//div/div/table/tbody/tr/td[@class='google-visualization-table-td google-visualization-table-td-number'][2]\")\n",
    "female = browser.find_elements_by_xpath(\"//div/div/table/tbody/tr/td[@class='google-visualization-table-td google-visualization-table-td-number'][3]\")\n",
    "countryList = []\n",
    "maleList = []\n",
    "femaleList = []\n",
    "for c in country:\n",
    "    countryList.append(c.text)\n",
    "for m in male:\n",
    "    maleList.append(m.text)\n",
    "for f in female:\n",
    "    femaleList.append(f.text)"
   ]
  },
  {
   "cell_type": "code",
   "execution_count": 73,
   "metadata": {
    "collapsed": true
   },
   "outputs": [],
   "source": [
    "gender = pd.DataFrame({'Country' : countryList, 'Male' : maleList, 'Female': femaleList})"
   ]
  },
  {
   "cell_type": "code",
   "execution_count": 74,
   "metadata": {
    "collapsed": true
   },
   "outputs": [],
   "source": [
    "refugee2010List = refugees2010['Country'].tolist()\n",
    "refugee2015List = refugees2015['Country'].tolist()\n",
    "genList = gender['Country'].tolist()\n",
    "s = set(refugee2010List)\n",
    "s2 = set(refugee2015List)\n",
    "diff_2010 = [x for x in genList if x not in s]\n",
    "diff_2015 = [x for x in genList if x not in s2]"
   ]
  },
  {
   "cell_type": "code",
   "execution_count": 75,
   "metadata": {
    "collapsed": false
   },
   "outputs": [
    {
     "name": "stdout",
     "output_type": "stream",
     "text": [
      "0 China\n",
      "1 India\n",
      "2 United States of America\n",
      "3 Indonesia\n",
      "4 Brazil\n",
      "5 Pakistan\n",
      "6 Nigeria\n",
      "7 Bangladesh\n",
      "8 Russian Federation\n",
      "9 Japan\n",
      "10 Mexico\n",
      "11 Philippines\n",
      "12 Ethiopia\n",
      "13 Viet Nam\n",
      "14 Germany\n",
      "15 Egypt\n",
      "16 Iran (Islamic Republic of)\n",
      "17 Turkey\n",
      "18 Democratic Republic of the Congo\n",
      "19 Thailand\n",
      "20 France\n",
      "21 United Kingdom\n",
      "22 Italy\n",
      "23 Myanmar\n",
      "24 South Africa\n",
      "25 Republic of Korea\n",
      "26 United Republic of Tanzania\n",
      "27 Colombia\n",
      "28 Spain\n",
      "29 Ukraine\n",
      "30 Kenya\n",
      "31 Argentina\n",
      "32 Algeria\n",
      "33 Poland\n",
      "34 Sudan\n",
      "35 Uganda\n",
      "36 Canada\n",
      "37 Iraq\n",
      "38 Morocco\n",
      "39 Afghanistan\n",
      "40 Venezuela (Bolivarian Republic of)\n",
      "41 Peru\n",
      "42 Malaysia\n",
      "43 Uzbekistan\n",
      "44 Saudi Arabia\n",
      "45 Nepal\n",
      "46 Ghana\n",
      "47 Mozambique\n",
      "48 Dem. People s Republic of Korea\n",
      "49 Yemen\n",
      "50 Australia\n",
      "51 Madagascar\n",
      "52 Cameroon\n",
      "53 Syrian Arab Republic\n",
      "54 Romania\n",
      "55 Angola\n",
      "56 Sri Lanka\n",
      "57 Cote d Ivoire\n",
      "58 Niger\n",
      "59 Chile\n",
      "60 Burkina Faso\n",
      "61 Netherlands\n",
      "62 Kazakhstan\n",
      "63 Malawi\n",
      "64 Ecuador\n",
      "65 Guatemala\n",
      "66 Mali\n",
      "67 Cambodia\n",
      "68 Zambia\n",
      "69 Zimbabwe\n",
      "70 Senegal\n",
      "71 Chad\n",
      "72 Rwanda\n",
      "73 Guinea\n",
      "74 South Sudan\n",
      "75 Cuba\n",
      "76 Greece\n",
      "77 Belgium\n",
      "78 Tunisia\n",
      "79 Czech Republic\n",
      "80 Bolivia (Plurinational State of)\n",
      "81 Portugal\n",
      "82 Somalia\n",
      "83 Dominican Republic\n",
      "84 Benin\n",
      "85 Haiti\n",
      "86 Burundi\n",
      "87 Hungary\n",
      "88 Sweden\n",
      "89 Serbia\n",
      "90 Azerbaijan\n",
      "91 Belarus\n",
      "92 United Arab Emirates\n",
      "93 Austria\n",
      "94 Tajikistan\n",
      "95 Honduras\n",
      "96 Switzerland\n",
      "97 Israel\n",
      "98 Papua New Guinea\n",
      "99 Jordan\n",
      "100 Bulgaria\n",
      "101 China, Hong Kong SAR\n",
      "102 Togo\n",
      "103 Paraguay\n",
      "104 Lao People s Democratic Republic\n",
      "105 El Salvador\n",
      "106 Eritrea\n",
      "107 Libya\n",
      "108 Sierra Leone\n",
      "109 Nicaragua\n",
      "110 Denmark\n",
      "111 Kyrgyzstan\n",
      "112 Slovakia\n",
      "113 Finland\n",
      "114 Singapore\n",
      "115 Turkmenistan\n",
      "116 Norway\n",
      "117 Costa Rica\n",
      "118 Lebanon\n",
      "119 Ireland\n",
      "120 Central African Republic\n",
      "121 New Zealand\n",
      "122 Congo\n",
      "123 Georgia\n",
      "124 State of Palestine\n",
      "125 Liberia\n",
      "126 Croatia\n",
      "127 Mauritania\n",
      "128 Panama\n",
      "129 Bosnia and Herzegovina\n",
      "130 Puerto Rico\n",
      "131 Oman\n",
      "132 Republic of Moldova\n",
      "133 Uruguay\n",
      "134 Kuwait\n",
      "135 Albania\n",
      "136 Lithuania\n",
      "137 Armenia\n",
      "138 Mongolia\n",
      "139 Jamaica\n",
      "140 Namibia\n",
      "141 Qatar\n",
      "142 TFYR Macedonia\n",
      "143 Lesotho\n",
      "144 Slovenia\n",
      "145 Latvia\n",
      "146 Botswana\n",
      "147 Gambia\n",
      "148 Guinea-Bissau\n",
      "149 Gabon\n",
      "150 Trinidad and Tobago\n",
      "151 Bahrain\n",
      "152 Estonia\n",
      "153 Swaziland\n",
      "154 Mauritius\n",
      "155 Cyprus\n",
      "156 Timor-Leste\n",
      "157 Fiji\n",
      "158 Réunion\n",
      "159 Djibouti\n",
      "160 Guyana\n",
      "161 Equatorial Guinea\n",
      "162 Bhutan\n",
      "163 Comoros\n",
      "164 Montenegro\n",
      "165 Western Sahara\n",
      "166 China Macao SAR\n",
      "167 Solomon Islands\n",
      "168 Suriname\n",
      "169 Luxembourg\n",
      "170 Cape Verde\n",
      "171 Guadeloupe\n",
      "172 Malta\n",
      "173 Brunei Darussalam\n",
      "174 Martinique\n",
      "175 Bahamas\n",
      "176 Maldives\n",
      "177 Belize\n",
      "178 Iceland\n",
      "179 Barbados\n",
      "180 French Polynesia\n",
      "181 New Caledonia\n",
      "182 Vanuatu\n",
      "183 French Guiana\n",
      "184 Mayotte\n",
      "185 Sao Tome and Principe\n",
      "186 Samoa\n",
      "187 Saint Lucia\n",
      "188 Guam\n",
      "189 Channel Islands\n",
      "190 Curaçao\n",
      "191 Saint Vincent and the Grenadines\n",
      "192 United States Virgin Islands\n",
      "193 Grenada\n",
      "194 Tonga\n",
      "195 Micronesia (Fed. States of)\n",
      "196 Aruba\n",
      "197 Kiribati\n",
      "198 Seychelles\n",
      "199 Antigua and Barbuda\n",
      "200 WORLD\n"
     ]
    }
   ],
   "source": [
    "i = 0\n",
    "while i < len(gender['Country']):\n",
    "    print i, gender['Country'][i]\n",
    "    i+=1"
   ]
  },
  {
   "cell_type": "code",
   "execution_count": 76,
   "metadata": {
    "collapsed": true
   },
   "outputs": [],
   "source": [
    "gender['Country'][8] = 'Russia'\n",
    "gender['Country'][13] = 'Vietnam'\n",
    "gender['Country'][16] = 'Iran'\n",
    "gender['Country'][25] = 'South Korea'\n",
    "gender['Country'][40] = 'Venezuela'\n",
    "gender['Country'][48] = 'North Korea'\n",
    "gender['Country'][53] = 'Syria'\n",
    "gender['Country'][80] = 'Bolivia'\n",
    "gender['Country'][122] = 'Republic of the Congo'\n",
    "gender['Country'][142] = 'Macedonia'\n",
    "gender['Country'][175] = 'The Bahamas'"
   ]
  },
  {
   "cell_type": "code",
   "execution_count": 77,
   "metadata": {
    "collapsed": false
   },
   "outputs": [
    {
     "name": "stdout",
     "output_type": "stream",
     "text": [
      "[u'Russian Federation', u'Viet Nam', u'Iran (Islamic Republic of)', u'Republic of Korea', u'Venezuela (Bolivarian Republic of)', u'Dem. People s Republic of Korea', u'Syrian Arab Republic', u'Cote d Ivoire', u'South Sudan', u'Bolivia (Plurinational State of)', u'Serbia', u'Lao People s Democratic Republic', u'Congo', u'State of Palestine', u'Puerto Rico', u'Republic of Moldova', u'TFYR Macedonia', u'Lesotho', u'Mauritius', u'R\\xe9union', u'Equatorial Guinea', u'Bhutan', u'Comoros', u'Western Sahara', u'China Macao SAR', u'Solomon Islands', u'Cape Verde', u'Guadeloupe', u'Brunei Darussalam', u'Martinique', u'Bahamas', u'Maldives', u'Barbados', u'French Polynesia', u'New Caledonia', u'French Guiana', u'Mayotte', u'Sao Tome and Principe', u'Samoa', u'Guam', u'Channel Islands', u'Cura\\xe7ao', u'Saint Vincent and the Grenadines', u'United States Virgin Islands', u'Micronesia (Fed. States of)', u'Kiribati', u'Seychelles', u'Antigua and Barbuda', u'WORLD']\n"
     ]
    }
   ],
   "source": [
    "print diff_2010\n",
    "#Russian Federation to Russia [8]\n",
    "#Viet Nam to Vietnam [13]\n",
    "#Iran(Islamic Republic of) to Iran [16]\n",
    "#Republic of Korea to South Korea [25]\n",
    "#Venezuela( blkjlk) to Venezuela [40]\n",
    "#Dem. People s to North Korea [48]\n",
    "#Syrian Arab to Syria [53]\n",
    "#Bolivia(lkjlk) to Bolivia [80]\n",
    "#Congo, to Democratic REpublic of the COngo [122]\n",
    "#TFYR Macedonia to Macedonia [142]\n",
    "#Bahamas to The Bahamas [175]"
   ]
  },
  {
   "cell_type": "code",
   "execution_count": 78,
   "metadata": {
    "collapsed": false
   },
   "outputs": [
    {
     "name": "stdout",
     "output_type": "stream",
     "text": [
      "['Afghanistan', 'Albania', 'Algeria', 'Angola', 'Argentina', 'Armenia', 'Aruba', 'Australia', 'Austria', 'Azerbaijan', 'The Bahamas', 'Bahrain', 'Bangladesh', 'Belarus', 'Belgium', 'Belize', 'Benin', 'Bolivia', 'Bonaire', 'Bosnia and Herzegovina', 'Botswana', 'Brazil', 'British Virgin Islands', 'Brunei', 'Bulgaria', 'Burkina Faso', 'Burundi', 'Cambodia', 'Cameroon', 'Canada', 'Cayman Islands', 'Central African Republic', 'Chad', 'Chile', 'China', 'China, Hong Kong SAR', 'China, Macao SAR', 'Colombia', 'Republic of the Congo', 'Costa Rica', 'Croatia', 'Cuba', 'Cura\\xc3\\xa7ao', 'Cyprus', 'Czech Republic', \"C\\xc3\\xb4te d'Ivoire\", 'Democratic Republic of the Congo', 'Denmark', 'Djibouti', 'Dominican Republic', 'Ecuador', 'Egypt', 'El Salvador', 'Eritrea', 'Estonia', 'Ethiopia', 'Fiji', 'Finland', 'France', 'Gabon', 'Gambia', 'Georgia', 'Germany', 'Ghana', 'Greece', 'Grenada', 'Guatemala', 'Guinea', 'Guinea-Bissau', 'Guyana', 'Haiti', 'Honduras', 'Hungary', 'Iceland', 'India', 'Indonesia', 'Iran', 'Iraq', 'Ireland', 'Israel', 'Italy', 'Jamaica', 'Japan', 'Jordan', 'Kazakhstan', 'Kenya', 'Kuwait', 'Kyrgyzstan', 'Latvia', 'Lebanon', 'Liberia', 'Libya', 'Liechtenstein', 'Lithuania', 'Luxembourg', 'Madagascar', 'Malawi', 'Malaysia', 'Mali', 'Malta', 'Mauritania', 'Mexico', 'Monaco', 'Mongolia', 'Montenegro', 'Montserrat', 'Morocco', 'Mozambique', 'Myanmar', 'Namibia', 'Nepal', 'Netherlands', 'New Zealand', 'Nicaragua', 'Niger', 'Nigeria', 'Norway', 'Oman', 'Pakistan', 'Panama', 'Papua New Guinea', 'Paraguay', 'Peru', 'Philippines', 'Poland', 'Portugal', 'Qatar', 'South Korea', 'Rep. of Moldova', 'Romania', 'Russia', 'Rwanda', 'Saint Lucia', 'Saudi Arabia', 'Senegal', 'Serbia and Kosovo (S/RES/1244 (1999))', 'Sierra Leone', 'Singapore', 'Sint Maarten (Dutch part)', 'Slovakia', 'Slovenia', 'Somalia', 'South Africa', 'Spain', 'Sri Lanka', 'Sudan', 'Suriname', 'Swaziland', 'Sweden', 'Switzerland', 'Syria', 'Tajikistan', 'Thailand', 'Macedonia', 'Timor-Leste', 'Togo', 'Tonga', 'Trinidad and Tobago', 'Tunisia', 'Turkey', 'Turkmenistan', 'Uganda', 'Ukraine', 'United Arab Emirates', 'United Kingdom', 'United Republic of Tanzania', 'United States of America', 'Uruguay', 'Uzbekistan', 'Vanuatu', 'Venezuela', 'Vietnam', 'Yemen', 'Zambia', 'Zimbabwe']\n"
     ]
    }
   ],
   "source": [
    "print refugee2010List"
   ]
  },
  {
   "cell_type": "code",
   "execution_count": 79,
   "metadata": {
    "collapsed": false
   },
   "outputs": [
    {
     "name": "stderr",
     "output_type": "stream",
     "text": [
      "//anaconda/envs/dsi/lib/python2.7/site-packages/pandas/tools/merge.py:714: UnicodeWarning: Unicode equal comparison failed to convert both arguments to Unicode - interpreting them as being unequal\n",
      "  rlab = rizer.factorize(rk)\n"
     ]
    }
   ],
   "source": [
    "#Merging the tables together\n",
    "rain2010 = pd.merge(key, rain, on = 'Country', how = 'left')\n",
    "refugees2010 = pd.merge(key, refugees2010, on = 'Country', how = 'left')\n",
    "refugees2015 = pd.merge(key, refugees2015, on = 'Country', how = 'left')\n",
    "gov2010 = pd.merge(key, gov, on = 'Country', how = 'left')\n",
    "gdp2010 = pd.merge(key, GDP, on = 'Country', how = 'left')\n",
    "immigrant2010 = pd.merge(key, immigrant, on = 'Country', how = 'left')\n",
    "population_2010 = pd.merge(key, population, on = 'Country', how = 'left')\n",
    "continent_2010 = pd.merge(key, continent, on = 'Country', how = 'left')\n",
    "murder2010 = pd.merge(key, murder, on = 'Country', how = 'left')\n",
    "edu2010 = pd.merge(key, education, on = 'Country', how = 'left')\n",
    "pov2010 = pd.merge(key, poverty, on = 'Country', how = 'left')\n",
    "gen2010 = pd.merge(key, gender, on = 'Country', how = 'left')"
   ]
  },
  {
   "cell_type": "code",
   "execution_count": 80,
   "metadata": {
    "collapsed": true
   },
   "outputs": [],
   "source": [
    "#Drop Key\n",
    "gov2010.drop('Key', axis = 1, inplace = True)\n",
    "gdp2010.drop('Key', axis = 1, inplace = True)\n",
    "immigrant2010.drop('Key', axis = 1, inplace = True)\n",
    "population_2010.drop('Key', axis = 1, inplace = True)\n",
    "refugees2015.drop('Key', axis = 1, inplace = True)\n",
    "continent_2010.drop('Key', axis = 1, inplace = True)\n",
    "rain2010.drop('Key', axis = 1, inplace = True)\n",
    "murder2010.drop('Key', axis = 1, inplace = True)\n",
    "edu2010.drop('Key', axis = 1, inplace = True)\n",
    "pov2010.drop('Key', axis = 1, inplace = True)\n",
    "gen2010.drop('Key', axis = 1, inplace = True)"
   ]
  },
  {
   "cell_type": "code",
   "execution_count": 81,
   "metadata": {
    "collapsed": true
   },
   "outputs": [],
   "source": [
    "ref_gov = pd.merge(refugees2010, gov2010, on = 'Country', how = 'left')\n",
    "gov_gdp = pd.merge(ref_gov, gdp2010, on = 'Country', how = 'left')\n",
    "gdp_imm = pd.merge(gov_gdp, immigrant2010, on = 'Country', how = 'left')\n",
    "gdp_count = pd.merge(gdp_imm, continent_2010, on = 'Country', how = 'left')\n",
    "gdp_rain = pd.merge(gdp_count, rain2010, on = 'Country', how = 'left')\n",
    "gdp_mur = pd.merge(gdp_rain, murder2010, on = 'Country', how = 'left')\n",
    "gdp_edu = pd.merge(gdp_mur, edu2010, on = 'Country', how = 'left')\n",
    "edu_pov = pd.merge(gdp_edu, pov2010, on = 'Country', how = 'left')\n",
    "gen_pov = pd.merge(edu_pov, gen2010, on = 'Country', how = 'left')\n",
    "final2010 = pd.merge(gen_pov, population_2010, on = 'Country', how = 'left')"
   ]
  },
  {
   "cell_type": "code",
   "execution_count": 82,
   "metadata": {
    "collapsed": true
   },
   "outputs": [],
   "source": [
    "#Merge the 2010 refugees with the 2015 refugees\n",
    "final = pd.merge(refugees2015, final2010, on = 'Country', how = 'left')"
   ]
  },
  {
   "cell_type": "code",
   "execution_count": 83,
   "metadata": {
    "collapsed": false
   },
   "outputs": [],
   "source": [
    "#Drop the index column\n",
    "final.drop('index', axis = 1, inplace = True)"
   ]
  },
  {
   "cell_type": "code",
   "execution_count": 84,
   "metadata": {
    "collapsed": false
   },
   "outputs": [
    {
     "name": "stdout",
     "output_type": "stream",
     "text": [
      "178\n",
      "177\n"
     ]
    }
   ],
   "source": [
    "print len(final)\n",
    "print len(final.Country.unique())"
   ]
  },
  {
   "cell_type": "code",
   "execution_count": 85,
   "metadata": {
    "collapsed": false
   },
   "outputs": [],
   "source": [
    "final[final['Country'] == 'Guinea']\n",
    "final.drop(final.index[[61]], inplace = True)"
   ]
  },
  {
   "cell_type": "code",
   "execution_count": 86,
   "metadata": {
    "collapsed": false
   },
   "outputs": [],
   "source": [
    "test = final.reset_index()\n",
    "del test['index']"
   ]
  },
  {
   "cell_type": "code",
   "execution_count": 87,
   "metadata": {
    "collapsed": true
   },
   "outputs": [],
   "source": [
    "final_df = test.copy() #Copy to drop the nan"
   ]
  },
  {
   "cell_type": "code",
   "execution_count": 88,
   "metadata": {
    "collapsed": true
   },
   "outputs": [],
   "source": [
    "test.to_csv('../Data/final_copy.csv', header=True, index=False, encoding='utf-8')"
   ]
  },
  {
   "cell_type": "code",
   "execution_count": 89,
   "metadata": {
    "collapsed": true
   },
   "outputs": [],
   "source": [
    "final_df[\"Immigrants\"] = final_df[\"Immigrants\"].str.replace(\",\",\"\")\n",
    "final_df[\"Immigrants\"] = pd.to_numeric(final_df[\"Immigrants\"], errors='coerce')\n",
    "final_df[\"Murder Rate\"] = pd.to_numeric(final_df[\"Murder Rate\"], errors = 'coerce')"
   ]
  },
  {
   "cell_type": "code",
   "execution_count": 90,
   "metadata": {
    "collapsed": false
   },
   "outputs": [],
   "source": [
    "final_df[\"Poverty\"] = pd.to_numeric(final_df[\"Poverty\"], errors='coerce')"
   ]
  },
  {
   "cell_type": "code",
   "execution_count": 91,
   "metadata": {
    "collapsed": false
   },
   "outputs": [
    {
     "name": "stderr",
     "output_type": "stream",
     "text": [
      "/anaconda/envs/dsi/lib/python2.7/site-packages/ipykernel/__main__.py:9: SettingWithCopyWarning: \n",
      "A value is trying to be set on a copy of a slice from a DataFrame\n",
      "\n",
      "See the caveats in the documentation: http://pandas.pydata.org/pandas-docs/stable/indexing.html#indexing-view-versus-copy\n",
      "/anaconda/envs/dsi/lib/python2.7/site-packages/ipykernel/__main__.py:17: SettingWithCopyWarning: \n",
      "A value is trying to be set on a copy of a slice from a DataFrame\n",
      "\n",
      "See the caveats in the documentation: http://pandas.pydata.org/pandas-docs/stable/indexing.html#indexing-view-versus-copy\n"
     ]
    }
   ],
   "source": [
    "# final_df['Female'] = final_df['Female'].map(lambda x: x.rstrip('%'))\n",
    "# final_df['Male'] = final_df['Male'].map(lambda x: x.rstrip('%'))\n",
    "\n",
    "# final_df[\"Male\"] = pd.to_numeric(final_df[\"Male\"], errors='coerce')\n",
    "# final_df[\"Female\"] = pd.to_numeric(final_df[\"Female\"], errors='coerce')\n",
    "i = 0\n",
    "while i < len(final_df['Female']):\n",
    "    try:\n",
    "        final_df['Female'][i] = final_df['Female'][i].rstrip(\"%\")\n",
    "    except:\n",
    "        pass\n",
    "    i+=1\n",
    "    \n",
    "j = 0   \n",
    "while j < len(final_df['Male']):\n",
    "    try:\n",
    "        final_df['Male'][j] = final_df['Male'][j].rstrip(\"%\")\n",
    "    except:\n",
    "        pass\n",
    "    j+=1\n",
    "    \n",
    "final_df[\"Male\"] = pd.to_numeric(final_df[\"Male\"], errors='coerce')\n",
    "final_df[\"Female\"] = pd.to_numeric(final_df[\"Female\"], errors='coerce')"
   ]
  },
  {
   "cell_type": "code",
   "execution_count": 92,
   "metadata": {
    "collapsed": false
   },
   "outputs": [
    {
     "name": "stdout",
     "output_type": "stream",
     "text": [
      "<class 'pandas.core.frame.DataFrame'>\n",
      "RangeIndex: 177 entries, 0 to 176\n",
      "Data columns (total 19 columns):\n",
      "Country                     177 non-null object\n",
      "Refugees_2015               155 non-null float64\n",
      "Key                         177 non-null object\n",
      "Refugees_2010               153 non-null float64\n",
      "Famine                      153 non-null float64\n",
      "Civil                       153 non-null float64\n",
      "government                  162 non-null object\n",
      "(millions of\n",
      "US dollars)    156 non-null float64\n",
      "Immigrants                  161 non-null float64\n",
      "Continent                   162 non-null object\n",
      "Rain(ml)                    160 non-null float64\n",
      "Murder Rate                 131 non-null float64\n",
      "Children_out_of_school      156 non-null float64\n",
      "Poverty                     141 non-null float64\n",
      "Female                      161 non-null float64\n",
      "Male                        161 non-null float64\n",
      "Density(pop/mi)             160 non-null float64\n",
      "Population                  160 non-null float64\n",
      "Area(mi)                    160 non-null float64\n",
      "dtypes: float64(15), object(4)\n",
      "memory usage: 26.3+ KB\n"
     ]
    }
   ],
   "source": [
    "final_df.info()"
   ]
  },
  {
   "cell_type": "code",
   "execution_count": 95,
   "metadata": {
    "collapsed": false
   },
   "outputs": [],
   "source": [
    "final_df['Refugees_2010'].fillna(np.mean(final_df['Refugees_2010']), inplace = True)\n",
    "final_df['Refugees_2015'].fillna(np.mean(final_df['Refugees_2015']), inplace = True)\n",
    "final_df['Famine'].fillna(0, inplace = True)\n",
    "final_df['Civil'].fillna(0, inplace = True)\n",
    "final_df['(millions of\\nUS dollars)'].fillna(np.mean(final_df['(millions of\\nUS dollars)']), inplace = True)\n",
    "final_df['Immigrants'].fillna(np.mean(final_df['Immigrants']), inplace = True)\n",
    "final_df['Rain(ml)'].fillna(np.mean(final_df['Rain(ml)']), inplace = True)\n",
    "final_df['Murder Rate'].fillna(np.mean(final_df['Murder Rate']), inplace = True)\n",
    "final_df['Children_out_of_school'].fillna(np.mean(final_df['Children_out_of_school']), inplace = True)\n",
    "final_df['Poverty'].fillna(np.mean(final_df['Poverty']), inplace = True)\n",
    "final_df['Female'].fillna(np.mean(final_df['Female']), inplace = True)\n",
    "final_df['Male'].fillna(np.mean(final_df['Male']), inplace = True)\n",
    "final_df['Density(pop/mi)'].fillna(np.mean(final_df['Density(pop/mi)']), inplace = True)\n",
    "final_df['Population'].fillna(np.mean(final_df['Population']), inplace = True)\n",
    "final_df['Area(mi)'].fillna(np.mean(final_df['Area(mi)']), inplace = True)\n",
    "final_df['government'].fillna('n/a', inplace = True)"
   ]
  },
  {
   "cell_type": "code",
   "execution_count": 96,
   "metadata": {
    "collapsed": false
   },
   "outputs": [
    {
     "data": {
      "text/plain": [
       "Index([                  u'Country',             u'Refugees_2015',\n",
       "                             u'Key',             u'Refugees_2010',\n",
       "                          u'Famine',                     u'Civil',\n",
       "                      u'government', u'(millions of\\nUS dollars)',\n",
       "                      u'Immigrants',                 u'Continent',\n",
       "                        u'Rain(ml)',               u'Murder Rate',\n",
       "          u'Children_out_of_school',                   u'Poverty',\n",
       "                          u'Female',                      u'Male',\n",
       "                 u'Density(pop/mi)',                u'Population',\n",
       "                        u'Area(mi)'],\n",
       "      dtype='object')"
      ]
     },
     "execution_count": 96,
     "metadata": {},
     "output_type": "execute_result"
    }
   ],
   "source": [
    "final_df.columns"
   ]
  },
  {
   "cell_type": "code",
   "execution_count": 97,
   "metadata": {
    "collapsed": false
   },
   "outputs": [],
   "source": [
    "#Changing order of the dataframe\n",
    "final_df = final_df[['Country', 'Key', 'Continent', 'Refugees_2010', 'Refugees_2015', 'Murder Rate', 'Children_out_of_school',\n",
    "                     'government', '(millions of\\nUS dollars)', 'Immigrants', 'Rain(ml)', 'Density(pop/mi)', 'Population', 'Area(mi)', 'Famine', 'Female', 'Male', 'Civil', 'Poverty']]"
   ]
  },
  {
   "cell_type": "code",
   "execution_count": 98,
   "metadata": {
    "collapsed": true
   },
   "outputs": [],
   "source": [
    "final_df.rename(columns={'government' : 'Government', '(millions of\\nUS dollars)' : 'GDP($ in million)'}, inplace=True)"
   ]
  },
  {
   "cell_type": "code",
   "execution_count": 99,
   "metadata": {
    "collapsed": false
   },
   "outputs": [],
   "source": [
    "final_df = final_df[final_df.Country != 'Antarctica']\n",
    "final_df = final_df[final_df.Country != 'West Bank']\n",
    "final_df = final_df[final_df.Country != 'New Caledonia']\n",
    "final_df = final_df[final_df.Country != 'Kosovo']\n",
    "final_df = final_df[final_df.Country != 'Greenland']\n",
    "final_df = final_df[final_df.Country != 'Guinea Bissau']\n",
    "final_df = final_df[final_df.Country != 'Somaliland']\n",
    "final_df = final_df[final_df.Country != 'Republic of Serbia']\n",
    "final_df = final_df[final_df.Country != 'French Southern and Antarctic Lands']\n",
    "final_df = final_df[final_df.Country != 'Falkland Islands']\n",
    "final_df = final_df[final_df.Country != 'Western Sahara']\n",
    "final_df = final_df[final_df.Country != 'Northern Cyprus']\n",
    "final_df = final_df[final_df.Country != 'Puerto Rico']\n",
    "final_df = final_df[final_df.Country != 'Taiwan']\n",
    "final_df = final_df[final_df.Country != 'Burkina Faso']"
   ]
  },
  {
   "cell_type": "code",
   "execution_count": 100,
   "metadata": {
    "collapsed": false
   },
   "outputs": [],
   "source": [
    "#Round Population, Refugees_2010, Refugees_2015, Immigrant\n",
    "final_df['Refugees_2010'] = final_df['Refugees_2010'].round()\n",
    "final_df['Refugees_2015'] = final_df['Refugees_2015'].round()\n",
    "final_df['Population'] = final_df['Population'].round()\n",
    "final_df['Immigrants'] = final_df['Immigrants'].round()"
   ]
  },
  {
   "cell_type": "code",
   "execution_count": 101,
   "metadata": {
    "collapsed": false
   },
   "outputs": [
    {
     "data": {
      "text/html": [
       "<div>\n",
       "<table border=\"1\" class=\"dataframe\">\n",
       "  <thead>\n",
       "    <tr style=\"text-align: right;\">\n",
       "      <th></th>\n",
       "      <th>count</th>\n",
       "      <th>mean</th>\n",
       "      <th>std</th>\n",
       "      <th>min</th>\n",
       "      <th>25%</th>\n",
       "      <th>50%</th>\n",
       "      <th>75%</th>\n",
       "      <th>max</th>\n",
       "    </tr>\n",
       "  </thead>\n",
       "  <tbody>\n",
       "    <tr>\n",
       "      <th>Refugees_2010</th>\n",
       "      <td>162.0</td>\n",
       "      <td>6.862340e+04</td>\n",
       "      <td>2.022584e+05</td>\n",
       "      <td>0.0000</td>\n",
       "      <td>5.837500e+02</td>\n",
       "      <td>6.725000e+03</td>\n",
       "      <td>6.562925e+04</td>\n",
       "      <td>1.900621e+06</td>\n",
       "    </tr>\n",
       "    <tr>\n",
       "      <th>Refugees_2015</th>\n",
       "      <td>162.0</td>\n",
       "      <td>1.040647e+05</td>\n",
       "      <td>2.786519e+05</td>\n",
       "      <td>0.0000</td>\n",
       "      <td>6.512500e+02</td>\n",
       "      <td>6.977500e+03</td>\n",
       "      <td>1.036350e+05</td>\n",
       "      <td>2.541308e+06</td>\n",
       "    </tr>\n",
       "    <tr>\n",
       "      <th>Murder Rate</th>\n",
       "      <td>162.0</td>\n",
       "      <td>9.210922e+00</td>\n",
       "      <td>1.230936e+01</td>\n",
       "      <td>0.0000</td>\n",
       "      <td>1.755000e+00</td>\n",
       "      <td>5.700000e+00</td>\n",
       "      <td>9.157481e+00</td>\n",
       "      <td>7.100000e+01</td>\n",
       "    </tr>\n",
       "    <tr>\n",
       "      <th>Children_out_of_school</th>\n",
       "      <td>162.0</td>\n",
       "      <td>1.468913e+01</td>\n",
       "      <td>2.358793e+01</td>\n",
       "      <td>0.0322</td>\n",
       "      <td>1.287500e+00</td>\n",
       "      <td>4.595000e+00</td>\n",
       "      <td>1.510569e+01</td>\n",
       "      <td>1.290900e+02</td>\n",
       "    </tr>\n",
       "    <tr>\n",
       "      <th>GDP($ in million)</th>\n",
       "      <td>162.0</td>\n",
       "      <td>4.713589e+05</td>\n",
       "      <td>1.719697e+06</td>\n",
       "      <td>0.0000</td>\n",
       "      <td>1.391100e+04</td>\n",
       "      <td>5.620150e+04</td>\n",
       "      <td>3.604145e+05</td>\n",
       "      <td>1.794700e+07</td>\n",
       "    </tr>\n",
       "    <tr>\n",
       "      <th>Immigrants</th>\n",
       "      <td>162.0</td>\n",
       "      <td>1.445152e+06</td>\n",
       "      <td>4.162821e+06</td>\n",
       "      <td>2585.0000</td>\n",
       "      <td>9.970850e+04</td>\n",
       "      <td>2.964405e+05</td>\n",
       "      <td>1.215333e+06</td>\n",
       "      <td>4.662710e+07</td>\n",
       "    </tr>\n",
       "    <tr>\n",
       "      <th>Rain(ml)</th>\n",
       "      <td>162.0</td>\n",
       "      <td>1.104327e+03</td>\n",
       "      <td>7.499603e+02</td>\n",
       "      <td>51.0000</td>\n",
       "      <td>5.432500e+02</td>\n",
       "      <td>1.027000e+03</td>\n",
       "      <td>1.588750e+03</td>\n",
       "      <td>3.142000e+03</td>\n",
       "    </tr>\n",
       "    <tr>\n",
       "      <th>Density(pop/mi)</th>\n",
       "      <td>162.0</td>\n",
       "      <td>2.566349e+02</td>\n",
       "      <td>3.333259e+02</td>\n",
       "      <td>4.5800</td>\n",
       "      <td>5.863000e+01</td>\n",
       "      <td>1.764550e+02</td>\n",
       "      <td>3.064750e+02</td>\n",
       "      <td>2.957350e+03</td>\n",
       "    </tr>\n",
       "    <tr>\n",
       "      <th>Population</th>\n",
       "      <td>162.0</td>\n",
       "      <td>4.189564e+07</td>\n",
       "      <td>1.440606e+08</td>\n",
       "      <td>246000.0000</td>\n",
       "      <td>3.883750e+06</td>\n",
       "      <td>1.020650e+07</td>\n",
       "      <td>3.106350e+07</td>\n",
       "      <td>1.339190e+09</td>\n",
       "    </tr>\n",
       "    <tr>\n",
       "      <th>Area(mi)</th>\n",
       "      <td>162.0</td>\n",
       "      <td>3.207754e+05</td>\n",
       "      <td>7.982779e+05</td>\n",
       "      <td>998.4600</td>\n",
       "      <td>2.267808e+04</td>\n",
       "      <td>8.706793e+04</td>\n",
       "      <td>2.834319e+05</td>\n",
       "      <td>6.592769e+06</td>\n",
       "    </tr>\n",
       "    <tr>\n",
       "      <th>Famine</th>\n",
       "      <td>162.0</td>\n",
       "      <td>8.641975e-02</td>\n",
       "      <td>2.818541e-01</td>\n",
       "      <td>0.0000</td>\n",
       "      <td>0.000000e+00</td>\n",
       "      <td>0.000000e+00</td>\n",
       "      <td>0.000000e+00</td>\n",
       "      <td>1.000000e+00</td>\n",
       "    </tr>\n",
       "    <tr>\n",
       "      <th>Female</th>\n",
       "      <td>162.0</td>\n",
       "      <td>4.995016e+01</td>\n",
       "      <td>3.218051e+00</td>\n",
       "      <td>23.5000</td>\n",
       "      <td>4.980000e+01</td>\n",
       "      <td>5.030000e+01</td>\n",
       "      <td>5.090000e+01</td>\n",
       "      <td>5.430000e+01</td>\n",
       "    </tr>\n",
       "    <tr>\n",
       "      <th>Male</th>\n",
       "      <td>162.0</td>\n",
       "      <td>5.004984e+01</td>\n",
       "      <td>3.218051e+00</td>\n",
       "      <td>45.7000</td>\n",
       "      <td>4.910000e+01</td>\n",
       "      <td>4.970000e+01</td>\n",
       "      <td>5.020000e+01</td>\n",
       "      <td>7.650000e+01</td>\n",
       "    </tr>\n",
       "    <tr>\n",
       "      <th>Civil</th>\n",
       "      <td>162.0</td>\n",
       "      <td>4.938272e-02</td>\n",
       "      <td>2.173376e-01</td>\n",
       "      <td>0.0000</td>\n",
       "      <td>0.000000e+00</td>\n",
       "      <td>0.000000e+00</td>\n",
       "      <td>0.000000e+00</td>\n",
       "      <td>1.000000e+00</td>\n",
       "    </tr>\n",
       "    <tr>\n",
       "      <th>Poverty</th>\n",
       "      <td>162.0</td>\n",
       "      <td>2.970758e+01</td>\n",
       "      <td>1.691070e+01</td>\n",
       "      <td>3.8000</td>\n",
       "      <td>1.712500e+01</td>\n",
       "      <td>2.945106e+01</td>\n",
       "      <td>3.600000e+01</td>\n",
       "      <td>8.000000e+01</td>\n",
       "    </tr>\n",
       "  </tbody>\n",
       "</table>\n",
       "</div>"
      ],
      "text/plain": [
       "                        count          mean           std          min  \\\n",
       "Refugees_2010           162.0  6.862340e+04  2.022584e+05       0.0000   \n",
       "Refugees_2015           162.0  1.040647e+05  2.786519e+05       0.0000   \n",
       "Murder Rate             162.0  9.210922e+00  1.230936e+01       0.0000   \n",
       "Children_out_of_school  162.0  1.468913e+01  2.358793e+01       0.0322   \n",
       "GDP($ in million)       162.0  4.713589e+05  1.719697e+06       0.0000   \n",
       "Immigrants              162.0  1.445152e+06  4.162821e+06    2585.0000   \n",
       "Rain(ml)                162.0  1.104327e+03  7.499603e+02      51.0000   \n",
       "Density(pop/mi)         162.0  2.566349e+02  3.333259e+02       4.5800   \n",
       "Population              162.0  4.189564e+07  1.440606e+08  246000.0000   \n",
       "Area(mi)                162.0  3.207754e+05  7.982779e+05     998.4600   \n",
       "Famine                  162.0  8.641975e-02  2.818541e-01       0.0000   \n",
       "Female                  162.0  4.995016e+01  3.218051e+00      23.5000   \n",
       "Male                    162.0  5.004984e+01  3.218051e+00      45.7000   \n",
       "Civil                   162.0  4.938272e-02  2.173376e-01       0.0000   \n",
       "Poverty                 162.0  2.970758e+01  1.691070e+01       3.8000   \n",
       "\n",
       "                                 25%           50%           75%           max  \n",
       "Refugees_2010           5.837500e+02  6.725000e+03  6.562925e+04  1.900621e+06  \n",
       "Refugees_2015           6.512500e+02  6.977500e+03  1.036350e+05  2.541308e+06  \n",
       "Murder Rate             1.755000e+00  5.700000e+00  9.157481e+00  7.100000e+01  \n",
       "Children_out_of_school  1.287500e+00  4.595000e+00  1.510569e+01  1.290900e+02  \n",
       "GDP($ in million)       1.391100e+04  5.620150e+04  3.604145e+05  1.794700e+07  \n",
       "Immigrants              9.970850e+04  2.964405e+05  1.215333e+06  4.662710e+07  \n",
       "Rain(ml)                5.432500e+02  1.027000e+03  1.588750e+03  3.142000e+03  \n",
       "Density(pop/mi)         5.863000e+01  1.764550e+02  3.064750e+02  2.957350e+03  \n",
       "Population              3.883750e+06  1.020650e+07  3.106350e+07  1.339190e+09  \n",
       "Area(mi)                2.267808e+04  8.706793e+04  2.834319e+05  6.592769e+06  \n",
       "Famine                  0.000000e+00  0.000000e+00  0.000000e+00  1.000000e+00  \n",
       "Female                  4.980000e+01  5.030000e+01  5.090000e+01  5.430000e+01  \n",
       "Male                    4.910000e+01  4.970000e+01  5.020000e+01  7.650000e+01  \n",
       "Civil                   0.000000e+00  0.000000e+00  0.000000e+00  1.000000e+00  \n",
       "Poverty                 1.712500e+01  2.945106e+01  3.600000e+01  8.000000e+01  "
      ]
     },
     "execution_count": 101,
     "metadata": {},
     "output_type": "execute_result"
    }
   ],
   "source": [
    "final_df.describe().T"
   ]
  },
  {
   "cell_type": "code",
   "execution_count": 102,
   "metadata": {
    "collapsed": false
   },
   "outputs": [
    {
     "data": {
      "image/png": "[encoded data removed]",
      "text/plain": [
       "<matplotlib.figure.Figure at 0x118042850>"
      ]
     },
     "metadata": {},
     "output_type": "display_data"
    }
   ],
   "source": [
    "heat = sns.heatmap(final_df.corr())\n",
    "heat\n",
    "fig = heat.get_figure()\n",
    "fig.savefig(\"../Images/HeatMap.png\")"
   ]
  },
  {
   "cell_type": "code",
   "execution_count": 103,
   "metadata": {
    "collapsed": false
   },
   "outputs": [
    {
     "data": {
      "image/png": "[encoded data removed]",
      "text/plain": [
       "<matplotlib.figure.Figure at 0x11a11dd90>"
      ]
     },
     "metadata": {},
     "output_type": "display_data"
    }
   ],
   "source": [
    "g = sns.jointplot(\"Rain(ml)\", \"Refugees_2015\", data=final_df, kind=\"reg\")\n",
    "#Negative relationship between rain fall and Refugees 2015"
   ]
  },
  {
   "cell_type": "code",
   "execution_count": 104,
   "metadata": {
    "collapsed": false
   },
   "outputs": [
    {
     "data": {
      "image/png": "[encoded data removed]",
      "text/plain": [
       "<matplotlib.figure.Figure at 0x11cccc9d0>"
      ]
     },
     "metadata": {},
     "output_type": "display_data"
    }
   ],
   "source": [
    "g = sns.jointplot(\"Immigrants\", \"Refugees_2015\", data=final_df, kind=\"reg\")\n",
    "#Positive relationship between Immigrants and number of Refugees (2015)"
   ]
  },
  {
   "cell_type": "code",
   "execution_count": 105,
   "metadata": {
    "collapsed": false
   },
   "outputs": [
    {
     "data": {
      "text/plain": [
       "<matplotlib.axes._subplots.AxesSubplot at 0x11cc95150>"
      ]
     },
     "execution_count": 105,
     "metadata": {},
     "output_type": "execute_result"
    },
    {
     "data": {
      "image/png": "[encoded data removed]",
      "text/plain": [
       "<matplotlib.figure.Figure at 0x11d1d5b50>"
      ]
     },
     "metadata": {},
     "output_type": "display_data"
    }
   ],
   "source": [
    "continent = final_df.groupby('Continent')[['Refugees_2010', 'Refugees_2015']].mean().plot(kind = 'bar')\n",
    "continent"
   ]
  },
  {
   "cell_type": "code",
   "execution_count": 106,
   "metadata": {
    "collapsed": false
   },
   "outputs": [
    {
     "data": {
      "text/plain": [
       "<matplotlib.axes._subplots.AxesSubplot at 0x11d64ba50>"
      ]
     },
     "execution_count": 106,
     "metadata": {},
     "output_type": "execute_result"
    },
    {
     "data": {
      "image/png": "[encoded data removed]",
      "text/plain": [
       "<matplotlib.figure.Figure at 0x11e07b490>"
      ]
     },
     "metadata": {},
     "output_type": "display_data"
    }
   ],
   "source": [
    "final_df.groupby('Government')[['Refugees_2010', 'Refugees_2015']].mean().plot(kind = 'bar')"
   ]
  },
  {
   "cell_type": "code",
   "execution_count": 107,
   "metadata": {
    "collapsed": false
   },
   "outputs": [
    {
     "data": {
      "text/plain": [
       "<matplotlib.axes._subplots.AxesSubplot at 0x11ce75710>"
      ]
     },
     "execution_count": 107,
     "metadata": {},
     "output_type": "execute_result"
    },
    {
     "data": {
      "image/png": "[encoded data removed]",
      "text/plain": [
       "<matplotlib.figure.Figure at 0x11ce59050>"
      ]
     },
     "metadata": {},
     "output_type": "display_data"
    }
   ],
   "source": [
    "#Based on the line graph Africa has the most number of Children out of school, while North America has the most \n",
    "#murders. Overall Europe has the lowest value for both Murder Rate and Children out of school. \n",
    "final_df.groupby('Continent')[['Murder Rate', 'Children_out_of_school']].mean().plot(kind = 'line')"
   ]
  },
  {
   "cell_type": "code",
   "execution_count": 108,
   "metadata": {
    "collapsed": false
   },
   "outputs": [
    {
     "data": {
      "text/plain": [
       "<matplotlib.axes._subplots.AxesSubplot at 0x11ce68e10>"
      ]
     },
     "execution_count": 108,
     "metadata": {},
     "output_type": "execute_result"
    },
    {
     "data": {
      "image/png": "[encoded data removed]",
      "text/plain": [
       "<matplotlib.figure.Figure at 0x11cc95e90>"
      ]
     },
     "metadata": {},
     "output_type": "display_data"
    }
   ],
   "source": [
    "ref_2010 = final_df[(final_df.Refugees_2010 > 100000) & (final_df.Refugees_2015 > 100000)]\n",
    "ref_2010.plot(kind='barh',x='Country',y=['Refugees_2010', 'Refugees_2015'],figsize=(10,10),color = ['red', 'purple'])"
   ]
  },
  {
   "cell_type": "code",
   "execution_count": 109,
   "metadata": {
    "collapsed": false
   },
   "outputs": [
    {
     "data": {
      "text/plain": [
       "<seaborn.axisgrid.PairGrid at 0x11c591490>"
      ]
     },
     "execution_count": 109,
     "metadata": {},
     "output_type": "execute_result"
    },
    {
     "data": {
      "image/png": "[encoded data removed]",
      "text/plain": [
       "<matplotlib.figure.Figure at 0x11e15b850>"
      ]
     },
     "metadata": {},
     "output_type": "display_data"
    }
   ],
   "source": [
    "refugee_sub = final_df[['Refugees_2010', 'Refugees_2015', 'Population', 'Famine', 'Female', 'Male', 'Area(mi)', 'Murder Rate']]\n",
    "sns.pairplot(refugee_sub)"
   ]
  },
  {
   "cell_type": "markdown",
   "metadata": {},
   "source": [
    "# Data Dictionary"
   ]
  },
  {
   "cell_type": "code",
   "execution_count": 110,
   "metadata": {
    "collapsed": false
   },
   "outputs": [
    {
     "data": {
      "text/plain": [
       "Index([u'Country', u'Key', u'Continent', u'Refugees_2010', u'Refugees_2015',\n",
       "       u'Murder Rate', u'Children_out_of_school', u'Government',\n",
       "       u'GDP($ in million)', u'Immigrants', u'Rain(ml)', u'Density(pop/mi)',\n",
       "       u'Population', u'Area(mi)', u'Famine', u'Female', u'Male', u'Civil',\n",
       "       u'Poverty'],\n",
       "      dtype='object')"
      ]
     },
     "execution_count": 110,
     "metadata": {},
     "output_type": "execute_result"
    }
   ],
   "source": [
    "final_df.columns"
   ]
  },
  {
   "cell_type": "code",
   "execution_count": 111,
   "metadata": {
    "collapsed": false
   },
   "outputs": [
    {
     "data": {
      "text/plain": [
       "{'Area(mi)': [dtype('float64'), 'Area in miles', 162],\n",
       " 'Children_out_of_school': [dtype('float64'),\n",
       "  'Number of children out of primary school/1000',\n",
       "  162],\n",
       " 'Continent': [dtype('O'), 'Continent of the Country', 162],\n",
       " 'Country': [dtype('O'), 'Country of the World', 162],\n",
       " 'Density(pop/mi)': [dtype('float64'),\n",
       "  'Density based on population and miles',\n",
       "  162],\n",
       " 'Famine': [dtype('float64'),\n",
       "  'If there is a major famine in the past 10 years',\n",
       "  162],\n",
       " 'Female': [dtype('float64'), 'Percentage of female population', 162],\n",
       " 'GDP($ in million)': [dtype('float64'), 'GDP in US$ millions', 162],\n",
       " 'Government': [dtype('O'), 'Government of the Country', 162],\n",
       " 'Immigrants': [dtype('float64'), 'Number of Immigrant Population', 162],\n",
       " 'Key': [dtype('O'), 'Key used for Folium', 162],\n",
       " 'Male': [dtype('float64'), 'Percentage of male population', 162],\n",
       " 'Murder Rate': [dtype('float64'), 'Murder Rate per 100,000', 162],\n",
       " 'Population': [dtype('float64'), 'Population for each country', 162],\n",
       " 'Poverty': [dtype('float64'), 'Percentage of poverty', 162],\n",
       " 'Rain(ml)': [dtype('float64'), 'Rain in ml per year/1000', 162],\n",
       " 'Refugees_2010': [dtype('float64'), 'Refugees in 2010', 162],\n",
       " 'Refugees_2015': [dtype('float64'), 'Refugees in 2015', 162]}"
      ]
     },
     "execution_count": 111,
     "metadata": {},
     "output_type": "execute_result"
    }
   ],
   "source": [
    "data_dict = { 'Country' : [final_df['Country'].dtypes, 'Country of the World', len(final_df['Country'])],\n",
    "               'Key' : [final_df['Key'].dtypes, 'Key used for Folium', len(final_df['Key'])],\n",
    "               'Continent' : [final_df['Continent'].dtypes, 'Continent of the Country', len(final_df['Continent'])],\n",
    "               'Refugees_2010' : [final_df['Refugees_2010'].dtypes, 'Refugees in 2010', len(final_df['Refugees_2010'])],\n",
    "               'Refugees_2015' : [final_df['Refugees_2015'].dtypes, 'Refugees in 2015', len(final_df['Refugees_2015'])],\n",
    "               'Murder Rate' : [final_df['Murder Rate'].dtypes, 'Murder Rate per 100,000', len(final_df['Murder Rate'])],\n",
    "               'Children_out_of_school' : [final_df['Children_out_of_school'].dtypes, 'Number of children out of primary school/1000', len(final_df['Children_out_of_school'])],\n",
    "               'Government' : [final_df['Government'].dtypes, 'Government of the Country', len(final_df['Government'])],\n",
    "               'GDP($ in million)' : [final_df['GDP($ in million)'].dtypes, 'GDP in US$ millions', len(final_df['GDP($ in million)'])],\n",
    "               'Immigrants' : [final_df['Immigrants'].dtypes, 'Number of Immigrant Population', len(final_df['Immigrants'])],\n",
    "               'Rain(ml)' : [final_df['Rain(ml)'].dtypes, 'Rain in ml per year/1000', len(final_df['Rain(ml)'])],\n",
    "               'Density(pop/mi)' : [final_df['Density(pop/mi)'].dtypes, 'Density based on population and miles', len(final_df['Density(pop/mi)'])],\n",
    "               'Population' : [final_df['Population'].dtypes, 'Population for each country', len(final_df['Population'])],\n",
    "               'Area(mi)' : [final_df['Area(mi)'].dtypes, 'Area in miles', len(final_df['Area(mi)'])],\n",
    "               'Famine': [final_df['Famine'].dtypes, 'If there is a major famine in the past 10 years', len(final_df['Famine'])],\n",
    "               'Female': [final_df['Female'].dtypes, 'Percentage of female population', len(final_df['Female'])],\n",
    "               'Male' : [final_df['Male'].dtypes, 'Percentage of male population', len(final_df['Male'])],\n",
    "               'Poverty' : [final_df['Poverty'].dtypes, 'Percentage of poverty', len(final_df['Poverty'])]\n",
    "            }\n",
    "\n",
    "data_dict"
   ]
  },
  {
   "cell_type": "code",
   "execution_count": 112,
   "metadata": {
    "collapsed": true
   },
   "outputs": [],
   "source": [
    "final_df.to_csv('../Data/final_df_copy.csv', header=True, index=False, encoding='utf-8')"
   ]
  },
  {
   "cell_type": "code",
   "execution_count": 113,
   "metadata": {
    "collapsed": false
   },
   "outputs": [
    {
     "name": "stderr",
     "output_type": "stream",
     "text": [
      "/anaconda/envs/dsi/lib/python2.7/site-packages/ipykernel/__main__.py:3: FutureWarning: using '-' to provide set differences with Indexes is deprecated, use .difference()\n",
      "  app.launch_new_instance()\n",
      "/anaconda/envs/dsi/lib/python2.7/site-packages/ipykernel/__main__.py:8: FutureWarning: using '-' to provide set differences with Indexes is deprecated, use .difference()\n",
      "//anaconda/envs/dsi/lib/python2.7/site-packages/pandas/core/frame.py:2754: SettingWithCopyWarning: \n",
      "A value is trying to be set on a copy of a slice from a DataFrame\n",
      "\n",
      "See the caveats in the documentation: http://pandas.pydata.org/pandas-docs/stable/indexing.html#indexing-view-versus-copy\n",
      "  **kwargs)\n"
     ]
    }
   ],
   "source": [
    "#This code is formatting the csv for my future project\n",
    "\n",
    "#2010 Refugees csv\n",
    "ref2010 = final_df.filter(regex = '2015')\n",
    "col = final_df.columns - ref2010.columns\n",
    "final_df_2010 = final_df[col]\n",
    "\n",
    "#2015 Refugees csv\n",
    "ref2015 = final_df.filter(regex = '2010')\n",
    "col = final_df.columns - ref2015.columns\n",
    "final_df_2015 = final_df[col]\n",
    "\n",
    "final_df_2010.rename(columns = {'Refugees_2010' : 'Refugees'}, inplace = True)\n",
    "final_df_2015.rename(columns = {'Refugees_2015' : 'Refugees'}, inplace = True)\n",
    "\n",
    "i = 0\n",
    "yearList = []\n",
    "while i < len(final_df_2010):\n",
    "    yearList.append(2010)\n",
    "    i+=1\n",
    "final_df_2010['Year'] = yearList\n",
    "    \n",
    "j = 0\n",
    "yearList2 = []\n",
    "while j < len(final_df_2015):\n",
    "    yearList2.append(2015)\n",
    "    j+=1  \n",
    "final_df_2015['Year'] = yearList2\n",
    "\n",
    "final_df_2010.to_csv('/Users/nsivapra/Desktop/Capstone_Visual/Refugees_2010.csv', header=True, index=False, encoding='utf-8')\n",
    "final_df_2015.to_csv('/Users/nsivapra/Desktop/Capstone_Visual/Refugees_2015.csv', header=True, index=False, encoding='utf-8')"
   ]
  }
 ],
 "metadata": {
  "anaconda-cloud": {},
  "kernelspec": {
   "display_name": "Python [dsi]",
   "language": "python",
   "name": "Python [dsi]"
  },
  "language_info": {
   "codemirror_mode": {
    "name": "ipython",
    "version": 2
   },
   "file_extension": ".py",
   "mimetype": "text/x-python",
   "name": "python",
   "nbconvert_exporter": "python",
   "pygments_lexer": "ipython2",
   "version": "2.7.12"
  }
 },
 "nbformat": 4,
 "nbformat_minor": 0
}
